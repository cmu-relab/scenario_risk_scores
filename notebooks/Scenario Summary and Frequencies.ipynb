{
 "cells": [
  {
   "cell_type": "markdown",
   "metadata": {},
   "source": [
    "# Notebook Overview\n",
    "\n",
    "This notebook summarized statistics about the pre- and post-labeled scenario data, \n",
    "excluding author information."
   ]
  },
  {
   "cell_type": "code",
   "execution_count": 1,
   "metadata": {},
   "outputs": [],
   "source": [
    "import json\n",
    "\n",
    "data1 = json.load(open('../datasets/scenarios1.json'))\n",
    "data2 = json.load(open('../datasets/scenarios2_200.json'))"
   ]
  },
  {
   "cell_type": "code",
   "execution_count": 16,
   "metadata": {},
   "outputs": [],
   "source": [
    "from collections import Counter\n",
    "import nltk\n",
    "\n",
    "apple_url = 'https://apps.apple.com'\n",
    "googl_url = 'https://play.google.com'\n",
    "\n",
    "def summarize(data):\n",
    "    app_urls = Counter()\n",
    "    stores = Counter()\n",
    "    sent_count = 0\n",
    "    for d in data:\n",
    "        # count app url without parameters (Google only)\n",
    "        url = d['app_url'].split('&')[0]\n",
    "        app_urls[url] += 1\n",
    "        \n",
    "        # count app store by url prefix\n",
    "        if url.startswith(apple_url):\n",
    "            stores[apple_url] += 1\n",
    "        elif url.startswith(googl_url):\n",
    "            stores[googl_url] += 1\n",
    "            \n",
    "        # count sentences\n",
    "        sent = nltk.sent_tokenize(d['text'])\n",
    "        sent_count += len(sent)\n",
    "\n",
    "    print('Scenarios: %i' % len(data))\n",
    "    print('Apple App: %i' % stores[apple_url])\n",
    "    print('Google Play: %i' % stores[googl_url])\n",
    "    print('Unique Apps: %i' % len(app_urls.keys()))\n",
    "    print('Sentences: %i' % sent_count)"
   ]
  },
  {
   "cell_type": "code",
   "execution_count": 17,
   "metadata": {},
   "outputs": [
    {
     "name": "stdout",
     "output_type": "stream",
     "text": [
      "*** General Scenarios ***\n",
      "Scenarios: 100\n",
      "Apple App: 38\n",
      "Google Play: 62\n",
      "Unique Apps: 84\n",
      "Sentences: 810\n"
     ]
    }
   ],
   "source": [
    "print('*** General Scenarios ***')\n",
    "summarize(data1)"
   ]
  },
  {
   "cell_type": "code",
   "execution_count": 18,
   "metadata": {},
   "outputs": [
    {
     "name": "stdout",
     "output_type": "stream",
     "text": [
      "*** Privacy Scenarios ***\n",
      "Scenarios: 200\n",
      "Apple App: 68\n",
      "Google Play: 132\n",
      "Unique Apps: 134\n",
      "Sentences: 1616\n"
     ]
    }
   ],
   "source": [
    "print('*** Privacy Scenarios ***')\n",
    "summarize(data2)"
   ]
  },
  {
   "cell_type": "code",
   "execution_count": null,
   "metadata": {},
   "outputs": [],
   "source": []
  }
 ],
 "metadata": {
  "kernelspec": {
   "display_name": "base",
   "language": "python",
   "name": "base"
  },
  "language_info": {
   "codemirror_mode": {
    "name": "ipython",
    "version": 3
   },
   "file_extension": ".py",
   "mimetype": "text/x-python",
   "name": "python",
   "nbconvert_exporter": "python",
   "pygments_lexer": "ipython3",
   "version": "3.8.5"
  }
 },
 "nbformat": 4,
 "nbformat_minor": 4
}
