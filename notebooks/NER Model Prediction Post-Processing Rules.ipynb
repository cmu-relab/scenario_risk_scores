{
 "cells": [
  {
   "cell_type": "code",
   "execution_count": 4,
   "metadata": {},
   "outputs": [
    {
     "name": "stdout",
     "output_type": "stream",
     "text": [
      "Collecting transformers\n",
      "  Using cached transformers-4.26.0-py3-none-any.whl (6.3 MB)\n",
      "Requirement already satisfied, skipping upgrade: regex!=2019.12.17 in /Users/breaux/opt/anaconda3/lib/python3.8/site-packages (from transformers) (2022.4.24)\n",
      "Requirement already satisfied, skipping upgrade: pyyaml>=5.1 in /Users/breaux/opt/anaconda3/lib/python3.8/site-packages (from transformers) (5.3.1)\n",
      "Requirement already satisfied, skipping upgrade: packaging>=20.0 in /Users/breaux/opt/anaconda3/lib/python3.8/site-packages (from transformers) (21.3)\n",
      "Requirement already satisfied, skipping upgrade: requests in /Users/breaux/opt/anaconda3/lib/python3.8/site-packages (from transformers) (2.24.0)\n",
      "Requirement already satisfied, skipping upgrade: tqdm>=4.27 in /Users/breaux/opt/anaconda3/lib/python3.8/site-packages (from transformers) (4.64.0)\n",
      "Collecting tokenizers!=0.11.3,<0.14,>=0.11.1\n",
      "  Using cached tokenizers-0.13.2-cp38-cp38-macosx_10_11_x86_64.whl (3.8 MB)\n",
      "Requirement already satisfied, skipping upgrade: filelock in /Users/breaux/opt/anaconda3/lib/python3.8/site-packages (from transformers) (3.6.0)\n",
      "Requirement already satisfied, skipping upgrade: numpy>=1.17 in /Users/breaux/opt/anaconda3/lib/python3.8/site-packages (from transformers) (1.19.2)\n",
      "Collecting huggingface-hub<1.0,>=0.11.0\n",
      "  Using cached huggingface_hub-0.12.0-py3-none-any.whl (190 kB)\n",
      "Requirement already satisfied, skipping upgrade: pyparsing!=3.0.5,>=2.0.2 in /Users/breaux/opt/anaconda3/lib/python3.8/site-packages (from packaging>=20.0->transformers) (2.4.7)\n",
      "Requirement already satisfied, skipping upgrade: chardet<4,>=3.0.2 in /Users/breaux/opt/anaconda3/lib/python3.8/site-packages (from requests->transformers) (3.0.4)\n",
      "Requirement already satisfied, skipping upgrade: urllib3!=1.25.0,!=1.25.1,<1.26,>=1.21.1 in /Users/breaux/opt/anaconda3/lib/python3.8/site-packages (from requests->transformers) (1.25.11)\n",
      "Requirement already satisfied, skipping upgrade: idna<3,>=2.5 in /Users/breaux/opt/anaconda3/lib/python3.8/site-packages (from requests->transformers) (2.10)\n",
      "Requirement already satisfied, skipping upgrade: certifi>=2017.4.17 in /Users/breaux/opt/anaconda3/lib/python3.8/site-packages (from requests->transformers) (2020.6.20)\n",
      "Requirement already satisfied, skipping upgrade: typing-extensions>=3.7.4.3 in /Users/breaux/opt/anaconda3/lib/python3.8/site-packages (from huggingface-hub<1.0,>=0.11.0->transformers) (3.7.4.3)\n",
      "Installing collected packages: tokenizers, huggingface-hub, transformers\n",
      "  Attempting uninstall: tokenizers\n",
      "    Found existing installation: tokenizers 0.10.1\n",
      "    Uninstalling tokenizers-0.10.1:\n",
      "      Successfully uninstalled tokenizers-0.10.1\n",
      "  Attempting uninstall: huggingface-hub\n",
      "    Found existing installation: huggingface-hub 0.5.1\n",
      "    Uninstalling huggingface-hub-0.5.1:\n",
      "      Successfully uninstalled huggingface-hub-0.5.1\n",
      "  Attempting uninstall: transformers\n",
      "    Found existing installation: transformers 4.3.3\n",
      "    Uninstalling transformers-4.3.3:\n",
      "      Successfully uninstalled transformers-4.3.3\n",
      "\u001b[31mERROR: After October 2020 you may experience errors when installing or updating packages. This is because pip will change the way that it resolves dependency conflicts.\n",
      "\n",
      "We recommend you use --use-feature=2020-resolver to test your packages with the new resolver before it becomes the default.\n",
      "\n",
      "cached-path 1.1.2 requires huggingface-hub<0.6.0,>=0.0.12, but you'll have huggingface-hub 0.12.0 which is incompatible.\n",
      "allennlp 2.9.3 requires transformers<4.19,>=4.1, but you'll have transformers 4.26.0 which is incompatible.\n",
      "allennlp 2.9.3 requires typer>=0.4.1, but you'll have typer 0.3.2 which is incompatible.\u001b[0m\n",
      "Successfully installed huggingface-hub-0.12.0 tokenizers-0.13.2 transformers-4.26.0\n"
     ]
    }
   ],
   "source": [
    "! pip install transformers\n",
    "! pip install torch"
   ]
  },
  {
   "cell_type": "code",
   "execution_count": 2,
   "metadata": {},
   "outputs": [],
   "source": [
    "import transformers\n",
    "from transformers import AutoTokenizer, AutoModelForTokenClassification, pipeline\n",
    "\n",
    "# setup named entity recognizer using pre-trained model\n",
    "tokenizer = AutoTokenizer.from_pretrained(\"./model\")\n",
    "model = AutoModelForTokenClassification.from_pretrained(\"./model\",ignore_mismatched_sizes=True)\n",
    "nlp = pipeline(\"ner\", model=model, tokenizer=tokenizer, aggregation_strategy=\"first\")"
   ]
  },
  {
   "cell_type": "code",
   "execution_count": 4,
   "metadata": {},
   "outputs": [],
   "source": [
    "import json\n",
    "\n",
    "# read and merge the two scenario datasets\n",
    "scenarios = json.load(open('../datasets/scenarios1.json'))\n",
    "scenarios.extend(json.load(open('../datasets/scenarios2_200.json')))"
   ]
  },
  {
   "cell_type": "code",
   "execution_count": 5,
   "metadata": {},
   "outputs": [
    {
     "name": "stdout",
     "output_type": "stream",
     "text": [
      "300\n"
     ]
    }
   ],
   "source": [
    "print(len(scenarios))"
   ]
  },
  {
   "cell_type": "code",
   "execution_count": 72,
   "metadata": {},
   "outputs": [],
   "source": [
    "# extract entities from the scenario text (long running process)\n",
    "entities = []\n",
    "for scenario in scenarios:\n",
    "    results = nlp(scenario['text'])\n",
    "    for r in results:\n",
    "        r['text'] = scenario['text']\n",
    "        entities.append(r)"
   ]
  },
  {
   "cell_type": "code",
   "execution_count": 77,
   "metadata": {},
   "outputs": [
    {
     "name": "stdout",
     "output_type": "stream",
     "text": [
      "Found 4723 entities across 300 scenarios.\n"
     ]
    }
   ],
   "source": [
    "print('Found %i entities across %i scenarios.' % (len(entities), len(scenarios)))"
   ]
  },
  {
   "cell_type": "code",
   "execution_count": 143,
   "metadata": {},
   "outputs": [
    {
     "name": "stdout",
     "output_type": "stream",
     "text": [
      "Unable to find word 45/4723 boundaries.\n"
     ]
    }
   ],
   "source": [
    "import nltk\n",
    "\n",
    "# returns the start and end word indices for the phrase in words\n",
    "def word_index(words, phrase, start_char):\n",
    "    # correct certain parse errors\n",
    "    extras = [\"' \", \" - \", \" / \"]\n",
    "    for i in range(len(extras)):\n",
    "        j = phrase.find(extras[i])\n",
    "        if j >= 0:\n",
    "            phrase = phrase[:j] + extras[i].strip() + phrase[j+len(extras[i]):]\n",
    "        \n",
    "    # using the start char, find the first and last word index for phrase\n",
    "    char_index = 0\n",
    "    phrase_len = len(phrase.split())\n",
    "    for i in range(len(words)):\n",
    "        char_index += len(words[i])\n",
    "        if char_index + i >= start_char:\n",
    "            j = i\n",
    "            while i < len(words):\n",
    "                if i + phrase_len > len(words):\n",
    "                    return None\n",
    "                elif ' '.join(words[i:i + phrase_len]) == phrase:\n",
    "                    return (i, i + phrase_len)\n",
    "                i += 1\n",
    "    return None\n",
    "\n",
    "# construct word, tag lists for phrase and words to the left and right of phrase\n",
    "errors = 0\n",
    "parsed = {}\n",
    "for e in entities:\n",
    "    # reuse the tagged scenario texts\n",
    "    if not e['text'] in parsed:\n",
    "        tags = nltk.pos_tag(nltk.word_tokenize(e['text']))\n",
    "        parsed[e['text']] = tags\n",
    "    tags = parsed[e['text']]\n",
    "    \n",
    "    # create separate word list and use to estimate word indices from char indices\n",
    "    words = [w for (w, p) in tags]\n",
    "    index = word_index(words, e['word'], e['start'])\n",
    "    \n",
    "    # save the associated word, tag lists\n",
    "    e['p_words'] = nltk.pos_tag(nltk.word_tokenize(e['text'][e['start']:e['end']]))\n",
    "    if not index:\n",
    "        e['l_words'] = []\n",
    "        e['r_words'] = []\n",
    "        errors += 1\n",
    "    else:\n",
    "        e['r_words'] = tags[index[1]:index[1] + 3]\n",
    "        e['l_words'] = tags[index[0] - 3:index[1]]\n",
    "        \n",
    "# report any phrases that could not be indexed\n",
    "print('Unable to find word %i/%i boundaries.' % (errors, len(entities)))"
   ]
  },
  {
   "cell_type": "code",
   "execution_count": 150,
   "metadata": {},
   "outputs": [
    {
     "name": "stdout",
     "output_type": "stream",
     "text": [
      "Filtered from 4723 to 4499 unique entities\n",
      "Excluded 224 entites\n"
     ]
    }
   ],
   "source": [
    "import nltk\n",
    "\n",
    "# filter out incomplete phrases based on a few simple rules\n",
    "filtered = []\n",
    "excluded = []\n",
    "for e in entities:\n",
    "    pos = e['p_words']\n",
    "    # remove phrases ending in 'the', 'a', 'and', 'or,' or 'your', for example\n",
    "    if pos[-1][1].startswith('DT') or pos[-1][1].startswith('CC') or pos[-1][1].startswith('PRP$'):\n",
    "        excluded.append((1, e['word'], pos))\n",
    "    # remove phrases beginning with POS\n",
    "    elif pos[0][1] == 'POS' or pos[0][0] == 'of' or pos[0][1] == 'CC':\n",
    "        excluded.append((3, e['word'], pos))\n",
    "    # remove phrases less than two words not ending in NN or VBG\n",
    "    elif len(pos) == 1 and not pos[0][1].startswith('NN') and not pos[0][1].startswith('VBG'):\n",
    "        excluded.append((2, e['word'], pos))\n",
    "    elif len(pos) == 2 and not pos[0][1].startswith('NN') and not pos[1][1].startswith('NN') and not pos[1][1].startswith('VBG'):\n",
    "        excluded.append((2, e['word'], pos))\n",
    "    else:\n",
    "        filtered.append(e)\n",
    "\n",
    "# print the excluded phrases and rule used to exclude\n",
    "#for i in range(len(excluded)): print(excluded[i])\n",
    "    \n",
    "print('Filtered from %i to %i unique entities' % (len(entities), len(filtered)))\n",
    "print('Excluded %i entites' % len(excluded))\n",
    "\n",
    "# False positives = 0.38 * 4723 = 1571, true positives = 3152\n",
    "# Enhanced precision = 3152 / 4499 = 0.70"
   ]
  },
  {
   "cell_type": "code",
   "execution_count": 145,
   "metadata": {},
   "outputs": [
    {
     "name": "stdout",
     "output_type": "stream",
     "text": [
      "Found 1944 unique entities.\n"
     ]
    }
   ],
   "source": [
    "# remove duplicate phrases for easier analysis\n",
    "unique = set()\n",
    "results = []\n",
    "duplicate = 0\n",
    "for e in filtered:\n",
    "    phrase = e['word'].lower()\n",
    "    if phrase in unique:\n",
    "        duplicate += 1\n",
    "    else:\n",
    "        unique.add(phrase)\n",
    "        results.append([phrase, e['l_words'], e['r_words'], e['pos']])\n",
    "\n",
    "print('Found %i unique entities.' % len(unique))"
   ]
  },
  {
   "cell_type": "code",
   "execution_count": 146,
   "metadata": {},
   "outputs": [],
   "source": [
    "import csv\n",
    "\n",
    "# sort phrases alphabetically\n",
    "results.sort(key=lambda x:x[0])\n",
    "\n",
    "# write phrases to a file\n",
    "with open('entities_300.csv', 'w') as f:\n",
    "    writer = csv.writer(f)\n",
    "    for row in results:\n",
    "        writer.writerow(row)"
   ]
  },
  {
   "cell_type": "code",
   "execution_count": null,
   "metadata": {},
   "outputs": [],
   "source": []
  }
 ],
 "metadata": {
  "kernelspec": {
   "display_name": "base",
   "language": "python",
   "name": "base"
  },
  "language_info": {
   "codemirror_mode": {
    "name": "ipython",
    "version": 3
   },
   "file_extension": ".py",
   "mimetype": "text/x-python",
   "name": "python",
   "nbconvert_exporter": "python",
   "pygments_lexer": "ipython3",
   "version": "3.8.5"
  }
 },
 "nbformat": 4,
 "nbformat_minor": 4
}
