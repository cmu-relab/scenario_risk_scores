{
 "cells": [
  {
   "cell_type": "markdown",
   "metadata": {},
   "source": [
    "# Analyze scenarios from two raters\n",
    "\n",
    "This notebook parses scenarios annotated using a pre-agreed coding frame to compute the inter-rater agreement Kappa statistic for above-chance agreement, and to review agreements and disagreements.\n",
    "\n",
    "The notebook also creates a file that includes the labeled words to identify code mismatches between the two raters."
   ]
  },
  {
   "cell_type": "code",
   "execution_count": 3,
   "metadata": {},
   "outputs": [
    {
     "name": "stdout",
     "output_type": "stream",
     "text": [
      "Requirement already satisfied: spacy in d:\\install\\anaconda\\lib\\site-packages (3.4.1)\n",
      "Requirement already satisfied: preshed<3.1.0,>=3.0.2 in d:\\install\\anaconda\\lib\\site-packages (from spacy) (3.0.7)\n",
      "Requirement already satisfied: spacy-loggers<2.0.0,>=1.0.0 in d:\\install\\anaconda\\lib\\site-packages (from spacy) (1.0.3)\n",
      "Requirement already satisfied: spacy-legacy<3.1.0,>=3.0.9 in d:\\install\\anaconda\\lib\\site-packages (from spacy) (3.0.10)\n",
      "Requirement already satisfied: pathy>=0.3.5 in d:\\install\\anaconda\\lib\\site-packages (from spacy) (0.6.2)\n",
      "Requirement already satisfied: srsly<3.0.0,>=2.4.3 in d:\\install\\anaconda\\lib\\site-packages (from spacy) (2.4.4)\n",
      "Requirement already satisfied: numpy>=1.15.0 in d:\\install\\anaconda\\lib\\site-packages (from spacy) (1.20.3)\n",
      "Requirement already satisfied: wasabi<1.1.0,>=0.9.1 in d:\\install\\anaconda\\lib\\site-packages (from spacy) (0.10.1)\n",
      "Requirement already satisfied: pydantic!=1.8,!=1.8.1,<1.10.0,>=1.7.4 in d:\\install\\anaconda\\lib\\site-packages (from spacy) (1.9.2)\n",
      "Requirement already satisfied: cymem<2.1.0,>=2.0.2 in d:\\install\\anaconda\\lib\\site-packages (from spacy) (2.0.6)\n",
      "Requirement already satisfied: setuptools in d:\\install\\anaconda\\lib\\site-packages (from spacy) (58.0.4)\n",
      "Requirement already satisfied: jinja2 in d:\\install\\anaconda\\lib\\site-packages (from spacy) (2.11.3)\n",
      "Requirement already satisfied: catalogue<2.1.0,>=2.0.6 in d:\\install\\anaconda\\lib\\site-packages (from spacy) (2.0.8)\n",
      "Requirement already satisfied: requests<3.0.0,>=2.13.0 in d:\\install\\anaconda\\lib\\site-packages (from spacy) (2.26.0)\n",
      "Requirement already satisfied: typer<0.5.0,>=0.3.0 in d:\\install\\anaconda\\lib\\site-packages (from spacy) (0.4.2)\n",
      "Requirement already satisfied: packaging>=20.0 in d:\\install\\anaconda\\lib\\site-packages (from spacy) (21.0)\n",
      "Requirement already satisfied: thinc<8.2.0,>=8.1.0 in d:\\install\\anaconda\\lib\\site-packages (from spacy) (8.1.1)\n",
      "Requirement already satisfied: murmurhash<1.1.0,>=0.28.0 in d:\\install\\anaconda\\lib\\site-packages (from spacy) (1.0.8)Note: you may need to restart the kernel to use updated packages.\n",
      "\n",
      "Requirement already satisfied: langcodes<4.0.0,>=3.2.0 in d:\\install\\anaconda\\lib\\site-packages (from spacy) (3.3.0)\n",
      "Requirement already satisfied: tqdm<5.0.0,>=4.38.0 in d:\\install\\anaconda\\lib\\site-packages (from spacy) (4.62.3)\n",
      "Requirement already satisfied: pyparsing>=2.0.2 in d:\\install\\anaconda\\lib\\site-packages (from packaging>=20.0->spacy) (3.0.4)\n",
      "Requirement already satisfied: smart-open<6.0.0,>=5.2.1 in d:\\install\\anaconda\\lib\\site-packages (from pathy>=0.3.5->spacy) (5.2.1)\n",
      "Requirement already satisfied: typing-extensions>=3.7.4.3 in d:\\install\\anaconda\\lib\\site-packages (from pydantic!=1.8,!=1.8.1,<1.10.0,>=1.7.4->spacy) (3.10.0.2)\n",
      "Requirement already satisfied: idna<4,>=2.5 in d:\\install\\anaconda\\lib\\site-packages (from requests<3.0.0,>=2.13.0->spacy) (3.2)\n",
      "Requirement already satisfied: urllib3<1.27,>=1.21.1 in d:\\install\\anaconda\\lib\\site-packages (from requests<3.0.0,>=2.13.0->spacy) (1.26.7)\n",
      "Requirement already satisfied: charset-normalizer~=2.0.0 in d:\\install\\anaconda\\lib\\site-packages (from requests<3.0.0,>=2.13.0->spacy) (2.0.4)\n",
      "Requirement already satisfied: certifi>=2017.4.17 in d:\\install\\anaconda\\lib\\site-packages (from requests<3.0.0,>=2.13.0->spacy) (2021.10.8)\n",
      "Requirement already satisfied: confection<1.0.0,>=0.0.1 in d:\\install\\anaconda\\lib\\site-packages (from thinc<8.2.0,>=8.1.0->spacy) (0.0.1)\n",
      "Requirement already satisfied: blis<0.10.0,>=0.7.8 in d:\\install\\anaconda\\lib\\site-packages (from thinc<8.2.0,>=8.1.0->spacy) (0.9.1)\n",
      "Requirement already satisfied: colorama in d:\\install\\anaconda\\lib\\site-packages (from tqdm<5.0.0,>=4.38.0->spacy) (0.4.4)\n",
      "Requirement already satisfied: click<9.0.0,>=7.1.1 in d:\\install\\anaconda\\lib\\site-packages (from typer<0.5.0,>=0.3.0->spacy) (8.0.3)\n",
      "Requirement already satisfied: MarkupSafe>=0.23 in d:\\install\\anaconda\\lib\\site-packages (from jinja2->spacy) (1.1.1)\n",
      "✔ Download and installation successful\n",
      "You can now load the package via spacy.load('en_core_web_sm')\n"
     ]
    }
   ],
   "source": [
    "%pip install spacy\n",
    "import spacy.cli\n",
    "spacy.cli.download(\"en_core_web_sm\")"
   ]
  },
  {
   "cell_type": "code",
   "execution_count": 2,
   "metadata": {},
   "outputs": [],
   "source": [
    "from dataclasses import dataclass\n",
    "from lib_analysis import read_raw_sample\n",
    "\n",
    "read_raw_sample(\"../datasets/scenarios1.json\", 10, \"../datasets/sample3.txt\")"
   ]
  },
  {
   "cell_type": "code",
   "execution_count": 4,
   "metadata": {},
   "outputs": [],
   "source": [
    "from lib_analysis import read_and_parse_data, is_consistent\n",
    "from lib_analysis import read_data\n",
    "\n",
    "\n",
    "data1 = read_and_parse_data('../datasets/sample1-TH.json')\n",
    "data2 = read_and_parse_data('../datasets/sample1-vk-reann.json')"
   ]
  },
  {
   "cell_type": "code",
   "execution_count": 12,
   "metadata": {},
   "outputs": [
    {
     "name": "stdout",
     "output_type": "stream",
     "text": [
      "10\n"
     ]
    }
   ],
   "source": [
    "# extract all square brackets and write to excel\n",
    "import re\n",
    "# print(data1['MAS-G-0027'])\n",
    "# print(type(data1))\n",
    "# data1 = read_and_parse_data('../datasets/sample1-TH.json')\n",
    "# data2 = read_and_parse_data('../datasets/sample2-TH.txt')\n",
    "# data3 = read_and_parse_data('../datasets/sample3-TH.txt')\n",
    "# data = data1 | data2 | data3\n",
    "data = read_and_parse_data('../datasets/scenarios2_ex-TH.txt')\n",
    "print(len(data))\n",
    "phrases = []\n",
    "for key, value in data.items():\n",
    "    text = value['text']\n",
    "    # find and extract all patterns in square brackets\n",
    "    # phrases.append(re.findall(r'\\[(.*?)\\]', text))\n",
    "    phrases += re.findall(r'\\[(.*?)\\]', text)\n",
    "# write to excel\n",
    "import pandas as pd\n",
    "df = pd.DataFrame(phrases)\n",
    "df.to_excel('scenario2.xlsx', index=False)\n"
   ]
  },
  {
   "cell_type": "code",
   "execution_count": 2,
   "metadata": {},
   "outputs": [
    {
     "name": "stdout",
     "output_type": "stream",
     "text": [
      "{'scenario_id': 'MAS-G-0040', 'text': \"This is the Reddit Is Fun mobile app for Reddit. The page is from the [subreddit] r/all where all the [hot posts of the day] are posted. My goal is to either get the [most important news] or [funny content] for the day or hour. On r/all, it would be for the day. If I switch the tab to top, there's [timeframes] that I can pick. I will usually pick 1 hour which will show me the [top content within the hour]. If I don't have time, I only scroll r/all. \\n \\n \\n I can skim the [titles] for the ones I'm interested in reading further details about. Sometimes there may be a lot of [news] if it's a newsworthy day, and sometimes there isn't much [news] and it will be full of [entertainment posts]. I do this to keep up with [news] in one place while also being entertained. It's nice to just have one place to go to instead of a miriad of sites.\\n \\n\", 'clean_text': \"This is the Reddit Is Fun mobile app for Reddit. The page is from the subreddit r/all where all the hot posts of the day are posted. My goal is to either get the most important news or funny content for the day or hour. On r/all, it would be for the day. If I switch the tab to top, there's timeframes that I can pick. I will usually pick 1 hour which will show me the top content within the hour. If I don't have time, I only scroll r/all. \\n \\n \\n I can skim the titles for the ones I'm interested in reading further details about. Sometimes there may be a lot of news if it's a newsworthy day, and sometimes there isn't much news and it will be full of entertainment posts. I do this to keep up with news in one place while also being entertained. It's nice to just have one place to go to instead of a miriad of sites.\\n \\n\", 'words': ['This', 'is', 'the', 'Reddit', 'Is', 'Fun', 'mobile', 'app', 'for', 'Reddit', '.', 'The', 'page', 'is', 'from', 'the', 'subreddit', 'r', '/', 'all', 'where', 'all', 'the', 'hot', 'posts', 'of', 'the', 'day', 'are', 'posted', '.', 'My', 'goal', 'is', 'to', 'either', 'get', 'the', 'most', 'important', 'news', 'or', 'funny', 'content', 'for', 'the', 'day', 'or', 'hour', '.', 'On', 'r', '/', 'all', ',', 'it', 'would', 'be', 'for', 'the', 'day', '.', 'If', 'I', 'switch', 'the', 'tab', 'to', 'top', ',', 'there', \"'s\", 'timeframes', 'that', 'I', 'can', 'pick', '.', 'I', 'will', 'usually', 'pick', '1', 'hour', 'which', 'will', 'show', 'me', 'the', 'top', 'content', 'within', 'the', 'hour', '.', 'If', 'I', 'do', \"n't\", 'have', 'time', ',', 'I', 'only', 'scroll', 'r', '/', 'all', '.', '\\n \\n \\n ', 'I', 'can', 'skim', 'the', 'titles', 'for', 'the', 'ones', 'I', \"'m\", 'interested', 'in', 'reading', 'further', 'details', 'about', '.', 'Sometimes', 'there', 'may', 'be', 'a', 'lot', 'of', 'news', 'if', 'it', \"'s\", 'a', 'newsworthy', 'day', ',', 'and', 'sometimes', 'there', 'is', \"n't\", 'much', 'news', 'and', 'it', 'will', 'be', 'full', 'of', 'entertainment', 'posts', '.', 'I', 'do', 'this', 'to', 'keep', 'up', 'with', 'news', 'in', 'one', 'place', 'while', 'also', 'being', 'entertained', '.', 'It', \"'s\", 'nice', 'to', 'just', 'have', 'one', 'place', 'to', 'go', 'to', 'instead', 'of', 'a', 'miriad', 'of', 'sites', '.', '\\n \\n'], 'codes': ['o', 'o', 'o', 'o', 'o', 'o', 'o', 'o', 'o', 'o', 'o', 'o', 'o', 'o', 'o', 'o', 'b-i', 'o', 'o', 'o', 'o', 'o', 'o', 'b-i', 'i-i', 'i-i', 'i-i', 'i-i', 'o', 'o', 'o', 'o', 'o', 'o', 'o', 'o', 'o', 'o', 'b-i', 'i-i', 'i-i', 'o', 'b-i', 'i-i', 'o', 'o', 'o', 'o', 'o', 'o', 'o', 'o', 'o', 'o', 'o', 'o', 'o', 'o', 'o', 'o', 'o', 'o', 'o', 'o', 'o', 'o', 'o', 'o', 'o', 'o', 'o', 'o', 'b-i', 'o', 'o', 'o', 'o', 'o', 'o', 'o', 'o', 'o', 'o', 'o', 'o', 'o', 'o', 'o', 'o', 'b-i', 'i-i', 'i-i', 'i-i', 'i-i', 'o', 'o', 'o', 'o', 'o', 'o', 'o', 'o', 'o', 'o', 'o', 'o', 'o', 'o', 'o', 'o', 'o', 'o', 'o', 'o', 'b-i', 'o', 'o', 'o', 'o', 'o', 'o', 'o', 'o', 'o', 'o', 'o', 'o', 'o', 'o', 'o', 'o', 'o', 'o', 'o', 'b-i', 'o', 'o', 'o', 'o', 'o', 'o', 'o', 'o', 'o', 'o', 'o', 'o', 'o', 'b-i', 'o', 'o', 'o', 'o', 'o', 'o', 'b-i', 'i-i', 'o', 'o', 'o', 'o', 'o', 'o', 'o', 'o', 'b-i', 'o', 'o', 'o', 'o', 'o', 'o', 'o', 'o', 'o', 'o', 'o', 'o', 'o', 'o', 'o', 'o', 'o', 'o', 'o', 'o', 'o', 'o', 'o', 'o', 'o', 'o', 'o'], 'scores': []}\n"
     ]
    }
   ],
   "source": [
    "from lib_analysis import read_and_parse_data, is_consistent\n",
    "from lib_analysis import read_data\n",
    "data1 = read_and_parse_data('../datasets/scenarios1_ex-TH.txt')\n",
    "print(data1['MAS-G-0040'])"
   ]
  },
  {
   "cell_type": "code",
   "execution_count": 26,
   "metadata": {},
   "outputs": [
    {
     "name": "stdout",
     "output_type": "stream",
     "text": [
      "[\"I purchase products and will sometimes leave reviews for them on this page, so some of the items I have purchased are on here and what I thought about them along with my name. They can click on my profile and see other things that I have bought and things that I rate good or bad. I share some personal information on these reviews like my height and weight ETC because some products arent accurate with this and I want other people to know that someone with similar build can use the product or not. Like for example there's an ab machine that I only purchased because someone had a similar build to me said that it worked fine with them, taller people need different machines because they have longer bodies. So I just want people to know how I feel about the products and if I have similar situations to them.\", 'I use this screen to view past grocery orders I\\'ve made and view/change my account settings. To get to this screen, I open the Instacart app on my phone. From the home page of the app, I clicked on the icon in the top left corner of the app page, and this screen comes up. From this page if I click \"Your Orders\" I can look at past orders so I can view my receipts. I can also re-add all the items from previous orders to my cart from that page. I can view my account settings and reset passwords. I can view my instacart+ subscription and cancel it from this page. I can also see what promos are available to me and how much I\\'ve saved on promos and discounts on my past orders. I can click \"Your Lists\" and make or alter my personal grocery lists for different stores.', 'This is the page before I take a picture with my camera to upload a receipt. I chose this one because the camera functionality would be harder to convey via screenshot. On this page, I can check all the items that are on my list to get cashback. Afterwards, I press the upload receipt button. This brings me to the camera function where I can snap a picture of my receipt. If I already have a picture, I can also go to my gallery and upload a receipt from there. If the app validates the store, date, and price total of the receipt, I can move on and validate the items the app automatically registered. I give my purchasing history data to the app in order to receive rebates on the items I purchase. I use this so I can get deals on the items I normally purchase or get good prices on items I may not get all that often.', \"There is an account button on the bottom of the main part of the app. Within the overall account section there is an account subsection that I tap on. I don't use this particular screen often but sometimes I need to update some of the data (for example, I am switching all of my account emails from gmail to proton mail.) Once on the screen it is easy to use just by tapping on the element that I want to check or change. Some of it is easy and just an overlay that pops up to be edited. However, other elements are a bit of a hassle considered that it should be automated. For example, I have the Wyze weight scale and the Wyze watch but still am required to manually enter my weight in the health data despite even within this same app if I go to the scale it automatically updates when I am on the scale.\", 'This is where I set up the goals I have in mind for my weight loss. I can choose which plan that I want for my diet. There are multiple options, it is similar to WW with the different colored plans. I like the \"purple\" because it focuses on whole foods. I can add a secondary metric, and in this case, I choose calorie counting. I have my activity set as sedentary, because I do not have a very active job, so I just ass the exercise I do intentionally by hand. The carry over is where I can choose to alot the \"bites\" I haven\\'t eaten to be added to my weekly, or to my exercise to be used later, you can carry over up to 4 bites. I can set my starting and my goal weights. I have currently lost 5 but it does not show that here, it shows on the weight loss page of the app', \"I use this screen to track and see what things I have purchased, how much I'm spending, and if I got payment that was owed to me. This screen helps me achieve these goals by allowing me to carefully track my spending habits and to make sure that I get paid. I interact with this screen to achieve my goals by seeing and adding up how much I spend. I do this to ensure that I do not accidentally go over my budget. I also use this screen to track if people paid my money requests. If their payment shows up in this screen, I can cross them off the list, if their payment does not show up on this screen, then I would follow up with another request. The app uses many different information to support this screen. It uses personal data such as my friends and business' names and images. This page also tracks my spending history and my location by showing how much I paid or got paid and for what reason I'm paying or receiving money.\", 'I use Google Maps to map trips to unfamiliar places, check street addresses and intersections, and to check the status of traffic in my vicinity. I got to this screen on the app by toggling to the \"Go\" tab at the bottom of the screen. Shown on the screen is the blue circle indicating my present location (not redacted) and the direction in which my phone is facing. At the bottom of the screen, Google Maps has suggested some locations based on my past activity. One of those destinations (redacted) is a place I traveled to using Google Maps yesterday. The other is a destination for which I did a Google search a few days ago. Were I to be planning a trip currently, I would check the status of traffic (looks terrible on I-93 South). To plan a trip on Maps, I would press the blue button with the arrow in it for directions to my destination.', 'My main goal is to choose which of my contacts I would like to befriend on the app. Having friends on Duolingo can be very motivating and inspiring to continue using the app daily because your friends will congratulate you/give you kudos when you fulfill goals and reach certain milestones. Also, you can see how well they\\'re doing to compete with them if you so choose. In addition, you can do friend goals with them (such as cumulatively doing a certain amount of lessons between you both in a set period of time). I interact with this screen by either pressing the plus button next to whoever\\'s name I want to add as a friend, or I can choose to \"follow all\" by pressing that option at the top. The information that is used to support this screen is my list of personal contacts from my phone, filtered by the app as a list of people who also use the app.', 'This is the profile page of the app. It has a profile picture of me on it. This is used when using the social pages of the app. This allows me to be identifiable by other uses. It also helps track how I look while losing weight. This page has my email on it and is used to contact me or for me to be able to log-in to the app itself if I get signed out. Gender lets the app know if I\\'m male or female and gives me a weight-loss goal based on the gender. This page collects my height and this helps with the weight-loss goal as well. The profile page is very basic and allows me to change my \"about me\" section on it, if I so choose. I can log out from here as well. There is an advanced tab that has other statistics on it, such as weight and how active or sedentary I am on average. The advanced page helps with giving me a daily goal to attain. ', \"I go to this screen to check on any devices that are on my network, so that I can 1) monitor the network and 2) add a device found on the network to the app itself, given I know its password. It allows me to see anything on my network, so I can make sure there are no intrusions. As for interaction, I can click on any device and view its name, password, forwarded ports, and access some of the app's settings for it. I can also get a device number, so that I can look it up and see the exact  device that it is. The information used for this is my network data: it accesses my internet connection, my phones ip address, and my routers ip address. This also means it collects my approximate location, and any other ips that happen to be on my network at any given time. \", \"The goals I want to achieve from this screen is creating a comfortable experience for myself on the app. So first I look into what each does and what they mean. What specific information they gather and then I decide which I am comfortable with allowing. I prefer to keep my events and plans and my locations blocked. I also don't want to know about nearby devices or have mine showing up. I end up not allowing those permission. I want them to ask for my permission each time for my camera and my microphone in case I want to make a tik tok or try a filter. I allow for my files and media because if I want to download a video, then they need access for me to be able to do so. I also allow my contact because I don't really see a big deal about letting them.\", 'This is my general discord section that me and my girlfriend communicate through during working hours. We usually post memes, general talking stuff as well as our plans. We have our shared passwords here as well because it is easier to keep things organized in this manner.\\r\\n\\r\\nOn this screen I usually just type from my phone or the computer app, whichever is easiest to access at the time. My goal is to maintain a stronger connection with my girlfriend as well as to increase our communication throughout the day/week. I also want to make sure that if anything were to happen to me, my girlfriend would be able to access my important accounts to take care of our affairs. I aim to make our communication as efficient as possible.\\r\\n\\r\\nFor the app to support this screen there has to be some internet connection that is provided through my ISP service/my IP. My login information as well as communities that I am a part of are used when looking at this screen.', 'I use this screen to go to places I have already been. It is convenient to use Google Maps this way, as I don\\'t have to type in the information again. For instance, if I want to go somewhere that I know I have used Google Maps for before, I can just hit the \"Search here\" bar, and it will bring up a list of previous addresses. Then, it is a simple task of clicking on the place I am going to. Google Maps does the rest, calculating how to get there from my present location. It saves quite a few addresses, as well - if the address I am looking for is not on this screen, I can just scroll up to see more. And if it still doesn\\'t show on the list - meaning it was so long ago there are other addresses filling the list currently - I can just start to type in the address, and Google Maps will bring up places I have been to before. Google Maps uses the locations I have previously typed in to support this screen. The links at the top of the screen are handy, as well. I don\\'t have to type in or scroll for my home or work address; I just have to touch the icons at the top.', 'I come to this screen whenever i need to update any of my information and change anything related to 2FA etc. Getting to the screen is quick and simple. Once the app is open swipe left to get to the overlay and then from there go to your settings on the bottom right. My account settings are right there waiting for me. Once i have my account open i can then complete all of my goals pretty quickly. Changing any of my information is very straight forward and clear just one tap and then then the information is there to easily change. Multiple taps for each of the different pieces of info means i could change my three pieces of personal info with a total of only 6 taps really straight forward. If i want to remove or change my 2FA that is a bit more difficult as i have to verify the removal through something else which if i changed any of the other info is simple.', \"To get to this screen I clicked the red person icon in the top left. I then clicked the white cog in the top right. Using this screen  you can do all kinds of things. You can change your name, user name, birthday, phone number, setup security, all kinds of things. I rarely use this screen honestly. If I want to change my user name though you really just click on that option and it brings up a box where you can then change your user name. I have used this screen to setup a bitmoji before even though they're kind of dumb. I have also used this screen to set up two factor authentication because I like security in my apps. You can also change your actual name. I rarely use my actual name because I honestly don't trust Snapchat at all. Why would anyone trust this type of app at this point? I don't know.\", 'To follow specific topics that I\\'m interested in,  I would first open the twitter app, next I would tap on my profile image on the top left part of the screen. After the menu has loaded from the left side of the screen, I would tap on the word \"Lists\". This Lists screen will recommend topics for me, or I could search for topics of interest on my own by clicking on the \"show more\" option. This will give me a much broader option set of lists to choose from and follow. Once I have followed a list, then the previous screen will show me what my lists are. The app keeps track of the lists that I want to see so that when users post content relating to the list, it may show up on my feed instead of having me follow each user that posted the content. ', \"I use this screen to look at the profiles of the people I follow especially if I don't find them on the search bar that easily. I also use the screen to add the number of people I follow or unfollow at any particular moment. Getting to this screens I open the home page and click on my profile button on the top left of the screen. A snippet of my profile will show and I will click on the following which will take me to the people I follow on the app. Once on the screen, I can scroll down or up to look for the specific accounts I needed to either visit their profiles or unfollow them. I can also decide to follow more people and I do this by clicking on the top right corner which brings me a suggestion on the different accounts I can follow. \", 'To be able to place an order, you need to give your location. To do this you can either allow the app to find your location automatically, or you can put in specific information, such as a zip code. Once you do that you tap on the \"Call\", \"Map\", or \"Order\", button. The Map button allows you to verify for certain which location you want to go to (however, the first location is always the closest to where you are, especially if you allow the app the permission to access your location). Once you\\'re certain where it is you want to pick up your order from, you tap \"Order\", and either choose \"Takeout\" or \"Delivery\", then choose a time for the order to be ready, and go about selecting your food. Once that\\'s done, you make sure everything is correct with your order, and then you put in your payment information along with your name, before finally confirming your order.', 'I use this screen to motivate myself.  I love it because it gives me the information I want to know.  It tells me how hard I am working by showing the different heart rates and the scale. I can focus on where I want to improve and how.  It tells me my calorie burn and I can decide if I want to work harder and or longer. It tells me what when I am at my peak and knowing helps me to pace myself and helps me learn what if feels like to be working at my peak.  I also use it to decide what kind of exercise I want to do for that session. Many times I will do more than the same type of workout.  Sometimes I run, sometimes I do HIT, and sometimes I do both.  It really depends on how much time I have.  But it keeps me motivated.', 'When I open the app, it starts at the home screen.  On the home screen, I am able to verify my current weight and body fat percentage which is uploaded from my smart scale.  I can also see a log of my previous workouts by name and also can see a visual of my training sessions on a calendar.  This is crucial so I do not under train or over train. Finally, I am able to conveniently track my individual muscles regarding if they are rested enough to train again.  The status are displayed in percentages for ease of understanding.  The 3-D model of the body can also be customized based on what your body type looks like or if you want , you can provide a picture of yourself and replace the 3-D body with your actual body.  Almost all aspects of the home screen is customizable.', 'Through this screen I want to track my steps and how many miles I walk throughout the day. I do a lot of sitting sometimes and I want to make sure I am getting proper physical activity for my health. To get to this screen I first open the app. Usually it opens to the  weekly report. I then look to the bottom of the app where it says today. I then click on the today tab and it brings up this page. To achieve my goal I first make sure the app is working correctly each day. To do this I calibrate it each morning before I start my day. Then I just resume normal activity. My goal is at least have 5 miles in steps by the end of my day. I will also go running after work. This will get me to the amount of physical activity I would like to achieve each day.', \"I basically use this screen to make sure my information is up to date with my bank. The steps that I take to get to this screen is to open the app, then select the profile icon at the top right. I then am able to access my profile page. The steps to take to achieve my goals are very simple. I would access the page, when I am on the page I would then press the edit icon on the right side to edit my information. I would then make sure everything is saved with my current information. As stated before, the goal on this particular page is extremely simple and not hard to do at all. The reason I consider it a goal is because things are at a constant change for me and it's always good to make sure that your information is up to date and current. \", \"This screen is the main hub for finding videos I want to watch. It shows me the various playlists I have made and the videos I was previously watching. It also shows me my own videos and videos I have saved or paid for. I can also see my notifications, and cast my phone screen to other devices all from this page. I end up spending the most amount of time on this page because I usually know what I want to watch or listen to. If I use the home screen I end up getting sidetracked and distracted from what I was doing so I don't tend to use the home page or look at YouTube's recommendations. I would rather just go there for the channel I want in particular and not be recommended a bunch of other things. I also like having the ability to make a new playlist from this page.\", 'This is the overview page of an investment account I hold with Fidelity. 1) I typically visit the app screen in order to check the current balance of my account. I can see the daily change (gain or loss) of my account from this screen, as well as the change in value (gain or loss) over a month. The graph in the top half of the screen shows my investment\\'s change in value over the period of a month. 2) I arrive at this screen by opening the Fidelity app, using my fingerprint for authentication, and selecting this account from among my Fidelity accounts. Once I assess the daily gain or loss of account value, and see confirmation of recent activity, I can review the performance of my investments by clicking \"see all\" to the right of \"Investments.\" 3) There is a lot of financial information shown on this page (not all of which I managed successfully to redact), including the account number, the present value of the account, recent account activities, and the investments that have gained or lost most in the day\\'s market activity. ', 'Through this screen, you can link any other accounts you hold with any other financial institutions to your main Cash App profile. This grants you access to a lot of nifty features, such as instantly transferring funds between your physical bank account and the Cash App virtual platform, using  your cash app debit card as a proxy of sorts to your connected bank account, and many more. As you can see, Cash App also supports linking credit cards to your account. Through this, you can also have a proxy credit card and you can utilize the Cash App platform to monitor your credit statements for the month as well as paying your monthly credit card bill. It may be daunting to trust a virtual finance institution with so much critical personal information, but Cash App has built up a good reputation over the years and I personally find it much more preferable to other services like Chime or Zelle. It has been a great tool for easily transferring money between family, friends, and strangers with the need of nothing more than your mobile phone.', \"Here on this screen I am trying to update any personal information that would make my profile complete on the app, some are required for you to use he app at all like Phone Number and Government ID, so updating those is important. To get to this screen you open the app and down at the bottom there is a tab for Profile. If you click on that it brings you to all the information in your profile and this particular one is at the top underneath Account Settings and it's labeled Personal Info. On the screen you just can click on each tab to update or change or even remove the information provided. You are allowed to remove any of the information but leaving some of them blank does mean you won't actually be able to book any stays using the Airbnb app. By clicking the back button at the top you can navigate back to your Account Settings in your Profile to edit other sections such as Payment, Notifications, and Privacy settings.\", 'Ally Bank has been my high-yield savings account since 2017. In 2020 I added the robo-investing account. Most of my savings is deposited to the HYSA, and a small amount monthly is automatically transferred to the robo investing account. I visit this screen on the app to check my savings balance, to check whether a deposit has cleared or a transfer gone through, check the APY on my HYSA, and to check on the performance of my investments. I get to this snapshot page first by opening the app, then by giving my fingerprint for biometrics authentication (I choose this method in lieu of typing my password into the app each time.) The snapshot page is what I\\'m brought to first. From here I will likely check one of my balances, or both. Often I\\'ll conduct a transfer to deposit checks by using the \"Tasks\" tab. My name and other personally identifying information are not on this page; that\\'s in the Profile tab at the bottom. The information that the app uses are my account balances once I have logged into the app. The last four digits of each account number are displayed, presumably so as to make the accounts personally identifiable by the user, but not to display the entire account number in case someone else sees the screen. ', \"I like being able to choose what Instagram can use and what they can't use. I personally made to leave things out that would make me feel anxious for companies to know. I kept certain permissions on for ease of using and for uploading purposes. I wanted to make my profile and use of Instagram a relaxing one and not something that would cause me anxiety. I simply clicked on the permission tabs such as phone and clicked not allow. I did this several times for each one to achieve my goal of a relaxing social platform for me to be on. These are the only things I believe it takes as far as data goes. My personal account is set to private and there is not much too it other than that. I also have things like my pronouns and name on there but it's only for friends to see.\", \"This screen shows statistics for one of my bots I made. I use this to check to see how my bots are doing. The reason I included this as an example of personal information collection is because it shows the app keeping track of conversations. I don't have any hard goals for this screen as this is just something I do for fun, but it is interesting to see the statistics. On this screen I can both see the statistics of my bot, start a new conversation with it and also edit the bot. Editing the bot can help increase my stats if people enjoy talking to it more. In order to support this screen, the app needs to collect information about user chats from everyone who chats with this bot. This is definitely something I would consider to be private information. It is similar to if you were having a private chat with your friend and the app collects and stores the whole conversation and analyzes it.\", 'I select each of the mission on this page to access each one. I then can mark off on the app that I completed each mission, if I actually accomplished each mission. Some are daily, some are weekly. Each mission is tracked and the more of the missions I complete the more point I get that can be pooled together to either get discount codes to health improving items or I can enter various auctions using the points that I have earned. I can also donate to a number of organizations using these points that I \"collected\" over the week/month. These goals are to go to my health insurance company, and it can sometimes increase what the company adds to my Health Savings account. So I will get more money to spend on healthcare or dental care visits over the year, beginning in October at the beginning of the insurance cycle.', \"I sometimes use Amazon's browsing history page when I need to find something I looked at before, and can't find or remember the name of. I also sometimes use it to delete items I'm thinking about buying my husband or family as gifts, since I don't want them to accidentally come across them. Amazon browsing history helps to save me from having to search for it all over again, saves me frustration, and saves me time, while also sometimes protecting my personal searches from being seen by family. I know that it's accessible by scrolling down the home page a little or by doing a quick search. From the home screen, I can just click or tap on it to see more details, and it takes me to a list of all the items I've viewed recently. From there, I can click on the item again, or remove it from my viewing history. I can also turn it off entirely, so it doesn't record what I look at. I've done that before, but I've found it's more helpful to have it turned on.\", 'This screen is very useful and straight forward as it allows me to change all of my personal details with a tap of the screen and then typing in my new info. Getting to the screen is very simple you just tap the profile icon and then click the arrow next to your name and you are able to change all of your info from there. I can change everything very easily or i can just delete the non vital info also. My name and email are absolutely necessary for placing orders but if i wanted i could remove my phone and zip code as they are not important. I trust the information is safe there though and is never used for anything wrong so i just leave it there. But in this instance say i wanted to add my birthday then it can but done very quickly and then just tapping to my specific birth date.', 'I get to this screen by opening the app and clicking on the side icon then clicking transaction history. I use this screen to keep track of my transactions from this restaurant so I can make sure that no one is misusing my gift cards or just so I can remember different times that I have eaten here. I believe my transaction history has been associated with a different email address in the past and that is why it appears sparse in this screenshot, but I had a history of using giftcards here and this was the easiest way to keep track so I knew when I had been spending here and the amount that I actually spent. That way I knew how much would be left on the giftcard without having to check other sources that would take longer. When clicking on the transaction it shows the payment method that I used. The information used by the app is just the recording of my purchase history at the restaurant. ', \"I want comments to me to be limited to people I really know or have invited into my life. I'm trying to cut down on the number of trolls that come out of the woodworks to say nasty and negative things. I go to the privacy area and select comments to make adjustments to the comments section. Then I make the adjustments to make sure it's only my followers that have access to the comments section of my videos. I also set the filtered spam and offensive comments button to tune out the trolls. In TikTok, there are many negative people out there, so I try to limit their access to me and my followers. I promote positivity and that is really all that I want on my page. I haven't decided to filter keywords yet but I'm thinking that my filter settings are pretty good where they are now.\", \"I track my fitness workouts with this screen. This is one of several mini-workouts I did yesterday. I opened my iPhone to my Home screen on which the Apple Fitness app is displayed, tapped on the Fitness app icon which opened to the Summary screen, looked down to the center of the screen to the Workouts section, and tapped on the most-recent Other workout at the top of that section. That took me to this page where I can monitor various characteristics of my workouts: time of day, time span of workout, total time spent, calories used actively, calories including metabolic rate, heart rate, and where I was when I completed this workout. I can reverse my steps and access other workouts in the same way. The app uses a graphic of three concentric circles to indicate progress in categories of how many calories I've expended moving throughout the day, how much time I've spent working out, and how many hours I made a point to spend at least a minute or two standing. \", 'In order to choose your location you first open up the app, and select the icon that represents you in the bottom right corner. From there you tap on the gear icon in the top right, scroll down to \"Language and location\" and tap on it. From here, you can do two different things, one of which is to choose your language, and the other is to choose your location. When you tap on the location icon, a screen comes up that lets you scroll through multiple countries, allowing you to pick one of your choosing.\\r\\n\\r\\nOnce you have a location chosen, other users will be able to see which country you\\'re posting from. For example, if a friend or someone looking you up were to view your profile or posts, they could see what country it is you\\'re posting from. \\r\\n\\r\\nUltimately, you want to use this screen to be able to connect with other people from your country and be able to find them easier, and vice versa. The other reason to use this screen would be to hide your location by setting a false location, in order to stay more anonymous. Either way, it helps you to find people and identify them, and them find and identify you.', \"I use this screen to navigate to the chats that I have recently had with my friends. I first tap on the Whatsapp icon from my home screen. It usually lands on this screen unless I have intentionally logged out or if I am already in a chat thread. I get back to this screen back tapping back from a chat thread. The screen is sparse because I clear my chats often. The app will use some information like a friend's phone numbers or a friend's name in order to make the screen more navigable by having labels. A friend's phone number can be associated with a chat thread in the case of a chat that only involves two people. I can associate a friend's name with a chat, but don't usually do so if their phone number is something that is familiar and one that I can remember off the top of my head.\", 'In the Peloton app, I always navigate to this screen so that I can look at the metrics of the workout I just completed. I like to see how I did in comparison to other people in a particular workout. I also like to go in and look at specific metrics such as the average cadence, resistance, distance, total output, speed, and calories burned. I also refer to this screen to see how far I have come since I first started taking up cycling. Every time that I go to this screen I get a sense of inspiration because I had never really been much of a cyclist. I was more into resistance training and jogging. I feel that looking at this screen gives me the motivation to continue cycling and I feel that the more I do it, the more dedicated I become to this particular type of exercise activity. I have a goal of reaching 1000 rides and the first thing I do when I log in to the Peloton app is click on \"profile\" to get to this screen. Once I am on this screen, I can easily track and look at the number of rides I have completed. I then use this count to discipline myself to keep going so that I can reach my goal of 1000.', \"This screen is my food diary. On this screen I keep track of how many calories I have eaten and how many I have burn throughout the day and it gives me a good idea of how much exercise I need to complete to stay within my goal. I can log different foods at different times and keep an accurate record here. I have an option to switch through different days and view my eating habits from the past. There's also an option on this screen to go premium \\r\\nand to remove any ads from the program.\\r\\nThis is a good way to kind of form a budget for my nutritional needs and to help me stick to my goals for a healthy lifestyle. When I click add food I can look up different foods or I can scan the barcode on the food and it will look it up for me and add the nutritional information to my diary\\r\\n\\r\\n\\r\\n\\r\\n\", 'I check my personal stats. I like to see what date I started so I know how long I\\'ve bee playing. I check the distance I have walked the entire time I\\'ve used the game. I can see the distance I\\'ve walked for the day and week while working toward a reward. The game is uses augmented reality and location to have \"Pokestops\",\"Gyms\", and Pokemon spawns in certain places. You can get free items at these places to advance your gameplay. I like to see how how many stops I\\'ve visited so far. I logon onto the application, then I tap on my avatar picture in the bottom left corner. I tap on jourrnal to check my activty log. I shows me all the Pokemon I\\'ve caught recently, all items I received from Pokestops and Gyms, gifts from friends, items from raid and PVP battles, and items from promo codes redeemed.', 'This is my all in one app for many things.  My main checking account is located here and it\\'s where I check my balances and online receipts.  To get to this page I opened my app using biometrics (my thumbprint), then went to the upper right corner where my account information was located.  From there I scrolled down a bit to find some information that I didn\\'t feel was too personal for the study.  I bypassed anything having to do with my account numbers and found a tab labeled \"Personal.\"  I clicked on that tab and there was a bevy of information there.  Again, to keep my account numbers personal, I scrolled down and located the information above that I screenshotted.  I made sure anything too personal was out of frame and snapped the pic.  There really wasn\\'t much to it.  I was able to jump in and find the information with no problems.  The USAA app is very intuitive and I use it all the time for all my financial needs.', 'I only use a screen when I needed to update my basic demographics mostly referring to updating my current weight. I am losing weight after having a baby so my current weight fluctuates and ideally is going down on a consistent basis so I try to check in here monthly and make sure that the current weight listed on this study and all the other studies that I am enrolled in on the research app is correct. I can change this value to a different one by scrolling to the bottom of the demographics and pressing the edit button it is the third one down and I tap on it and scroll the pop-up menu that appears to select my noon updated white after which I press done to save. The only goals I want to achieve on the screen in the others like it are for my information to remain cracked so that the researchers using the data that I have allowed them by enrolling in their study, have accurate data to base me as a user that they are profiling on. Weight tends to be an important factor as it is related to health and race other things that will be related to studies such as this one. This study is tracking my heart and movement it would change the way they would process the data if I was to be extremely underweight or overweight is what I would assume. ', 'I talk to my family and friends  through this app so what I want to achieve with this screen is to share some of my activities during the day or moments that I live. So what I do is I go to the camera next to my picture and select a photo or video to upload and share with my contacts. I can also click on their pictures so I can see their statuses as well. So my goal is to see their activities as well, see what they are doing and what they share with their contacts as well. This app is supported by the add a photo or even just text (because you don’t need to necessarily add a photo) it gives you the option to mute some of your contacts and it gives you the option to click on the other peoples statuses to see.  ', \"I want to find a potential romantic partner through the Tinder profile screen by maximizing my appeal to women. I get to the screen by accessing my mobile device, opening Tinder, tapping the profile button in the top left corner, and opening the edit profile option. On the profile edit screen, the most important thing is to have physically attractive photographs of myself. These photographs mostly depend on facial aesthetics, but there should also be some context and personality shown in them. I should also give sufficient textual information to women about my location and personality to help them determine whether they want to meet me in person. It is best to use my real location since I want to meet women in the local area at the moment. The self-description in the About Me area generally should be light-hearted and playful but also show enough of my true self to women to help them understand what they're getting with me.\", 'I like to keep track of what I read. I only use star ratings, because that is all I want to use. That review that I have given is shared and can be seen by any user on the app. It helps me achieve my goals by record keeping for me. I can go back and see what I have read and what I thought about it. I read a lot so this tracker is helpful. \\r\\n\\r\\nThere are several ways I can interact with this screen. I can select a book and I can check specific attributes that the book contains and that is shared. I can give a verbal description of what I thought of the book and that is shared with anyone who wants to read it. I can also choose a star rating, and I can give half and quarter stars to really narrow down my feelings on it. \\r\\nThe information that is used is my user submitted star rating of the book. ', \"I use Spotify on my phone when I go to my garage to walk on the treadmill.  I have playlists on my Spotify account that I download so I don't have to use wifi to listen to them.  The wifi does not reach the garage.  I can also use the storage area in case I need extra space on my phone.  I can just delete the songs I had downloaded and then redownload them later.  To get to this screen, I went to the Settings page of Spotify.  I had to scroll a little to get to this part.  Then, I screencapped what I could.  I think there was a little more that I could have put in there, but I didn't have enough room.  I then screenshotted it and uploaded it to the website you provided for me, then masked the info that I didn't want anyone to see.\", \"I use this Twitter screen to change the details of my profile including my banner image, my profile image, my name, my bio, my location, website, and birthdate. To get to this screen, I click on my avatar on the top left corner when I'm at the home page. Then a menu pops down, and I click on Profile. Then I click on the Edit profile button on the upper right side. To change my information, I have to click on each setting. To change the banner, I click on the current banner and upload a new image. To change my avatar image, I click on it and upload a new image. To change my name, I click on the field and change it. I repeat the same process for my name if want to change my location, full name, birth date, or website. Then I click on save on the upper right corner to confirm the changes.\", 'If i plan to change anything to deal with my account then i would come to this screen. I can come here and change my username phone number etc. anything that is tied to my identity with my account can be changed from here. It is simple to use these fields also just a simple tap and i can change anything some are changed by selecting another existing option and others are changed my entering something new after a verification. The app makes it easy to get to and use the screen also just tap on settings and it is the first thing you see profile and account settings right there. And since the information is used for account verification and identity verification it is very easy to change and get to also. The screen is used by people so rarely but there is nothing confusing or difficult about using it. One tap and then some typing and you can easily change your username password phone number and email very easily.', \"The screen shot that is pictured above is the Profile Page for the Google Opinion Rewards App. (This is only screen in the app that contains any sort of personal data) The main goal I would want to achieve on that page is editing my location if I were to move, changing my language if I happen to miraculously pick up Spanish somewhere,  or if I needed to view the apps privacy policy or terms to find out what exactly they are permitted to share and with whom. To get to this screen from the app's home screen, I touch the three dot icon in the left corner and from that context menu touch my profile. To update my location I would tap on the box and enter my new location. To view the privacy policy or terms and conditions, the links to both of those can be accessed at the bottom of the page.\", \"I use this screen to edit my screen name and go to the profile information. I find out if people are interested in my tiktok page and I find new users to check out from it. I mostly achieve new interests from this page and I don't use it that often. Sometimes I will use it to check out my favorite page and browse through my favorite videos. I don't really use it to add contacts from though. I also use the inbox feature which is included from this page to share tiktoks to my friends and see their reaction from different tiktoks I share with them. I can also access my settings for the app from this page if I wanted to and change information that the app can access from that page. I can also upload pictures to my profile from this page which I don't usually do often.\"]\n"
     ]
    }
   ],
   "source": [
    "import json, os\n",
    "f1, f2 = open(\"../datasets/scenarios2.json\",'r'), open(\"../scenarios2_new.json\",'r')\n",
    "s1, s2= json.load(f1), json.load(f2)\n",
    "exist_set = []\n",
    "for k in s1:\n",
    "    exist_set.append(k['text'])\n",
    "to_write = \"\"\n",
    "id_prefix = \"MAS-P-\"\n",
    "id_num = 51\n",
    "for k in s2:\n",
    "    if k['text'] not in exist_set:\n",
    "        to_write += k['app_url'] + \"\\n\" + id_prefix + f'{id_num:04}' + \": \" + k['text'] + \"\\n\\n\"\n",
    "        id_num += 1\n",
    "if not os.path.exists('../scenarios2_new.txt'):\n",
    "    with open('../scenarios2_new.txt', 'w') as f:\n",
    "        f.write(to_write)\n",
    "print(exist_set)\n",
    "# import random, json, os\n",
    "# def split_sample(filename, sample_size, dest, exclude_list):\n",
    "#     data = \"\"\n",
    "#     f = open(filename, 'r')\n",
    "#     sample_list = json.load(f)\n",
    "#     for sample in sample_list:\n",
    "#         if sample['scenario_id'] not in exclude_list:\n",
    "#             data += sample[\"app_url\"] + \"\\n\" + sample['scenario_id'] + \": \" + sample[\"text\"] + \"\\n\\n\"\n",
    "#     if not os.path.exists(dest):\n",
    "#         with open(dest, 'w') as f:\n",
    "#             f.write(data)\n",
    "# split_sample(\"../scenarios2_new.json\", 103, \"../scenarios2_new.txt\", [])\n",
    "# split_sample(\"../datasets/scenarios1.json\", 100, \"../datasets/scenarios1_ex.txt\", sample)\n",
    "# split_sample(\"../datasets/scenarios2.json\", 50, \"../datasets/scenarios2_ex.txt\", sample)\n"
   ]
  },
  {
   "cell_type": "code",
   "execution_count": 2,
   "metadata": {},
   "outputs": [
    {
     "name": "stdout",
     "output_type": "stream",
     "text": [
      "Scenario IDs matched.\n"
     ]
    }
   ],
   "source": [
    "is_consistent(data1, data2)"
   ]
  },
  {
   "cell_type": "code",
   "execution_count": 11,
   "metadata": {},
   "outputs": [
    {
     "name": "stdout",
     "output_type": "stream",
     "text": [
      "99\n",
      "Cohen's Kappa, All Codes: 0.7120\n"
     ]
    }
   ],
   "source": [
    "from sklearn.metrics import cohen_kappa_score\n",
    "import csv\n",
    "\n",
    "scenario_ids = list(data1.keys())\n",
    "all_codes1 = [c for d in data1.values() for c in d['codes']]\n",
    "all_codes2 = [c for d in data2.values() for c in d['codes']]\n",
    "x = 0\n",
    "for c in all_codes1:\n",
    "    if c == 'b-i':\n",
    "        x += 1\n",
    "print(x)\n",
    "# uncomment to compute kappa on non-BIO code format\n",
    "#all_codes1 = ['o' if len(c) == 1 else c[2:] for d in data1.values() for c in d['codes']]\n",
    "#all_codes2 = ['o' if len(c) == 1 else c[2:] for d in data2.values() for c in d['codes']]\n",
    "\n",
    "kappa = cohen_kappa_score(all_codes1, all_codes2)\n",
    "print('Cohen\\'s Kappa, All Codes: %0.4f' % kappa)\n",
    "\n",
    "# write the words and simplified codes for both datasets\n",
    "# simplified codes: the b/i prefixes are removed\n",
    "with open('coded_data.csv', 'w') as f:\n",
    "    writer = csv.writer(f)\n",
    "    writer.writerow(['word','rater1','rater2'])\n",
    "    for scenario_id in scenario_ids:\n",
    "        words = data1[scenario_id]['words']\n",
    "        codes1 = ['o' if len(c) == 1 else c[2:] for c in data1[scenario_id]['codes']]\n",
    "        codes2 = ['o' if len(c) == 1 else c[2:] for c in data2[scenario_id]['codes']]\n",
    "        for i in range(len(words)):\n",
    "            writer.writerow([words[i], codes1[i], codes2[i]])"
   ]
  },
  {
   "cell_type": "code",
   "execution_count": null,
   "metadata": {},
   "outputs": [],
   "source": [
    "# count code distributions\n",
    "possible_codes = sorted(list(set(all_codes1).union(set(all_codes2))))\n",
    "tally = {'r1': {c:0 for c in possible_codes},\n",
    "        'r2': {c:0 for c in possible_codes}}\n",
    "for c in all_codes1:\n",
    "    tally['r1'][c] += 1\n",
    "for c in all_codes2:\n",
    "    tally['r2'][c] += 1\n",
    "print('\\tRater1\\tRater2')\n",
    "for c in possible_codes:\n",
    "    print('%s\\t%s\\t%s' % (c, tally['r1'][c], tally['r2'][c]))"
   ]
  },
  {
   "cell_type": "code",
   "execution_count": 4,
   "metadata": {},
   "outputs": [
    {
     "name": "stdout",
     "output_type": "stream",
     "text": [
      "Cohen's Kappa, Flow, Only: 0.6086\n"
     ]
    }
   ],
   "source": [
    "# use simplified codes\n",
    "flow_only1 = ['o' if len(c) == 1 else c[2:] for d in data1.values() for c in d['codes']]\n",
    "flow_only1 = [c if c != 'i' else 'o' for c in all_codes1]\n",
    "\n",
    "flow_only2 = ['o' if len(c) == 1 else c[2:] for d in data2.values() for c in d['codes']]\n",
    "flow_only2 = [c if c != 'i' else 'o' for c in all_codes2]\n",
    "\n",
    "kappa = cohen_kappa_score(flow_only1, flow_only2)\n",
    "print('Cohen\\'s Kappa, Flow, Only: %0.4f' % kappa)"
   ]
  },
  {
   "cell_type": "code",
   "execution_count": null,
   "metadata": {},
   "outputs": [],
   "source": [
    "# index information types into tuples: i, j, score, phrase                      \n",
    "def index_infotype(data):\n",
    "    info = []\n",
    "    phrase = []\n",
    "    j = -1\n",
    "    for i, (word, code) in enumerate(zip(data['words'], data['codes'])):\n",
    "        if code == 'b-i':\n",
    "            phrase = [word]\n",
    "            j = i\n",
    "        elif code == 'i-i':\n",
    "            phrase.append(word)\n",
    "        elif code == 'o' and j >= 0:\n",
    "            info.append((j, j+len(phrase), data['scores'][len(info)], ' '.join(phrase)))\n",
    "            phrase = []\n",
    "            j = -1\n",
    "    return info\n",
    "\n",
    "# identify risk scores for overlapping information types\n",
    "def overlaps(i1, j1, i2, j2):\n",
    "    return len(set(range(i1, j1)).intersection(set(range(i2, j2)))) > 0\n",
    "\n",
    "def find_overlaps(info1, info2):\n",
    "    overlap = []\n",
    "    for i1, j1, score1, phrase1 in info1:\n",
    "        for i2, j2, score2, phrase2 in info2:\n",
    "            if overlaps(i1, j1, i2, j2):\n",
    "                overlap.append([(score1, phrase1), (score2, phrase2)])\n",
    "    return overlap\n",
    "\n",
    "agreed = 0\n",
    "disagreed = 0\n",
    "for scenario_id in data1.keys():\n",
    "    info1 = index_infotype(data1[scenario_id])\n",
    "    info2 = index_infotype(data2[scenario_id])\n",
    "    overlap = find_overlaps(info1, info2)\n",
    "\n",
    "    for i, ((s1, p1), (s2, p2)) in enumerate(overlap):\n",
    "        print('\\n%s, match %i: score %i, %s' % (scenario_id, i, int(s1), p1))\n",
    "        print('%s, match %i: score %i, %s' % (scenario_id, i, int(s2), p2))\n",
    "        \n",
    "    agreed += len(overlap)\n",
    "    disagreed += len(info1) - len(overlap) + len(info2) - len(overlap)\n",
    "\n",
    "print('\\nAgreed: %i' % agreed)\n",
    "print('Disagreed: %i' % disagreed)\n",
    "\n",
    "scores1 = [int(s) for d in data1.values() for s in d['scores']]\n",
    "scores2 = [int(s) for d in data2.values() for s in d['scores']]  \n",
    "print('\\nScore average for Rater 1: %0.4f' % (sum(scores1) / len(scores1)))\n",
    "print('Score average for Rater 2: %0.4f' % (sum(scores2) / len(scores2)))"
   ]
  },
  {
   "cell_type": "code",
   "execution_count": null,
   "metadata": {},
   "outputs": [],
   "source": [
    "# write the disagreements out to a file for inspection\n",
    "disagreed = []\n",
    "\n",
    "# format of data1/data2: sent_id, word_id, code\n",
    "for x1, x2 in zip(data1, data2):\n",
    "    if x1[2] != x2[2]:\n",
    "        # record the sent_id, word_id, word, codes, plus the sentence\n",
    "        sent = list(sentences[x1[0]])\n",
    "        sent[x1[1]] = '[' + sent[x1[1]] + ']'\n",
    "        disagreed.append([\n",
    "            x1[0], x1[1], x1[2], x2[2], ' '.join(sent)\n",
    "        ])\n",
    "\n",
    "with open('disagreements.csv', 'w') as f:\n",
    "    writer = csv.writer(f)\n",
    "    writer.writerow(['sent_id', 'word_id', 'code1', 'code2', 'sentence'])\n",
    "    for row in disagreed:\n",
    "        writer.writerow(row)"
   ]
  },
  {
   "cell_type": "code",
   "execution_count": null,
   "metadata": {},
   "outputs": [],
   "source": []
  }
 ],
 "metadata": {
  "kernelspec": {
   "display_name": "Python 3",
   "language": "python",
   "name": "python3"
  },
  "language_info": {
   "codemirror_mode": {
    "name": "ipython",
    "version": 3
   },
   "file_extension": ".py",
   "mimetype": "text/x-python",
   "name": "python",
   "nbconvert_exporter": "python",
   "pygments_lexer": "ipython3",
   "version": "3.8.5"
  },
  "vscode": {
   "interpreter": {
    "hash": "e084cb2b20e6baf74d084ddc77ed145dd17f40d40600394db9131686a59b1288"
   }
  }
 },
 "nbformat": 4,
 "nbformat_minor": 4
}
