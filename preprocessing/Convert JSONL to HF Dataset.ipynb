{
 "cells": [
  {
   "cell_type": "code",
   "execution_count": 1,
   "metadata": {
    "id": "y1AeGAmTTCgw"
   },
   "outputs": [
    {
     "name": "stdout",
     "output_type": "stream",
     "text": [
      "Requirement already satisfied: transformers[sentencepiece] in /Users/breaux/opt/anaconda3/lib/python3.8/site-packages (4.26.0)\n",
      "Requirement already satisfied: datasets in /Users/breaux/opt/anaconda3/lib/python3.8/site-packages (2.1.0)\n",
      "Requirement already satisfied: tokenizers in /Users/breaux/opt/anaconda3/lib/python3.8/site-packages (0.13.2)\n",
      "Requirement already satisfied: evaluate in /Users/breaux/opt/anaconda3/lib/python3.8/site-packages (0.4.0)\n",
      "Requirement already satisfied: packaging>=20.0 in /Users/breaux/opt/anaconda3/lib/python3.8/site-packages (from transformers[sentencepiece]) (21.3)\n",
      "Requirement already satisfied: pyyaml>=5.1 in /Users/breaux/opt/anaconda3/lib/python3.8/site-packages (from transformers[sentencepiece]) (5.3.1)\n",
      "Requirement already satisfied: tqdm>=4.27 in /Users/breaux/opt/anaconda3/lib/python3.8/site-packages (from transformers[sentencepiece]) (4.64.0)\n",
      "Requirement already satisfied: huggingface-hub<1.0,>=0.11.0 in /Users/breaux/opt/anaconda3/lib/python3.8/site-packages (from transformers[sentencepiece]) (0.12.0)\n",
      "Requirement already satisfied: filelock in /Users/breaux/opt/anaconda3/lib/python3.8/site-packages (from transformers[sentencepiece]) (3.6.0)\n",
      "Requirement already satisfied: requests in /Users/breaux/opt/anaconda3/lib/python3.8/site-packages (from transformers[sentencepiece]) (2.24.0)\n",
      "Requirement already satisfied: numpy>=1.17 in /Users/breaux/opt/anaconda3/lib/python3.8/site-packages (from transformers[sentencepiece]) (1.21.0)\n",
      "Requirement already satisfied: regex!=2019.12.17 in /Users/breaux/opt/anaconda3/lib/python3.8/site-packages (from transformers[sentencepiece]) (2022.4.24)\n",
      "Requirement already satisfied: protobuf<=3.20.2; extra == \"sentencepiece\" in /Users/breaux/opt/anaconda3/lib/python3.8/site-packages (from transformers[sentencepiece]) (3.19.6)\n",
      "Requirement already satisfied: sentencepiece!=0.1.92,>=0.1.91; extra == \"sentencepiece\" in /Users/breaux/opt/anaconda3/lib/python3.8/site-packages (from transformers[sentencepiece]) (0.1.95)\n",
      "Requirement already satisfied: xxhash in /Users/breaux/opt/anaconda3/lib/python3.8/site-packages (from datasets) (3.0.0)\n",
      "Requirement already satisfied: fsspec[http]>=2021.05.0 in /Users/breaux/opt/anaconda3/lib/python3.8/site-packages (from datasets) (2022.3.0)\n",
      "Requirement already satisfied: pandas in /Users/breaux/opt/anaconda3/lib/python3.8/site-packages (from datasets) (1.1.3)\n",
      "Requirement already satisfied: multiprocess in /Users/breaux/opt/anaconda3/lib/python3.8/site-packages (from datasets) (0.70.12.2)\n",
      "Requirement already satisfied: dill in /Users/breaux/opt/anaconda3/lib/python3.8/site-packages (from datasets) (0.3.4)\n",
      "Requirement already satisfied: pyarrow>=5.0.0 in /Users/breaux/opt/anaconda3/lib/python3.8/site-packages (from datasets) (8.0.0)\n",
      "Requirement already satisfied: responses<0.19 in /Users/breaux/opt/anaconda3/lib/python3.8/site-packages (from datasets) (0.18.0)\n",
      "Requirement already satisfied: aiohttp in /Users/breaux/opt/anaconda3/lib/python3.8/site-packages (from datasets) (3.8.1)\n",
      "Requirement already satisfied: pyparsing!=3.0.5,>=2.0.2 in /Users/breaux/opt/anaconda3/lib/python3.8/site-packages (from packaging>=20.0->transformers[sentencepiece]) (2.4.7)\n",
      "Requirement already satisfied: typing-extensions>=3.7.4.3 in /Users/breaux/opt/anaconda3/lib/python3.8/site-packages (from huggingface-hub<1.0,>=0.11.0->transformers[sentencepiece]) (3.7.4.3)\n",
      "Requirement already satisfied: chardet<4,>=3.0.2 in /Users/breaux/opt/anaconda3/lib/python3.8/site-packages (from requests->transformers[sentencepiece]) (3.0.4)\n",
      "Requirement already satisfied: idna<3,>=2.5 in /Users/breaux/opt/anaconda3/lib/python3.8/site-packages (from requests->transformers[sentencepiece]) (2.10)\n",
      "Requirement already satisfied: urllib3!=1.25.0,!=1.25.1,<1.26,>=1.21.1 in /Users/breaux/opt/anaconda3/lib/python3.8/site-packages (from requests->transformers[sentencepiece]) (1.25.11)\n",
      "Requirement already satisfied: certifi>=2017.4.17 in /Users/breaux/opt/anaconda3/lib/python3.8/site-packages (from requests->transformers[sentencepiece]) (2020.6.20)\n",
      "Requirement already satisfied: pytz>=2017.2 in /Users/breaux/opt/anaconda3/lib/python3.8/site-packages (from pandas->datasets) (2020.1)\n",
      "Requirement already satisfied: python-dateutil>=2.7.3 in /Users/breaux/opt/anaconda3/lib/python3.8/site-packages (from pandas->datasets) (2.8.1)\n",
      "Requirement already satisfied: async-timeout<5.0,>=4.0.0a3 in /Users/breaux/opt/anaconda3/lib/python3.8/site-packages (from aiohttp->datasets) (4.0.2)\n",
      "Requirement already satisfied: aiosignal>=1.1.2 in /Users/breaux/opt/anaconda3/lib/python3.8/site-packages (from aiohttp->datasets) (1.2.0)\n",
      "Requirement already satisfied: attrs>=17.3.0 in /Users/breaux/opt/anaconda3/lib/python3.8/site-packages (from aiohttp->datasets) (20.3.0)\n",
      "Requirement already satisfied: frozenlist>=1.1.1 in /Users/breaux/opt/anaconda3/lib/python3.8/site-packages (from aiohttp->datasets) (1.3.0)\n",
      "Requirement already satisfied: multidict<7.0,>=4.5 in /Users/breaux/opt/anaconda3/lib/python3.8/site-packages (from aiohttp->datasets) (6.0.2)\n",
      "Requirement already satisfied: charset-normalizer<3.0,>=2.0 in /Users/breaux/opt/anaconda3/lib/python3.8/site-packages (from aiohttp->datasets) (2.0.12)\n",
      "Requirement already satisfied: yarl<2.0,>=1.0 in /Users/breaux/opt/anaconda3/lib/python3.8/site-packages (from aiohttp->datasets) (1.7.2)\n",
      "Requirement already satisfied: six>=1.5 in /Users/breaux/opt/anaconda3/lib/python3.8/site-packages (from python-dateutil>=2.7.3->pandas->datasets) (1.15.0)\n",
      "Requirement already satisfied: torch in /Users/breaux/opt/anaconda3/lib/python3.8/site-packages (1.13.1)\n",
      "Requirement already satisfied: typing-extensions in /Users/breaux/opt/anaconda3/lib/python3.8/site-packages (from torch) (3.7.4.3)\n",
      "Requirement already satisfied: tensorflow in /Users/breaux/opt/anaconda3/lib/python3.8/site-packages (2.11.0)\n",
      "Requirement already satisfied: packaging in /Users/breaux/opt/anaconda3/lib/python3.8/site-packages (from tensorflow) (21.3)\n",
      "Requirement already satisfied: gast<=0.4.0,>=0.2.1 in /Users/breaux/opt/anaconda3/lib/python3.8/site-packages (from tensorflow) (0.4.0)\n",
      "Requirement already satisfied: keras<2.12,>=2.11.0 in /Users/breaux/opt/anaconda3/lib/python3.8/site-packages (from tensorflow) (2.11.0)\n",
      "Requirement already satisfied: google-pasta>=0.1.1 in /Users/breaux/opt/anaconda3/lib/python3.8/site-packages (from tensorflow) (0.2.0)\n",
      "Requirement already satisfied: grpcio<2.0,>=1.24.3 in /Users/breaux/opt/anaconda3/lib/python3.8/site-packages (from tensorflow) (1.51.1)\n",
      "Requirement already satisfied: six>=1.12.0 in /Users/breaux/opt/anaconda3/lib/python3.8/site-packages (from tensorflow) (1.15.0)\n",
      "Requirement already satisfied: wrapt>=1.11.0 in /Users/breaux/opt/anaconda3/lib/python3.8/site-packages (from tensorflow) (1.11.2)\n",
      "Requirement already satisfied: protobuf<3.20,>=3.9.2 in /Users/breaux/opt/anaconda3/lib/python3.8/site-packages (from tensorflow) (3.19.6)\n",
      "Requirement already satisfied: h5py>=2.9.0 in /Users/breaux/opt/anaconda3/lib/python3.8/site-packages (from tensorflow) (2.10.0)\n",
      "Requirement already satisfied: flatbuffers>=2.0 in /Users/breaux/opt/anaconda3/lib/python3.8/site-packages (from tensorflow) (23.1.21)\n",
      "Requirement already satisfied: typing-extensions>=3.6.6 in /Users/breaux/opt/anaconda3/lib/python3.8/site-packages (from tensorflow) (3.7.4.3)\n",
      "Requirement already satisfied: numpy>=1.20 in /Users/breaux/opt/anaconda3/lib/python3.8/site-packages (from tensorflow) (1.21.0)\n",
      "Requirement already satisfied: opt-einsum>=2.3.2 in /Users/breaux/opt/anaconda3/lib/python3.8/site-packages (from tensorflow) (3.3.0)\n",
      "Requirement already satisfied: absl-py>=1.0.0 in /Users/breaux/opt/anaconda3/lib/python3.8/site-packages (from tensorflow) (1.4.0)\n",
      "Requirement already satisfied: astunparse>=1.6.0 in /Users/breaux/opt/anaconda3/lib/python3.8/site-packages (from tensorflow) (1.6.3)\n",
      "Requirement already satisfied: tensorflow-io-gcs-filesystem>=0.23.1; platform_machine != \"arm64\" or platform_system != \"Darwin\" in /Users/breaux/opt/anaconda3/lib/python3.8/site-packages (from tensorflow) (0.30.0)\n",
      "Requirement already satisfied: libclang>=13.0.0 in /Users/breaux/opt/anaconda3/lib/python3.8/site-packages (from tensorflow) (15.0.6.1)\n",
      "Requirement already satisfied: termcolor>=1.1.0 in /Users/breaux/opt/anaconda3/lib/python3.8/site-packages (from tensorflow) (1.1.0)\n",
      "Requirement already satisfied: tensorflow-estimator<2.12,>=2.11.0 in /Users/breaux/opt/anaconda3/lib/python3.8/site-packages (from tensorflow) (2.11.0)\n",
      "Requirement already satisfied: setuptools in /Users/breaux/opt/anaconda3/lib/python3.8/site-packages (from tensorflow) (50.3.1.post20201107)\n",
      "Requirement already satisfied: tensorboard<2.12,>=2.11 in /Users/breaux/opt/anaconda3/lib/python3.8/site-packages (from tensorflow) (2.11.2)\n",
      "Requirement already satisfied: pyparsing!=3.0.5,>=2.0.2 in /Users/breaux/opt/anaconda3/lib/python3.8/site-packages (from packaging->tensorflow) (2.4.7)\n",
      "Requirement already satisfied: wheel<1.0,>=0.23.0 in /Users/breaux/opt/anaconda3/lib/python3.8/site-packages (from astunparse>=1.6.0->tensorflow) (0.35.1)\n",
      "Requirement already satisfied: werkzeug>=1.0.1 in /Users/breaux/opt/anaconda3/lib/python3.8/site-packages (from tensorboard<2.12,>=2.11->tensorflow) (1.0.1)\n"
     ]
    },
    {
     "name": "stdout",
     "output_type": "stream",
     "text": [
      "Requirement already satisfied: google-auth<3,>=1.6.3 in /Users/breaux/opt/anaconda3/lib/python3.8/site-packages (from tensorboard<2.12,>=2.11->tensorflow) (2.6.6)\n",
      "Requirement already satisfied: tensorboard-plugin-wit>=1.6.0 in /Users/breaux/opt/anaconda3/lib/python3.8/site-packages (from tensorboard<2.12,>=2.11->tensorflow) (1.8.1)\n",
      "Requirement already satisfied: requests<3,>=2.21.0 in /Users/breaux/opt/anaconda3/lib/python3.8/site-packages (from tensorboard<2.12,>=2.11->tensorflow) (2.24.0)\n",
      "Requirement already satisfied: google-auth-oauthlib<0.5,>=0.4.1 in /Users/breaux/opt/anaconda3/lib/python3.8/site-packages (from tensorboard<2.12,>=2.11->tensorflow) (0.4.6)\n",
      "Requirement already satisfied: markdown>=2.6.8 in /Users/breaux/opt/anaconda3/lib/python3.8/site-packages (from tensorboard<2.12,>=2.11->tensorflow) (3.4.1)\n",
      "Requirement already satisfied: tensorboard-data-server<0.7.0,>=0.6.0 in /Users/breaux/opt/anaconda3/lib/python3.8/site-packages (from tensorboard<2.12,>=2.11->tensorflow) (0.6.1)\n",
      "Requirement already satisfied: cachetools<6.0,>=2.0.0 in /Users/breaux/opt/anaconda3/lib/python3.8/site-packages (from google-auth<3,>=1.6.3->tensorboard<2.12,>=2.11->tensorflow) (5.0.0)\n",
      "Requirement already satisfied: rsa<5,>=3.1.4; python_version >= \"3.6\" in /Users/breaux/opt/anaconda3/lib/python3.8/site-packages (from google-auth<3,>=1.6.3->tensorboard<2.12,>=2.11->tensorflow) (4.8)\n",
      "Requirement already satisfied: pyasn1-modules>=0.2.1 in /Users/breaux/opt/anaconda3/lib/python3.8/site-packages (from google-auth<3,>=1.6.3->tensorboard<2.12,>=2.11->tensorflow) (0.2.8)\n",
      "Requirement already satisfied: urllib3!=1.25.0,!=1.25.1,<1.26,>=1.21.1 in /Users/breaux/opt/anaconda3/lib/python3.8/site-packages (from requests<3,>=2.21.0->tensorboard<2.12,>=2.11->tensorflow) (1.25.11)\n",
      "Requirement already satisfied: chardet<4,>=3.0.2 in /Users/breaux/opt/anaconda3/lib/python3.8/site-packages (from requests<3,>=2.21.0->tensorboard<2.12,>=2.11->tensorflow) (3.0.4)\n",
      "Requirement already satisfied: idna<3,>=2.5 in /Users/breaux/opt/anaconda3/lib/python3.8/site-packages (from requests<3,>=2.21.0->tensorboard<2.12,>=2.11->tensorflow) (2.10)\n",
      "Requirement already satisfied: certifi>=2017.4.17 in /Users/breaux/opt/anaconda3/lib/python3.8/site-packages (from requests<3,>=2.21.0->tensorboard<2.12,>=2.11->tensorflow) (2020.6.20)\n",
      "Requirement already satisfied: requests-oauthlib>=0.7.0 in /Users/breaux/opt/anaconda3/lib/python3.8/site-packages (from google-auth-oauthlib<0.5,>=0.4.1->tensorboard<2.12,>=2.11->tensorflow) (1.3.1)\n",
      "Requirement already satisfied: importlib-metadata>=4.4; python_version < \"3.10\" in /Users/breaux/opt/anaconda3/lib/python3.8/site-packages (from markdown>=2.6.8->tensorboard<2.12,>=2.11->tensorflow) (6.0.0)\n",
      "Requirement already satisfied: pyasn1>=0.1.3 in /Users/breaux/opt/anaconda3/lib/python3.8/site-packages (from rsa<5,>=3.1.4; python_version >= \"3.6\"->google-auth<3,>=1.6.3->tensorboard<2.12,>=2.11->tensorflow) (0.4.8)\n",
      "Requirement already satisfied: oauthlib>=3.0.0 in /Users/breaux/opt/anaconda3/lib/python3.8/site-packages (from requests-oauthlib>=0.7.0->google-auth-oauthlib<0.5,>=0.4.1->tensorboard<2.12,>=2.11->tensorflow) (3.2.2)\n",
      "Requirement already satisfied: zipp>=0.5 in /Users/breaux/opt/anaconda3/lib/python3.8/site-packages (from importlib-metadata>=4.4; python_version < \"3.10\"->markdown>=2.6.8->tensorboard<2.12,>=2.11->tensorflow) (3.4.0)\n",
      "Requirement already satisfied: spacy in /Users/breaux/opt/anaconda3/lib/python3.8/site-packages (3.0.8)\n",
      "Requirement already satisfied: srsly<3.0.0,>=2.4.1 in /Users/breaux/opt/anaconda3/lib/python3.8/site-packages (from spacy) (2.4.3)\n",
      "Requirement already satisfied: pydantic!=1.8,!=1.8.1,<1.9.0,>=1.7.4 in /Users/breaux/opt/anaconda3/lib/python3.8/site-packages (from spacy) (1.8.2)\n",
      "Requirement already satisfied: spacy-legacy<3.1.0,>=3.0.5 in /Users/breaux/opt/anaconda3/lib/python3.8/site-packages (from spacy) (3.0.9)\n",
      "Requirement already satisfied: catalogue<2.1.0,>=2.0.4 in /Users/breaux/opt/anaconda3/lib/python3.8/site-packages (from spacy) (2.0.7)\n",
      "Requirement already satisfied: tqdm<5.0.0,>=4.38.0 in /Users/breaux/opt/anaconda3/lib/python3.8/site-packages (from spacy) (4.64.0)\n",
      "Requirement already satisfied: jinja2 in /Users/breaux/opt/anaconda3/lib/python3.8/site-packages (from spacy) (2.11.2)\n",
      "Requirement already satisfied: setuptools in /Users/breaux/opt/anaconda3/lib/python3.8/site-packages (from spacy) (50.3.1.post20201107)\n",
      "Requirement already satisfied: typer<0.4.0,>=0.3.0 in /Users/breaux/opt/anaconda3/lib/python3.8/site-packages (from spacy) (0.3.2)\n",
      "Requirement already satisfied: numpy>=1.15.0 in /Users/breaux/opt/anaconda3/lib/python3.8/site-packages (from spacy) (1.21.0)\n",
      "Requirement already satisfied: murmurhash<1.1.0,>=0.28.0 in /Users/breaux/opt/anaconda3/lib/python3.8/site-packages (from spacy) (1.0.5)\n",
      "Requirement already satisfied: pathy>=0.3.5 in /Users/breaux/opt/anaconda3/lib/python3.8/site-packages (from spacy) (0.4.0)\n",
      "Requirement already satisfied: cymem<2.1.0,>=2.0.2 in /Users/breaux/opt/anaconda3/lib/python3.8/site-packages (from spacy) (2.0.5)\n",
      "Requirement already satisfied: packaging>=20.0 in /Users/breaux/opt/anaconda3/lib/python3.8/site-packages (from spacy) (21.3)\n",
      "Requirement already satisfied: requests<3.0.0,>=2.13.0 in /Users/breaux/opt/anaconda3/lib/python3.8/site-packages (from spacy) (2.24.0)\n",
      "Requirement already satisfied: wasabi<1.1.0,>=0.8.1 in /Users/breaux/opt/anaconda3/lib/python3.8/site-packages (from spacy) (0.8.2)\n",
      "Requirement already satisfied: blis<0.8.0,>=0.4.0 in /Users/breaux/opt/anaconda3/lib/python3.8/site-packages (from spacy) (0.7.4)\n",
      "Requirement already satisfied: thinc<8.1.0,>=8.0.3 in /Users/breaux/opt/anaconda3/lib/python3.8/site-packages (from spacy) (8.0.15)\n",
      "Requirement already satisfied: preshed<3.1.0,>=3.0.2 in /Users/breaux/opt/anaconda3/lib/python3.8/site-packages (from spacy) (3.0.5)\n",
      "Requirement already satisfied: typing-extensions>=3.7.4.3 in /Users/breaux/opt/anaconda3/lib/python3.8/site-packages (from pydantic!=1.8,!=1.8.1,<1.9.0,>=1.7.4->spacy) (3.7.4.3)\n",
      "Requirement already satisfied: MarkupSafe>=0.23 in /Users/breaux/opt/anaconda3/lib/python3.8/site-packages (from jinja2->spacy) (1.1.1)\n",
      "Requirement already satisfied: click<7.2.0,>=7.1.1 in /Users/breaux/opt/anaconda3/lib/python3.8/site-packages (from typer<0.4.0,>=0.3.0->spacy) (7.1.2)\n",
      "Requirement already satisfied: smart-open<4.0.0,>=2.2.0 in /Users/breaux/opt/anaconda3/lib/python3.8/site-packages (from pathy>=0.3.5->spacy) (3.0.0)\n",
      "Requirement already satisfied: pyparsing!=3.0.5,>=2.0.2 in /Users/breaux/opt/anaconda3/lib/python3.8/site-packages (from packaging>=20.0->spacy) (2.4.7)\n",
      "Requirement already satisfied: urllib3!=1.25.0,!=1.25.1,<1.26,>=1.21.1 in /Users/breaux/opt/anaconda3/lib/python3.8/site-packages (from requests<3.0.0,>=2.13.0->spacy) (1.25.11)\n",
      "Requirement already satisfied: idna<3,>=2.5 in /Users/breaux/opt/anaconda3/lib/python3.8/site-packages (from requests<3.0.0,>=2.13.0->spacy) (2.10)\n",
      "Requirement already satisfied: certifi>=2017.4.17 in /Users/breaux/opt/anaconda3/lib/python3.8/site-packages (from requests<3.0.0,>=2.13.0->spacy) (2020.6.20)\n",
      "Requirement already satisfied: chardet<4,>=3.0.2 in /Users/breaux/opt/anaconda3/lib/python3.8/site-packages (from requests<3.0.0,>=2.13.0->spacy) (3.0.4)\n",
      "Requirement already satisfied: seqeval in /Users/breaux/opt/anaconda3/lib/python3.8/site-packages (1.2.2)\n",
      "Requirement already satisfied: numpy>=1.14.0 in /Users/breaux/opt/anaconda3/lib/python3.8/site-packages (from seqeval) (1.21.0)\n",
      "Requirement already satisfied: scikit-learn>=0.21.3 in /Users/breaux/opt/anaconda3/lib/python3.8/site-packages (from seqeval) (0.23.2)\n",
      "Requirement already satisfied: scipy>=0.19.1 in /Users/breaux/opt/anaconda3/lib/python3.8/site-packages (from scikit-learn>=0.21.3->seqeval) (1.6.1)\n",
      "Requirement already satisfied: joblib>=0.11 in /Users/breaux/opt/anaconda3/lib/python3.8/site-packages (from scikit-learn>=0.21.3->seqeval) (0.17.0)\n",
      "Requirement already satisfied: threadpoolctl>=2.0.0 in /Users/breaux/opt/anaconda3/lib/python3.8/site-packages (from scikit-learn>=0.21.3->seqeval) (2.1.0)\n",
      "Requirement already satisfied: ipywidgets in /Users/breaux/opt/anaconda3/lib/python3.8/site-packages (7.5.1)\n",
      "Requirement already satisfied: traitlets>=4.3.1 in /Users/breaux/opt/anaconda3/lib/python3.8/site-packages (from ipywidgets) (5.0.5)\n",
      "Requirement already satisfied: ipykernel>=4.5.1 in /Users/breaux/opt/anaconda3/lib/python3.8/site-packages (from ipywidgets) (5.3.4)\n"
     ]
    },
    {
     "name": "stdout",
     "output_type": "stream",
     "text": [
      "Requirement already satisfied: ipython>=4.0.0; python_version >= \"3.3\" in /Users/breaux/opt/anaconda3/lib/python3.8/site-packages (from ipywidgets) (7.19.0)\n",
      "Requirement already satisfied: widgetsnbextension~=3.5.0 in /Users/breaux/opt/anaconda3/lib/python3.8/site-packages (from ipywidgets) (3.5.1)\n",
      "Requirement already satisfied: nbformat>=4.2.0 in /Users/breaux/opt/anaconda3/lib/python3.8/site-packages (from ipywidgets) (5.0.8)\n",
      "Requirement already satisfied: ipython-genutils in /Users/breaux/opt/anaconda3/lib/python3.8/site-packages (from traitlets>=4.3.1->ipywidgets) (0.2.0)\n",
      "Requirement already satisfied: jupyter-client in /Users/breaux/opt/anaconda3/lib/python3.8/site-packages (from ipykernel>=4.5.1->ipywidgets) (6.1.7)\n",
      "Requirement already satisfied: appnope; platform_system == \"Darwin\" in /Users/breaux/opt/anaconda3/lib/python3.8/site-packages (from ipykernel>=4.5.1->ipywidgets) (0.1.0)\n",
      "Requirement already satisfied: tornado>=4.2 in /Users/breaux/opt/anaconda3/lib/python3.8/site-packages (from ipykernel>=4.5.1->ipywidgets) (6.0.4)\n",
      "Requirement already satisfied: backcall in /Users/breaux/opt/anaconda3/lib/python3.8/site-packages (from ipython>=4.0.0; python_version >= \"3.3\"->ipywidgets) (0.2.0)\n",
      "Requirement already satisfied: pickleshare in /Users/breaux/opt/anaconda3/lib/python3.8/site-packages (from ipython>=4.0.0; python_version >= \"3.3\"->ipywidgets) (0.7.5)\n",
      "Requirement already satisfied: decorator in /Users/breaux/opt/anaconda3/lib/python3.8/site-packages (from ipython>=4.0.0; python_version >= \"3.3\"->ipywidgets) (4.4.2)\n",
      "Requirement already satisfied: pygments in /Users/breaux/opt/anaconda3/lib/python3.8/site-packages (from ipython>=4.0.0; python_version >= \"3.3\"->ipywidgets) (2.7.2)\n",
      "Requirement already satisfied: setuptools>=18.5 in /Users/breaux/opt/anaconda3/lib/python3.8/site-packages (from ipython>=4.0.0; python_version >= \"3.3\"->ipywidgets) (50.3.1.post20201107)\n",
      "Requirement already satisfied: jedi>=0.10 in /Users/breaux/opt/anaconda3/lib/python3.8/site-packages (from ipython>=4.0.0; python_version >= \"3.3\"->ipywidgets) (0.17.1)\n",
      "Requirement already satisfied: pexpect>4.3; sys_platform != \"win32\" in /Users/breaux/opt/anaconda3/lib/python3.8/site-packages (from ipython>=4.0.0; python_version >= \"3.3\"->ipywidgets) (4.8.0)\n",
      "Requirement already satisfied: prompt-toolkit!=3.0.0,!=3.0.1,<3.1.0,>=2.0.0 in /Users/breaux/opt/anaconda3/lib/python3.8/site-packages (from ipython>=4.0.0; python_version >= \"3.3\"->ipywidgets) (3.0.8)\n",
      "Requirement already satisfied: notebook>=4.4.1 in /Users/breaux/opt/anaconda3/lib/python3.8/site-packages (from widgetsnbextension~=3.5.0->ipywidgets) (6.1.4)\n",
      "Requirement already satisfied: jsonschema!=2.5.0,>=2.4 in /Users/breaux/opt/anaconda3/lib/python3.8/site-packages (from nbformat>=4.2.0->ipywidgets) (3.2.0)\n",
      "Requirement already satisfied: jupyter-core in /Users/breaux/opt/anaconda3/lib/python3.8/site-packages (from nbformat>=4.2.0->ipywidgets) (4.6.3)\n",
      "Requirement already satisfied: pyzmq>=13 in /Users/breaux/opt/anaconda3/lib/python3.8/site-packages (from jupyter-client->ipykernel>=4.5.1->ipywidgets) (19.0.2)\n",
      "Requirement already satisfied: python-dateutil>=2.1 in /Users/breaux/opt/anaconda3/lib/python3.8/site-packages (from jupyter-client->ipykernel>=4.5.1->ipywidgets) (2.8.1)\n",
      "Requirement already satisfied: parso<0.8.0,>=0.7.0 in /Users/breaux/opt/anaconda3/lib/python3.8/site-packages (from jedi>=0.10->ipython>=4.0.0; python_version >= \"3.3\"->ipywidgets) (0.7.0)\n",
      "Requirement already satisfied: ptyprocess>=0.5 in /Users/breaux/opt/anaconda3/lib/python3.8/site-packages (from pexpect>4.3; sys_platform != \"win32\"->ipython>=4.0.0; python_version >= \"3.3\"->ipywidgets) (0.6.0)\n",
      "Requirement already satisfied: wcwidth in /Users/breaux/opt/anaconda3/lib/python3.8/site-packages (from prompt-toolkit!=3.0.0,!=3.0.1,<3.1.0,>=2.0.0->ipython>=4.0.0; python_version >= \"3.3\"->ipywidgets) (0.2.5)\n",
      "Requirement already satisfied: jinja2 in /Users/breaux/opt/anaconda3/lib/python3.8/site-packages (from notebook>=4.4.1->widgetsnbextension~=3.5.0->ipywidgets) (2.11.2)\n",
      "Requirement already satisfied: argon2-cffi in /Users/breaux/opt/anaconda3/lib/python3.8/site-packages (from notebook>=4.4.1->widgetsnbextension~=3.5.0->ipywidgets) (20.1.0)\n",
      "Requirement already satisfied: nbconvert in /Users/breaux/opt/anaconda3/lib/python3.8/site-packages (from notebook>=4.4.1->widgetsnbextension~=3.5.0->ipywidgets) (6.0.7)\n",
      "Requirement already satisfied: Send2Trash in /Users/breaux/opt/anaconda3/lib/python3.8/site-packages (from notebook>=4.4.1->widgetsnbextension~=3.5.0->ipywidgets) (1.5.0)\n",
      "Requirement already satisfied: terminado>=0.8.3 in /Users/breaux/opt/anaconda3/lib/python3.8/site-packages (from notebook>=4.4.1->widgetsnbextension~=3.5.0->ipywidgets) (0.9.1)\n",
      "Requirement already satisfied: prometheus-client in /Users/breaux/opt/anaconda3/lib/python3.8/site-packages (from notebook>=4.4.1->widgetsnbextension~=3.5.0->ipywidgets) (0.8.0)\n",
      "Requirement already satisfied: attrs>=17.4.0 in /Users/breaux/opt/anaconda3/lib/python3.8/site-packages (from jsonschema!=2.5.0,>=2.4->nbformat>=4.2.0->ipywidgets) (20.3.0)\n",
      "Requirement already satisfied: six>=1.11.0 in /Users/breaux/opt/anaconda3/lib/python3.8/site-packages (from jsonschema!=2.5.0,>=2.4->nbformat>=4.2.0->ipywidgets) (1.15.0)\n",
      "Requirement already satisfied: pyrsistent>=0.14.0 in /Users/breaux/opt/anaconda3/lib/python3.8/site-packages (from jsonschema!=2.5.0,>=2.4->nbformat>=4.2.0->ipywidgets) (0.17.3)\n",
      "Requirement already satisfied: MarkupSafe>=0.23 in /Users/breaux/opt/anaconda3/lib/python3.8/site-packages (from jinja2->notebook>=4.4.1->widgetsnbextension~=3.5.0->ipywidgets) (1.1.1)\n",
      "Requirement already satisfied: cffi>=1.0.0 in /Users/breaux/opt/anaconda3/lib/python3.8/site-packages (from argon2-cffi->notebook>=4.4.1->widgetsnbextension~=3.5.0->ipywidgets) (1.14.3)\n",
      "Requirement already satisfied: entrypoints>=0.2.2 in /Users/breaux/opt/anaconda3/lib/python3.8/site-packages (from nbconvert->notebook>=4.4.1->widgetsnbextension~=3.5.0->ipywidgets) (0.3)\n",
      "Requirement already satisfied: testpath in /Users/breaux/opt/anaconda3/lib/python3.8/site-packages (from nbconvert->notebook>=4.4.1->widgetsnbextension~=3.5.0->ipywidgets) (0.4.4)\n",
      "Requirement already satisfied: jupyterlab-pygments in /Users/breaux/opt/anaconda3/lib/python3.8/site-packages (from nbconvert->notebook>=4.4.1->widgetsnbextension~=3.5.0->ipywidgets) (0.1.2)\n",
      "Requirement already satisfied: defusedxml in /Users/breaux/opt/anaconda3/lib/python3.8/site-packages (from nbconvert->notebook>=4.4.1->widgetsnbextension~=3.5.0->ipywidgets) (0.6.0)\n",
      "Requirement already satisfied: mistune<2,>=0.8.1 in /Users/breaux/opt/anaconda3/lib/python3.8/site-packages (from nbconvert->notebook>=4.4.1->widgetsnbextension~=3.5.0->ipywidgets) (0.8.4)\n",
      "Requirement already satisfied: pandocfilters>=1.4.1 in /Users/breaux/opt/anaconda3/lib/python3.8/site-packages (from nbconvert->notebook>=4.4.1->widgetsnbextension~=3.5.0->ipywidgets) (1.4.3)\n",
      "Requirement already satisfied: bleach in /Users/breaux/opt/anaconda3/lib/python3.8/site-packages (from nbconvert->notebook>=4.4.1->widgetsnbextension~=3.5.0->ipywidgets) (3.2.1)\n",
      "Requirement already satisfied: nbclient<0.6.0,>=0.5.0 in /Users/breaux/opt/anaconda3/lib/python3.8/site-packages (from nbconvert->notebook>=4.4.1->widgetsnbextension~=3.5.0->ipywidgets) (0.5.1)\n",
      "Requirement already satisfied: pycparser in /Users/breaux/opt/anaconda3/lib/python3.8/site-packages (from cffi>=1.0.0->argon2-cffi->notebook>=4.4.1->widgetsnbextension~=3.5.0->ipywidgets) (2.20)\n",
      "Requirement already satisfied: webencodings in /Users/breaux/opt/anaconda3/lib/python3.8/site-packages (from bleach->nbconvert->notebook>=4.4.1->widgetsnbextension~=3.5.0->ipywidgets) (0.5.1)\n",
      "Requirement already satisfied: packaging in /Users/breaux/opt/anaconda3/lib/python3.8/site-packages (from bleach->nbconvert->notebook>=4.4.1->widgetsnbextension~=3.5.0->ipywidgets) (21.3)\n",
      "Requirement already satisfied: async-generator in /Users/breaux/opt/anaconda3/lib/python3.8/site-packages (from nbclient<0.6.0,>=0.5.0->nbconvert->notebook>=4.4.1->widgetsnbextension~=3.5.0->ipywidgets) (1.10)\n",
      "Requirement already satisfied: nest-asyncio in /Users/breaux/opt/anaconda3/lib/python3.8/site-packages (from nbclient<0.6.0,>=0.5.0->nbconvert->notebook>=4.4.1->widgetsnbextension~=3.5.0->ipywidgets) (1.4.2)\n",
      "Requirement already satisfied: pyparsing!=3.0.5,>=2.0.2 in /Users/breaux/opt/anaconda3/lib/python3.8/site-packages (from packaging->bleach->nbconvert->notebook>=4.4.1->widgetsnbextension~=3.5.0->ipywidgets) (2.4.7)\n"
     ]
    },
    {
     "name": "stdout",
     "output_type": "stream",
     "text": [
      "Requirement already satisfied: ray[tune] in /Users/breaux/opt/anaconda3/lib/python3.8/site-packages (2.2.0)\n",
      "Requirement already satisfied: scipy in /Users/breaux/opt/anaconda3/lib/python3.8/site-packages (1.6.1)\n",
      "Collecting sklearn\n",
      "  Downloading sklearn-0.0.post1.tar.gz (3.6 kB)\n",
      "Requirement already satisfied: pyyaml in /Users/breaux/opt/anaconda3/lib/python3.8/site-packages (from ray[tune]) (5.3.1)\n",
      "Requirement already satisfied: jsonschema in /Users/breaux/opt/anaconda3/lib/python3.8/site-packages (from ray[tune]) (3.2.0)\n",
      "Requirement already satisfied: filelock in /Users/breaux/opt/anaconda3/lib/python3.8/site-packages (from ray[tune]) (3.6.0)\n",
      "Requirement already satisfied: aiosignal in /Users/breaux/opt/anaconda3/lib/python3.8/site-packages (from ray[tune]) (1.2.0)\n",
      "Requirement already satisfied: numpy>=1.16; python_version < \"3.9\" in /Users/breaux/opt/anaconda3/lib/python3.8/site-packages (from ray[tune]) (1.21.0)\n",
      "Requirement already satisfied: attrs in /Users/breaux/opt/anaconda3/lib/python3.8/site-packages (from ray[tune]) (20.3.0)\n",
      "Requirement already satisfied: click>=7.0 in /Users/breaux/opt/anaconda3/lib/python3.8/site-packages (from ray[tune]) (7.1.2)\n",
      "Requirement already satisfied: requests in /Users/breaux/opt/anaconda3/lib/python3.8/site-packages (from ray[tune]) (2.24.0)\n",
      "Requirement already satisfied: virtualenv>=20.0.24 in /Users/breaux/opt/anaconda3/lib/python3.8/site-packages (from ray[tune]) (20.19.0)\n",
      "Requirement already satisfied: grpcio>=1.32.0; python_version < \"3.10\" in /Users/breaux/opt/anaconda3/lib/python3.8/site-packages (from ray[tune]) (1.51.1)\n",
      "Requirement already satisfied: msgpack<2.0.0,>=1.0.0 in /Users/breaux/opt/anaconda3/lib/python3.8/site-packages (from ray[tune]) (1.0.0)\n",
      "Requirement already satisfied: protobuf!=3.19.5,>=3.15.3 in /Users/breaux/opt/anaconda3/lib/python3.8/site-packages (from ray[tune]) (3.19.6)\n",
      "Requirement already satisfied: frozenlist in /Users/breaux/opt/anaconda3/lib/python3.8/site-packages (from ray[tune]) (1.3.0)\n",
      "Requirement already satisfied: pandas; extra == \"tune\" in /Users/breaux/opt/anaconda3/lib/python3.8/site-packages (from ray[tune]) (1.1.3)\n",
      "Requirement already satisfied: tabulate; extra == \"tune\" in /Users/breaux/opt/anaconda3/lib/python3.8/site-packages (from ray[tune]) (0.9.0)\n",
      "Requirement already satisfied: tensorboardX>=1.9; extra == \"tune\" in /Users/breaux/opt/anaconda3/lib/python3.8/site-packages (from ray[tune]) (2.1)\n",
      "Requirement already satisfied: pyrsistent>=0.14.0 in /Users/breaux/opt/anaconda3/lib/python3.8/site-packages (from jsonschema->ray[tune]) (0.17.3)\n",
      "Requirement already satisfied: setuptools in /Users/breaux/opt/anaconda3/lib/python3.8/site-packages (from jsonschema->ray[tune]) (50.3.1.post20201107)\n",
      "Requirement already satisfied: six>=1.11.0 in /Users/breaux/opt/anaconda3/lib/python3.8/site-packages (from jsonschema->ray[tune]) (1.15.0)\n",
      "Requirement already satisfied: chardet<4,>=3.0.2 in /Users/breaux/opt/anaconda3/lib/python3.8/site-packages (from requests->ray[tune]) (3.0.4)\n",
      "Requirement already satisfied: idna<3,>=2.5 in /Users/breaux/opt/anaconda3/lib/python3.8/site-packages (from requests->ray[tune]) (2.10)\n",
      "Requirement already satisfied: certifi>=2017.4.17 in /Users/breaux/opt/anaconda3/lib/python3.8/site-packages (from requests->ray[tune]) (2020.6.20)\n",
      "Requirement already satisfied: urllib3!=1.25.0,!=1.25.1,<1.26,>=1.21.1 in /Users/breaux/opt/anaconda3/lib/python3.8/site-packages (from requests->ray[tune]) (1.25.11)\n",
      "Requirement already satisfied: distlib<1,>=0.3.6 in /Users/breaux/opt/anaconda3/lib/python3.8/site-packages (from virtualenv>=20.0.24->ray[tune]) (0.3.6)\n",
      "Requirement already satisfied: platformdirs<4,>=2.4 in /Users/breaux/opt/anaconda3/lib/python3.8/site-packages (from virtualenv>=20.0.24->ray[tune]) (3.0.0)\n",
      "Requirement already satisfied: pytz>=2017.2 in /Users/breaux/opt/anaconda3/lib/python3.8/site-packages (from pandas; extra == \"tune\"->ray[tune]) (2020.1)\n",
      "Requirement already satisfied: python-dateutil>=2.7.3 in /Users/breaux/opt/anaconda3/lib/python3.8/site-packages (from pandas; extra == \"tune\"->ray[tune]) (2.8.1)\n",
      "Building wheels for collected packages: sklearn\n",
      "  Building wheel for sklearn (setup.py) ... \u001b[?25ldone\n",
      "\u001b[?25h  Created wheel for sklearn: filename=sklearn-0.0.post1-py3-none-any.whl size=2342 sha256=388a79d45e31d528cf4d0cf8da143208772ab4025b1b63c7847be4f5056f9773\n",
      "  Stored in directory: /Users/breaux/Library/Caches/pip/wheels/14/25/f7/1cc0956978ae479e75140219088deb7a36f60459df242b1a72\n",
      "Successfully built sklearn\n",
      "Installing collected packages: sklearn\n",
      "Successfully installed sklearn-0.0.post1\n",
      "Collecting pyinterval\n",
      "  Downloading pyinterval-1.2.0.tar.gz (25 kB)\n",
      "Collecting crlibm==1.*,>=1.0.3\n",
      "  Downloading crlibm-1.0.3.tar.gz (1.6 MB)\n",
      "\u001b[K     |████████████████████████████████| 1.6 MB 2.8 MB/s eta 0:00:01\n",
      "\u001b[?25hRequirement already satisfied: six>=1.10 in /Users/breaux/opt/anaconda3/lib/python3.8/site-packages (from pyinterval) (1.15.0)\n",
      "Building wheels for collected packages: pyinterval, crlibm\n",
      "  Building wheel for pyinterval (setup.py) ... \u001b[?25ldone\n",
      "\u001b[?25h  Created wheel for pyinterval: filename=pyinterval-1.2.0-py3-none-any.whl size=11239 sha256=59b8050719377824378f493f4a2b0c1c42cdaf49b49dbe2e46b1e0d476b64c26\n",
      "  Stored in directory: /Users/breaux/Library/Caches/pip/wheels/f0/fc/af/8c69a2ed7df2bb1aeaa5fb056b77bc943fb0af605fdfed3937\n",
      "  Building wheel for crlibm (setup.py) ... \u001b[?25ldone\n",
      "\u001b[?25h  Created wheel for crlibm: filename=crlibm-1.0.3-cp38-cp38-macosx_10_9_x86_64.whl size=128925 sha256=ae93ed77359a20ad4a12c39b667f4e91ef6e435e319af6b24ca23d2d36598c68\n",
      "  Stored in directory: /Users/breaux/Library/Caches/pip/wheels/0c/94/29/3e0e876a557418f2b0dbcfe5b6e65d8922297ad991f314927b\n",
      "Successfully built pyinterval crlibm\n",
      "Installing collected packages: crlibm, pyinterval\n",
      "Successfully installed crlibm-1.0.3 pyinterval-1.2.0\n"
     ]
    }
   ],
   "source": [
    "! pip install transformers[sentencepiece] datasets tokenizers evaluate\n",
    "! pip install torch\n",
    "! pip install tensorflow\n",
    "! pip install spacy\n",
    "! pip install seqeval\n",
    "! pip install ipywidgets\n",
    "! pip install \"ray[tune]\" scipy sklearn\n",
    "! pip install pyinterval"
   ]
  },
  {
   "cell_type": "code",
   "execution_count": 2,
   "metadata": {
    "colab": {
     "base_uri": "https://localhost:8080/"
    },
    "executionInfo": {
     "elapsed": 23247,
     "status": "ok",
     "timestamp": 1676902400591,
     "user": {
      "displayName": "Tianjian Huang",
      "userId": "09867676290989603145"
     },
     "user_tz": 300
    },
    "id": "P4lDdgUiTLkr",
    "outputId": "74dad616-d098-4f62-c443-b687d90c9645"
   },
   "outputs": [
    {
     "name": "stdout",
     "output_type": "stream",
     "text": [
      "Mounted at /content/drive\n",
      "/content/drive/MyDrive/mobile_privacy/cleaned/models\n"
     ]
    }
   ],
   "source": [
    "from google.colab import drive\n",
    "drive.mount('/content/drive')\n",
    "%cd /content/drive/MyDrive/mobile_privacy/cleaned/models"
   ]
  },
  {
   "cell_type": "code",
   "execution_count": 2,
   "metadata": {
    "executionInfo": {
     "elapsed": 315,
     "status": "ok",
     "timestamp": 1676902955908,
     "user": {
      "displayName": "Tianjian Huang",
      "userId": "09867676290989603145"
     },
     "user_tz": 300
    },
    "id": "DHgc0vDJMU4r"
   },
   "outputs": [],
   "source": [
    "import json\n",
    "from interval import interval\n",
    "from copy import deepcopy\n",
    "from random import shuffle\n",
    "from functools import cmp_to_key\n",
    "import pandas as pd\n",
    "import spacy\n",
    "nlp = spacy.load(\"en_core_web_sm\")\n",
    "from spacy.training import offsets_to_biluo_tags, biluo_to_iob"
   ]
  },
  {
   "cell_type": "code",
   "execution_count": 3,
   "metadata": {
    "executionInfo": {
     "elapsed": 2,
     "status": "ok",
     "timestamp": 1676902957887,
     "user": {
      "displayName": "Tianjian Huang",
      "userId": "09867676290989603145"
     },
     "user_tz": 300
    },
    "id": "rynhbfrHSsGi"
   },
   "outputs": [],
   "source": [
    "def replace_linebreak(text):\n",
    "  return text.replace(\"\\r\",\"\")\n",
    "\n",
    "def load_jsonl_file(filename):\n",
    "  '''\n",
    "  load the original jsonl file.\n",
    "  replace the line break \\r\\n to \\n, in order to get correct label offset.\n",
    "  return a list of dict{'text':string, 'label':list of [start, end, category]}\n",
    "  '''\n",
    "  jsonl_content = open(filename,'r').read()\n",
    "  result = [json.loads(jline) for jline in jsonl_content.splitlines()]\n",
    "  for data in result:\n",
    "    data['text'] = replace_linebreak(data['text'])\n",
    "  return result"
   ]
  },
  {
   "cell_type": "code",
   "execution_count": 4,
   "metadata": {
    "executionInfo": {
     "elapsed": 264,
     "status": "ok",
     "timestamp": 1676906557210,
     "user": {
      "displayName": "Tianjian Huang",
      "userId": "09867676290989603145"
     },
     "user_tz": 300
    },
    "id": "-St-XHu4SzIE"
   },
   "outputs": [],
   "source": [
    "def overlapped(label1, label2):\n",
    "  ''' \n",
    "  Input: two labels with [start, end, category]\n",
    "  Output: whether they are overlapped\n",
    "  Notice that the range of token is [start, end), end is exclusive\n",
    "  '''\n",
    "  start1, end1 = label1[0], label1[1]-1\n",
    "  start2, end2 = label2[0], label2[1]-1\n",
    "  r1 = interval([start1, end1])\n",
    "  r2 = interval([start2, end2])\n",
    "  if len((r1 & r2)) == 0:\n",
    "    return False\n",
    "  return True"
   ]
  },
  {
   "cell_type": "code",
   "execution_count": 5,
   "metadata": {
    "executionInfo": {
     "elapsed": 2,
     "status": "ok",
     "timestamp": 1676906561358,
     "user": {
      "displayName": "Tianjian Huang",
      "userId": "09867676290989603145"
     },
     "user_tz": 300
    },
    "id": "C_M7k6ump4of"
   },
   "outputs": [
    {
     "ename": "TypeError",
     "evalue": "read_csv() got an unexpected keyword argument 'on_bad_lines'",
     "output_type": "error",
     "traceback": [
      "\u001b[0;31m---------------------------------------------------------------------------\u001b[0m",
      "\u001b[0;31mTypeError\u001b[0m                                 Traceback (most recent call last)",
      "\u001b[0;32m<ipython-input-5-89135a1a25f2>\u001b[0m in \u001b[0;36m<module>\u001b[0;34m\u001b[0m\n\u001b[0;32m----> 1\u001b[0;31m \u001b[0murl_df\u001b[0m \u001b[0;34m=\u001b[0m \u001b[0mpd\u001b[0m\u001b[0;34m.\u001b[0m\u001b[0mread_csv\u001b[0m\u001b[0;34m(\u001b[0m\u001b[0;34m'./app_name_category_300.csv'\u001b[0m\u001b[0;34m,\u001b[0m \u001b[0mencoding\u001b[0m\u001b[0;34m=\u001b[0m\u001b[0;34m'latin'\u001b[0m\u001b[0;34m,\u001b[0m\u001b[0mon_bad_lines\u001b[0m \u001b[0;34m=\u001b[0m \u001b[0;34m'warn'\u001b[0m\u001b[0;34m)\u001b[0m\u001b[0;34m\u001b[0m\u001b[0;34m\u001b[0m\u001b[0m\n\u001b[0m\u001b[1;32m      2\u001b[0m \u001b[0mid_app\u001b[0m \u001b[0;34m=\u001b[0m \u001b[0;34m{\u001b[0m\u001b[0;34m}\u001b[0m\u001b[0;34m\u001b[0m\u001b[0;34m\u001b[0m\u001b[0m\n\u001b[1;32m      3\u001b[0m \u001b[0;32mfor\u001b[0m \u001b[0mindex\u001b[0m\u001b[0;34m,\u001b[0m \u001b[0mrow\u001b[0m \u001b[0;32min\u001b[0m \u001b[0murl_df\u001b[0m\u001b[0;34m.\u001b[0m\u001b[0miterrows\u001b[0m\u001b[0;34m(\u001b[0m\u001b[0;34m)\u001b[0m\u001b[0;34m:\u001b[0m\u001b[0;34m\u001b[0m\u001b[0;34m\u001b[0m\u001b[0m\n\u001b[1;32m      4\u001b[0m   \u001b[0mid_app\u001b[0m\u001b[0;34m[\u001b[0m\u001b[0mrow\u001b[0m\u001b[0;34m[\u001b[0m\u001b[0;34m'scenario_id'\u001b[0m\u001b[0;34m]\u001b[0m\u001b[0;34m]\u001b[0m \u001b[0;34m=\u001b[0m \u001b[0;34m[\u001b[0m\u001b[0mrow\u001b[0m\u001b[0;34m[\u001b[0m\u001b[0;34m'app_name'\u001b[0m\u001b[0;34m]\u001b[0m\u001b[0;34m,\u001b[0m \u001b[0mrow\u001b[0m\u001b[0;34m[\u001b[0m\u001b[0;34m'app_category'\u001b[0m\u001b[0;34m]\u001b[0m\u001b[0;34m,\u001b[0m \u001b[0mrow\u001b[0m\u001b[0;34m[\u001b[0m\u001b[0;34m'scenario_id'\u001b[0m\u001b[0;34m]\u001b[0m\u001b[0;34m]\u001b[0m\u001b[0;34m\u001b[0m\u001b[0;34m\u001b[0m\u001b[0m\n",
      "\u001b[0;31mTypeError\u001b[0m: read_csv() got an unexpected keyword argument 'on_bad_lines'"
     ]
    }
   ],
   "source": [
    "url_df = pd.read_csv('./app_name_category_300.csv', encoding='latin',on_bad_lines = 'warn')\n",
    "id_app = {}\n",
    "for index, row in url_df.iterrows():\n",
    "  id_app[row['scenario_id']] = [row['app_name'], row['app_category'], row['scenario_id']]"
   ]
  },
  {
   "cell_type": "code",
   "execution_count": 12,
   "metadata": {
    "executionInfo": {
     "elapsed": 2,
     "status": "ok",
     "timestamp": 1676906561636,
     "user": {
      "displayName": "Tianjian Huang",
      "userId": "09867676290989603145"
     },
     "user_tz": 300
    },
    "id": "21T3GVZ1AfSW"
   },
   "outputs": [],
   "source": [
    "jsonl_file = load_jsonl_file('./raw_300_scenarios.jsonl')"
   ]
  },
  {
   "cell_type": "code",
   "execution_count": 54,
   "metadata": {
    "colab": {
     "base_uri": "https://localhost:8080/"
    },
    "executionInfo": {
     "elapsed": 16274,
     "status": "ok",
     "timestamp": 1676906579539,
     "user": {
      "displayName": "Tianjian Huang",
      "userId": "09867676290989603145"
     },
     "user_tz": 300
    },
    "id": "xtCp0TPEyoex",
    "outputId": "606f3f61-fe28-49e6-965a-02b0bf876d8d"
   },
   "outputs": [
    {
     "name": "stderr",
     "output_type": "stream",
     "text": [
      "/usr/local/lib/python3.8/dist-packages/spacy/training/iob_utils.py:149: UserWarning: [W030] Some entities could not be aligned in the text \"The goals that I want to achieve through this scre...\" with entities \"[[94, 123, 'Questions'], [805, 846, 'Questions'], ...\". Use `spacy.training.offsets_to_biluo_tags(nlp.make_doc(text), entities)` to check the alignment. Misaligned entities ('-') will be ignored during training.\n",
      "  warnings.warn(\n",
      "/usr/local/lib/python3.8/dist-packages/spacy/training/iob_utils.py:149: UserWarning: [W030] Some entities could not be aligned in the text \"When I open up the Twitch app and navigate to the ...\" with entities \"[[590, 630, 'Complex Terms'], [898, 964, 'Complex ...\". Use `spacy.training.offsets_to_biluo_tags(nlp.make_doc(text), entities)` to check the alignment. Misaligned entities ('-') will be ignored during training.\n",
      "  warnings.warn(\n",
      "/usr/local/lib/python3.8/dist-packages/spacy/training/iob_utils.py:149: UserWarning: [W030] Some entities could not be aligned in the text \"I use this screen in the applicate google translat...\" with entities \"[[334, 354, 'Complex Terms'], [613, 636, 'Complex ...\". Use `spacy.training.offsets_to_biluo_tags(nlp.make_doc(text), entities)` to check the alignment. Misaligned entities ('-') will be ignored during training.\n",
      "  warnings.warn(\n",
      "/usr/local/lib/python3.8/dist-packages/spacy/training/iob_utils.py:149: UserWarning: [W030] Some entities could not be aligned in the text \"This screen is used by me because it shows exactly...\" with entities \"[[51, 93, 'Questions'], [135, 146, 'Questions'], [...\". Use `spacy.training.offsets_to_biluo_tags(nlp.make_doc(text), entities)` to check the alignment. Misaligned entities ('-') will be ignored during training.\n",
      "  warnings.warn(\n",
      "/usr/local/lib/python3.8/dist-packages/spacy/training/iob_utils.py:149: UserWarning: [W030] Some entities could not be aligned in the text \"This is the overview page of an investment account...\" with entities \"[[342, 389, 'Complex Terms'], [667, 701, 'Complex ...\". Use `spacy.training.offsets_to_biluo_tags(nlp.make_doc(text), entities)` to check the alignment. Misaligned entities ('-') will be ignored during training.\n",
      "  warnings.warn(\n",
      "/usr/local/lib/python3.8/dist-packages/spacy/training/iob_utils.py:149: UserWarning: [W030] Some entities could not be aligned in the text \"I log into the app on a daily basis and the first ...\" with entities \"[[105, 124, 'Noun Phrase'], [160, 167, 'Noun Phras...\". Use `spacy.training.offsets_to_biluo_tags(nlp.make_doc(text), entities)` to check the alignment. Misaligned entities ('-') will be ignored during training.\n",
      "  warnings.warn(\n",
      "/usr/local/lib/python3.8/dist-packages/spacy/training/iob_utils.py:149: UserWarning: [W030] Some entities could not be aligned in the text \"I use this screen as part of the video recording a...\" with entities \"[[33, 38, 'Noun Phrase'], [243, 249, 'Noun Phrase'...\". Use `spacy.training.offsets_to_biluo_tags(nlp.make_doc(text), entities)` to check the alignment. Misaligned entities ('-') will be ignored during training.\n",
      "  warnings.warn(\n",
      "/usr/local/lib/python3.8/dist-packages/spacy/training/iob_utils.py:149: UserWarning: [W030] Some entities could not be aligned in the text \"I scan potential products I may want to buy in the...\" with entities \"[[70, 86, 'Questions'], [192, 209, 'Questions'], [...\". Use `spacy.training.offsets_to_biluo_tags(nlp.make_doc(text), entities)` to check the alignment. Misaligned entities ('-') will be ignored during training.\n",
      "  warnings.warn(\n",
      "/usr/local/lib/python3.8/dist-packages/spacy/training/iob_utils.py:149: UserWarning: [W030] Some entities could not be aligned in the text \"I use the app to find the best route, to plan a tr...\" with entities \"[[59, 94, 'Complex Terms'], [327, 345, 'Questions'...\". Use `spacy.training.offsets_to_biluo_tags(nlp.make_doc(text), entities)` to check the alignment. Misaligned entities ('-') will be ignored during training.\n",
      "  warnings.warn(\n",
      "/usr/local/lib/python3.8/dist-packages/spacy/training/iob_utils.py:149: UserWarning: [W030] Some entities could not be aligned in the text \"This screen brings up daily health surveys that I ...\" with entities \"[[200, 229, 'Questions'], [234, 291, 'Questions'],...\". Use `spacy.training.offsets_to_biluo_tags(nlp.make_doc(text), entities)` to check the alignment. Misaligned entities ('-') will be ignored during training.\n",
      "  warnings.warn(\n"
     ]
    }
   ],
   "source": [
    "from re import I\n",
    "\n",
    "label_match_dict = {\n",
    "    'O':'O',\n",
    "    'B-Noun Phrase':'B-SIM',\n",
    "    'I-Noun Phrase': 'I-SIM',\n",
    "    'B-Complex Terms':'B-COM',\n",
    "    'I-Complex Terms':'I-COM',\n",
    "    'B-Questions':'B-QUE',\n",
    "    'I-Questions':'I-QUE'\n",
    "}\n",
    "\n",
    "def find_overlap(label1, label_list):\n",
    "  for i in range(len(label_list)):\n",
    "    if overlapped(label1, label_list[i]):\n",
    "      return i\n",
    "  return -1\n",
    "\n",
    "def dedup_scenario_label(jsonl_list):\n",
    "  '''\n",
    "  Deduplication rules:\n",
    "  If noun phrase conflict with clause, keep clause only.\n",
    "  If clause conflict with each other, keep the longest one.\n",
    "  If noun conflict with each other, keep the shortest one.\n",
    "  '''\n",
    "  res = []\n",
    "  for scenario in jsonl_list:\n",
    "    tmp = {}\n",
    "    tmp['id'] = scenario['id']\n",
    "    tmp['text'] = scenario['text']\n",
    "    tmp['app_url'] = scenario['app_url']\n",
    "    tmp['scenario_id'] = scenario['scenario_id']\n",
    "    tmp['raw_label'] = deepcopy(scenario['label'])\n",
    "    tmp['app_name'] = id_app[scenario['scenario_id']][0]\n",
    "    tmp['app_category'] = id_app[scenario['scenario_id']][1]\n",
    "    labels = list()\n",
    "    noun = list()\n",
    "    clause = list()\n",
    "    for label in scenario['label']:\n",
    "      start, end, category = label\n",
    "      if category == 'Noun Phrase':\n",
    "        noun.append(label)\n",
    "      else:\n",
    "        clause.append(label)\n",
    "    # add non-conflict clause first\n",
    "    for label in clause:\n",
    "      ind = find_overlap(label, labels)\n",
    "      if ind == -1:\n",
    "        labels.append(label)\n",
    "      else:\n",
    "        if labels[ind][1] - labels[ind][0] < label[1] - label[0]:\n",
    "          labels[ind] = label\n",
    "    # dedup noun\n",
    "    dedup_noun = list()\n",
    "    for label in noun:\n",
    "      ind = find_overlap(label, dedup_noun)\n",
    "      if ind == -1:\n",
    "        dedup_noun.append(label)\n",
    "      else:\n",
    "        if dedup_noun[ind][1] - dedup_noun[ind][0] > label[1] - label[0]:\n",
    "          dedup_noun[ind] = label\n",
    "    # add non-conflict noun\n",
    "    for label in dedup_noun:\n",
    "      ind = find_overlap(label, labels)\n",
    "      if ind == -1:\n",
    "        labels.append(label)\n",
    "    tmp['label'] = labels\n",
    "    res.append(tmp)\n",
    "  return res\n",
    "\n",
    "\n",
    "def convert_jsonl_to_bio(jsonl_list):\n",
    "  res = {}\n",
    "  for data in jsonl_list:\n",
    "    id = data['scenario_id']\n",
    "    clean_text = data['text']\n",
    "    raw_labels = deepcopy(data['label'])\n",
    "    labels = data['label']\n",
    "    doc = nlp(clean_text)\n",
    "    biluo_tags = offsets_to_biluo_tags(doc, labels)\n",
    "    iob_tags = biluo_to_iob(biluo_tags)\n",
    "    codes = list()\n",
    "    for c in iob_tags:\n",
    "        codes.append(label_match_dict.get(c,'O'))\n",
    "    res[id] = {'id':id,\n",
    "               'text':clean_text,\n",
    "               'words': [str(token) for token in doc],\n",
    "               'codes':codes,\n",
    "               'raw_labels': raw_labels,\n",
    "               'app_name':data['app_name'],\n",
    "               'app_category':data['app_category']}\n",
    "  return res\n",
    "\n",
    "dedup_jsonl_file = dedup_scenario_label(jsonl_file)\n",
    "bio_jsonl = convert_jsonl_to_bio(dedup_jsonl_file)"
   ]
  },
  {
   "cell_type": "code",
   "execution_count": 55,
   "metadata": {
    "executionInfo": {
     "elapsed": 3,
     "status": "ok",
     "timestamp": 1676906579540,
     "user": {
      "displayName": "Tianjian Huang",
      "userId": "09867676290989603145"
     },
     "user_tz": 300
    },
    "id": "7aMmZz90TSTd"
   },
   "outputs": [],
   "source": [
    "with open('./scenarios-labeled.json', 'w') as f:\n",
    "  f.write(json.dumps(bio_jsonl))"
   ]
  },
  {
   "cell_type": "code",
   "execution_count": 13,
   "metadata": {},
   "outputs": [],
   "source": [
    "label_map = {}\n",
    "replace = {'Noun Phrase': 'SIM', 'Questions': 'QUE', 'Complex Terms': 'COM'}\n",
    "for d in jsonl_file:\n",
    "    for label in d['label']:\n",
    "        label[2] = replace[label[2]]\n",
    "    label_map[d['scenario_id']] = d['label']\n",
    "json.dump(label_map, open('../datasets/labels.json', 'w'))"
   ]
  },
  {
   "cell_type": "code",
   "execution_count": null,
   "metadata": {},
   "outputs": [],
   "source": []
  }
 ],
 "metadata": {
  "colab": {
   "authorship_tag": "ABX9TyMeluQ3fR1iUgcFvSNgjQ95",
   "provenance": [
    {
     "file_id": "1S3EEP-SJqBzNwLroFejNOC7RTNt6um32",
     "timestamp": 1676902184043
    }
   ]
  },
  "kernelspec": {
   "display_name": "Python 3",
   "language": "python",
   "name": "python3"
  },
  "language_info": {
   "codemirror_mode": {
    "name": "ipython",
    "version": 3
   },
   "file_extension": ".py",
   "mimetype": "text/x-python",
   "name": "python",
   "nbconvert_exporter": "python",
   "pygments_lexer": "ipython3",
   "version": "3.8.5"
  }
 },
 "nbformat": 4,
 "nbformat_minor": 1
}
