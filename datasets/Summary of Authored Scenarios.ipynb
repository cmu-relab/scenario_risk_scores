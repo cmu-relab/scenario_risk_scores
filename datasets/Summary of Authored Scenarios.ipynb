{
 "cells": [
  {
   "cell_type": "markdown",
   "metadata": {},
   "source": [
    "# Notebook Overview\n",
    "\n",
    "This notebook summarized statistics about the pre- and post-labeled scenario data, \n",
    "excluding author information."
   ]
  },
  {
   "cell_type": "code",
   "execution_count": 5,
   "metadata": {},
   "outputs": [],
   "source": [
    "import json\n",
    "\n",
    "labeled = json.load(open('scenarios-labeled.json'))"
   ]
  },
  {
   "cell_type": "code",
   "execution_count": 6,
   "metadata": {},
   "outputs": [],
   "source": [
    "from collections import Counter\n",
    "import nltk\n",
    "\n",
    "apple_url = 'https://apps.apple.com'\n",
    "googl_url = 'https://play.google.com'\n",
    "\n",
    "def summarize(data):\n",
    "    app_urls = Counter()\n",
    "    stores = Counter()\n",
    "    sent_count = 0\n",
    "    for d in data:\n",
    "        # count app url without parameters (Google only)\n",
    "        url = d['app_url'].split('&')[0]\n",
    "        app_urls[url] += 1\n",
    "        \n",
    "        # count app store by url prefix\n",
    "        if url.startswith(apple_url):\n",
    "            stores[apple_url] += 1\n",
    "        elif url.startswith(googl_url):\n",
    "            stores[googl_url] += 1\n",
    "            \n",
    "        # count sentences\n",
    "        sent = nltk.sent_tokenize(d['text'])\n",
    "        sent_count += len(sent)\n",
    "\n",
    "    print('Scenarios: %i' % len(data))\n",
    "    print('Apple App: %i' % stores[apple_url])\n",
    "    print('Google Play: %i' % stores[googl_url])\n",
    "    print('Unique Apps: %i' % len(app_urls.keys()))\n",
    "    print('Sentences: %i' % sent_count)"
   ]
  },
  {
   "cell_type": "code",
   "execution_count": 7,
   "metadata": {},
   "outputs": [
    {
     "name": "stdout",
     "output_type": "stream",
     "text": [
      "Scenarios: 300\n",
      "Apple App: 106\n",
      "Google Play: 194\n",
      "Unique Apps: 193\n",
      "Sentences: 2426\n"
     ]
    }
   ],
   "source": [
    "summarize(labeled)"
   ]
  },
  {
   "cell_type": "code",
   "execution_count": 13,
   "metadata": {},
   "outputs": [
    {
     "name": "stdout",
     "output_type": "stream",
     "text": [
      "*** General Scenarios ***\n",
      "\n",
      "SIM: 1252\n",
      "QUE: 95\n",
      "COM: 123\n",
      "\n",
      "*** Privacy Scenarios ***\n",
      "\n",
      "SIM: 2666\n",
      "QUE: 245\n",
      "COM: 182\n",
      "\n",
      "Total: 4563\n",
      "Unique: 1953\n"
     ]
    }
   ],
   "source": [
    "entities = {'general': {}, 'privacy': {}}\n",
    "\n",
    "for scenario in labeled:\n",
    "    entity_map = None\n",
    "    if scenario['scenario_id'].startswith('MAS-G'):\n",
    "        entity_map = entities['general']\n",
    "    else:\n",
    "        entity_map = entities['privacy']\n",
    "    \n",
    "    # identify all the phrases\n",
    "    for start, end, label in scenario['labels']:\n",
    "        if not label in entity_map:\n",
    "            entity_map[label] = []\n",
    "        entity_map[label].append(scenario['text'][start:end])\n",
    "\n",
    "unique = []\n",
    "print('*** General Scenarios ***\\n')\n",
    "for k, v in entities['general'].items():\n",
    "    print('%s: %i' % (k, len(v)))\n",
    "    unique.extend(v)\n",
    "    \n",
    "print('\\n*** Privacy Scenarios ***\\n')\n",
    "for k, v in entities['privacy'].items():\n",
    "    print('%s: %i' % (k, len(v)))\n",
    "    unique.extend(v)\n",
    "    \n",
    "print('\\nTotal: %i' % len(unique))\n",
    "print('Unique: %i' % len(set(unique)))"
   ]
  },
  {
   "cell_type": "code",
   "execution_count": 22,
   "metadata": {},
   "outputs": [
    {
     "name": "stdout",
     "output_type": "stream",
     "text": [
      "\n",
      "Apple Category Distribution\n",
      "\n",
      "Books                    : 1\n",
      "Education                : 2\n",
      "Entertainment            : 2\n",
      "Finance                  : 17\n",
      "Food & Drink             : 4\n",
      "Games                    : 3\n",
      "Health & Fitness         : 31\n",
      "Lifestyle                : 2\n",
      "Local Forecasts & Live Maps: 1\n",
      "Music                    : 6\n",
      "Navigation               : 1\n",
      "News                     : 7\n",
      "Photo & Video            : 6\n",
      "Productivity             : 3\n",
      "Reference                : 1\n",
      "Shopping                 : 4\n",
      "Social Networking        : 4\n",
      "Sports                   : 6\n",
      "Travel                   : 1\n",
      "Utilities                : 2\n",
      "Weather                  : 2\n",
      "\n",
      "Total 106 apps, and 21 categories.\n",
      "\n",
      "Google Category Distribution\n",
      "\n",
      "Books & References       : 3\n",
      "Business                 : 1\n",
      "Communications           : 12\n",
      "Dating                   : 1\n",
      "Education                : 5\n",
      "Entertainment            : 10\n",
      "Finance                  : 5\n",
      "Food & Drink             : 13\n",
      "Games                    : 4\n",
      "Health & Fitness         : 33\n",
      "Lifestyle                : 5\n",
      "Maps & Navigation        : 4\n",
      "Medical                  : 2\n",
      "Music & Audio            : 11\n",
      "News & Magazines         : 3\n",
      "Personalization          : 1\n",
      "Photography              : 2\n",
      "Productivity             : 2\n",
      "Shopping                 : 17\n",
      "Social                   : 34\n",
      "Sports                   : 6\n",
      "Tools                    : 6\n",
      "Travel & Local           : 5\n",
      "Video Players & Editors  : 7\n",
      "Weather                  : 2\n",
      "\n",
      "Total 194 apps, and 25 categories.\n"
     ]
    }
   ],
   "source": [
    "app_urls = json.load(open('app-url-dictionary.json'))\n",
    "cat_counter = {'apple': Counter(), 'google': Counter()}\n",
    "\n",
    "def count_app_cats(scenarios):\n",
    "    for scenario in scenarios:\n",
    "        # count statistics by platform\n",
    "        platform = ''\n",
    "        if scenario['app_url'].startswith('https://play.google.com'):\n",
    "            platform = 'google'\n",
    "        else:\n",
    "            platform = 'apple'\n",
    "            \n",
    "        if not scenario['app_url'] in app_urls:\n",
    "            print('Missing URL: %s' % scenario['app_url'])\n",
    "            continue\n",
    "        if not 'app_category' in app_urls[scenario['app_url']]:\n",
    "            print('Missing category for URL: %s' % scenario['app_url'])\n",
    "            continue\n",
    "            \n",
    "        # record the category by platform\n",
    "        app_category = app_urls[scenario['app_url']]['app_category']\n",
    "        cat_counter[platform][app_category] += 1\n",
    "    return cat_counter\n",
    "\n",
    "def report_app_cats(counter):\n",
    "    print('\\nApple Category Distribution\\n')\n",
    "    apps = 0\n",
    "    cats  = 0\n",
    "    for app_category in sorted(cat_counter['apple'].keys()):\n",
    "        print('%s: %i' % (app_category.ljust(25), cat_counter['apple'][app_category]))\n",
    "        apps += cat_counter['apple'][app_category]\n",
    "        cats += 1\n",
    "    print('\\nTotal %i apps, and %i categories.' % (apps, cats))\n",
    "    \n",
    "    print('\\nGoogle Category Distribution\\n')\n",
    "    apps = 0\n",
    "    cats = 0\n",
    "    for app_category in sorted(cat_counter['google'].keys()):\n",
    "        print('%s: %i' % (app_category.ljust(25), cat_counter['google'][app_category]))\n",
    "        apps += cat_counter['google'][app_category]\n",
    "        cats += 1\n",
    "    print('\\nTotal %i apps, and %i categories.' % (apps, cats))\n",
    "\n",
    "report_app_cats(count_app_cats(labeled))"
   ]
  },
  {
   "cell_type": "code",
   "execution_count": null,
   "metadata": {},
   "outputs": [],
   "source": []
  },
  {
   "cell_type": "code",
   "execution_count": null,
   "metadata": {},
   "outputs": [],
   "source": []
  }
 ],
 "metadata": {
  "kernelspec": {
   "display_name": "base",
   "language": "python",
   "name": "base"
  },
  "language_info": {
   "codemirror_mode": {
    "name": "ipython",
    "version": 3
   },
   "file_extension": ".py",
   "mimetype": "text/x-python",
   "name": "python",
   "nbconvert_exporter": "python",
   "pygments_lexer": "ipython3",
   "version": "3.8.5"
  }
 },
 "nbformat": 4,
 "nbformat_minor": 4
}
