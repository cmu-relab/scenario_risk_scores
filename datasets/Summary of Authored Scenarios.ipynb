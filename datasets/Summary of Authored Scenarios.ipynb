{
 "cells": [
  {
   "cell_type": "markdown",
   "metadata": {},
   "source": [
    "# Notebook Overview\n",
    "\n",
    "This notebook summarized statistics about the pre- and post-labeled scenario data, \n",
    "excluding author information."
   ]
  },
  {
   "cell_type": "code",
   "execution_count": 11,
   "metadata": {},
   "outputs": [],
   "source": [
    "import json\n",
    "\n",
    "data1 = json.load(open('scenarios-general.json'))\n",
    "data2 = json.load(open('scenarios-privacy.json'))"
   ]
  },
  {
   "cell_type": "code",
   "execution_count": 2,
   "metadata": {},
   "outputs": [],
   "source": [
    "from collections import Counter\n",
    "import nltk\n",
    "\n",
    "apple_url = 'https://apps.apple.com'\n",
    "googl_url = 'https://play.google.com'\n",
    "\n",
    "def summarize(data):\n",
    "    app_urls = Counter()\n",
    "    stores = Counter()\n",
    "    sent_count = 0\n",
    "    for d in data:\n",
    "        # count app url without parameters (Google only)\n",
    "        url = d['app_url'].split('&')[0]\n",
    "        app_urls[url] += 1\n",
    "        \n",
    "        # count app store by url prefix\n",
    "        if url.startswith(apple_url):\n",
    "            stores[apple_url] += 1\n",
    "        elif url.startswith(googl_url):\n",
    "            stores[googl_url] += 1\n",
    "            \n",
    "        # count sentences\n",
    "        sent = nltk.sent_tokenize(d['text'])\n",
    "        sent_count += len(sent)\n",
    "\n",
    "    print('Scenarios: %i' % len(data))\n",
    "    print('Apple App: %i' % stores[apple_url])\n",
    "    print('Google Play: %i' % stores[googl_url])\n",
    "    print('Unique Apps: %i' % len(app_urls.keys()))\n",
    "    print('Sentences: %i' % sent_count)"
   ]
  },
  {
   "cell_type": "code",
   "execution_count": 3,
   "metadata": {},
   "outputs": [
    {
     "name": "stdout",
     "output_type": "stream",
     "text": [
      "*** General Scenarios ***\n",
      "\n",
      "Scenarios: 100\n",
      "Apple App: 38\n",
      "Google Play: 62\n",
      "Unique Apps: 84\n",
      "Sentences: 810\n"
     ]
    }
   ],
   "source": [
    "print('*** General Scenarios ***\\n')\n",
    "summarize(data1)"
   ]
  },
  {
   "cell_type": "code",
   "execution_count": 4,
   "metadata": {},
   "outputs": [
    {
     "name": "stdout",
     "output_type": "stream",
     "text": [
      "*** Privacy Scenarios ***\n",
      "\n",
      "Scenarios: 200\n",
      "Apple App: 68\n",
      "Google Play: 132\n",
      "Unique Apps: 134\n",
      "Sentences: 1616\n"
     ]
    }
   ],
   "source": [
    "print('*** Privacy Scenarios ***\\n')\n",
    "summarize(data2)"
   ]
  },
  {
   "cell_type": "code",
   "execution_count": 5,
   "metadata": {},
   "outputs": [],
   "source": [
    "import json\n",
    "\n",
    "labeled = json.load(open('scenarios-labeled.json'))"
   ]
  },
  {
   "cell_type": "code",
   "execution_count": 6,
   "metadata": {},
   "outputs": [
    {
     "name": "stdout",
     "output_type": "stream",
     "text": [
      "*** General Scenarios ***\n",
      "\n",
      "SIM: 1115\n",
      "QUE: 94\n",
      "COM: 123\n",
      "\n",
      "*** Privacy Scenarios ***\n",
      "\n",
      "SIM: 2409\n",
      "QUE: 243\n",
      "COM: 179\n",
      "\n",
      "Total: 4163\n",
      "Unique: 1881\n"
     ]
    }
   ],
   "source": [
    "entities = {'general': {}, 'privacy': {}}\n",
    "\n",
    "for scenario_id, data in labeled.items():\n",
    "    entity_map = None\n",
    "    if scenario_id.startswith('MAS-G'):\n",
    "        entity_map = entities['general']\n",
    "    else:\n",
    "        entity_map = entities['privacy']\n",
    "    \n",
    "    # identify all the phrases\n",
    "    start = -1\n",
    "    for i, code in enumerate(data['codes']):\n",
    "        if code.startswith('B-'):\n",
    "            start = i\n",
    "        elif code == 'O' and start >= 0:\n",
    "            label = data['codes'][start][2:]\n",
    "            if not label in entity_map:\n",
    "                entity_map[label] = []\n",
    "            entity_map[label].append(' '.join(data['words'][start:i]))\n",
    "            start = -1\n",
    "    if start >= 0:\n",
    "        label = data['codes'][start][2:]\n",
    "        if not label in entity_map:\n",
    "            entity_map[label] = []\n",
    "        entity_map[label].append(' '.join(data['words'][start:]))\n",
    "\n",
    "unique = []\n",
    "print('*** General Scenarios ***\\n')\n",
    "for k, v in entities['general'].items():\n",
    "    print('%s: %i' % (k, len(v)))\n",
    "    unique.extend(v)\n",
    "    \n",
    "print('\\n*** Privacy Scenarios ***\\n')\n",
    "for k, v in entities['privacy'].items():\n",
    "    print('%s: %i' % (k, len(v)))\n",
    "    unique.extend(v)\n",
    "    \n",
    "print('\\nTotal: %i' % len(unique))\n",
    "print('Unique: %i' % len(set(unique)))"
   ]
  },
  {
   "cell_type": "code",
   "execution_count": 9,
   "metadata": {},
   "outputs": [
    {
     "name": "stdout",
     "output_type": "stream",
     "text": [
      "\n",
      "Apple Category Distribution - General\n",
      "\n",
      "Entertainment            : 1\n",
      "Finance                  : 1\n",
      "Food & Drink             : 1\n",
      "Games                    : 1\n",
      "Health & Fitness         : 5\n",
      "Lifestyle                : 1\n",
      "Local Forecasts & Live Maps: 1\n",
      "Music                    : 4\n",
      "Navigation               : 1\n",
      "News                     : 7\n",
      "Photo & Video            : 4\n",
      "Productivity             : 1\n",
      "Shopping                 : 2\n",
      "Social Networking        : 2\n",
      "Sports                   : 2\n",
      "Travel                   : 1\n",
      "Utilities                : 1\n",
      "Weather                  : 2\n",
      "\n",
      "Google Category Distribution - General\n",
      "\n",
      "Books & References       : 2\n",
      "Communications           : 4\n",
      "Education                : 2\n",
      "Entertainment            : 4\n",
      "Finance                  : 1\n",
      "Food & Drink             : 3\n",
      "Games                    : 2\n",
      "Health & Fitness         : 3\n",
      "Lifestyle                : 1\n",
      "Maps & Navigation        : 1\n",
      "Medical                  : 1\n",
      "Music & Audio            : 6\n",
      "News & Magazines         : 1\n",
      "Photography              : 1\n",
      "Productivity             : 1\n",
      "Shopping                 : 7\n",
      "Social                   : 13\n",
      "Sports                   : 3\n",
      "Tools                    : 1\n",
      "Video Players & Editors  : 4\n",
      "Weather                  : 1\n"
     ]
    }
   ],
   "source": [
    "app_urls = json.load(open('app-url-dictionary.json'))\n",
    "cat_counter = {'apple': Counter(), 'google': Counter()}\n",
    "\n",
    "for scenario in data1:\n",
    "    # count statistics by platform\n",
    "    platform = ''\n",
    "    if scenario['app_url'].startswith('https://play.google.com'):\n",
    "        platform = 'google'\n",
    "    else:\n",
    "        platform = 'apple'\n",
    "    \n",
    "    # record the category by platform\n",
    "    app_category = app_urls[scenario['app_url']]['app_category']\n",
    "    cat_counter[platform][app_category] += 1\n",
    "\n",
    "\n",
    "print('\\nApple Category Distribution - General\\n')\n",
    "for app_category in sorted(cat_counter['apple'].keys()):\n",
    "    print('%s: %i' % (app_category.ljust(25), cat_counter['apple'][app_category]))\n",
    "    \n",
    "print('\\nGoogle Category Distribution - General\\n')\n",
    "for app_category in sorted(cat_counter['google'].keys()):\n",
    "    print('%s: %i' % (app_category.ljust(25), cat_counter['google'][app_category]))    "
   ]
  },
  {
   "cell_type": "code",
   "execution_count": 10,
   "metadata": {},
   "outputs": [
    {
     "name": "stdout",
     "output_type": "stream",
     "text": [
      "\n",
      "Apple Category Distribution - Privacy\n",
      "\n",
      "Books                    : 1\n",
      "Education                : 2\n",
      "Entertainment            : 2\n",
      "Finance                  : 17\n",
      "Food & Drink             : 4\n",
      "Games                    : 3\n",
      "Health & Fitness         : 31\n",
      "Lifestyle                : 2\n",
      "Local Forecasts & Live Maps: 1\n",
      "Music                    : 6\n",
      "Navigation               : 1\n",
      "News                     : 7\n",
      "Photo & Video            : 6\n",
      "Productivity             : 3\n",
      "Reference                : 1\n",
      "Shopping                 : 4\n",
      "Social Networking        : 4\n",
      "Sports                   : 6\n",
      "Travel                   : 1\n",
      "Utilities                : 2\n",
      "Weather                  : 2\n",
      "\n",
      "Google Category Distribution - Privacy\n",
      "\n",
      "Books & References       : 3\n",
      "Communications           : 12\n",
      "Dating                   : 1\n",
      "Education                : 5\n",
      "Entertainment            : 10\n",
      "Finance                  : 6\n",
      "Food & Drink             : 13\n",
      "Games                    : 4\n",
      "Health & Fitness         : 33\n",
      "Lifestyle                : 5\n",
      "Maps & Navigation        : 4\n",
      "Medical                  : 2\n",
      "Music & Audio            : 11\n",
      "News & Magazines         : 3\n",
      "Personalization          : 1\n",
      "Photography              : 2\n",
      "Productivity             : 2\n",
      "Shopping                 : 17\n",
      "Social                   : 34\n",
      "Sports                   : 6\n",
      "Tools                    : 6\n",
      "Travel & Local           : 5\n",
      "Video Players & Editors  : 7\n",
      "Weather                  : 2\n"
     ]
    }
   ],
   "source": [
    "for scenario in data2:\n",
    "    # count statistics by platform\n",
    "    platform = ''\n",
    "    if scenario['app_url'].startswith('https://play.google.com'):\n",
    "        platform = 'google'\n",
    "    else:\n",
    "        platform = 'apple'\n",
    "    \n",
    "    # record the category by platform\n",
    "    app_category = app_urls[scenario['app_url']]['app_category']\n",
    "    cat_counter[platform][app_category] += 1\n",
    "\n",
    "\n",
    "print('\\nApple Category Distribution - Privacy\\n')\n",
    "for app_category in sorted(cat_counter['apple'].keys()):\n",
    "    print('%s: %i' % (app_category.ljust(25), cat_counter['apple'][app_category]))\n",
    "    \n",
    "print('\\nGoogle Category Distribution - Privacy\\n')\n",
    "for app_category in sorted(cat_counter['google'].keys()):\n",
    "    print('%s: %i' % (app_category.ljust(25), cat_counter['google'][app_category]))    "
   ]
  },
  {
   "cell_type": "code",
   "execution_count": 18,
   "metadata": {},
   "outputs": [
    {
     "name": "stdout",
     "output_type": "stream",
     "text": [
      "{'id': 'MAS-G-0022', 'text': '(1)I use this screen to look at what LINE friends have recently posted. It\\'s a timeline that consists of posts from my friends and also from myself. As for the goals, there\\'s really only one: to see what my friends have been up to -- you know, what\\'s new in their life. \\n(2)As for how I get to this screen, once you open the app, you\\'re usually on the tab you were last using, so you generally have 3 others options to choose. Once I opened the LINE app, I was already on the \"Chats\" tab, therefore all I had to do was just a slide of my thumb to the right and press on the \"Timeline\" tab. \\n(3)Now once at this screen, there aren\\'t really any steps to take to achieve my goal. I simply scroll through the posts and hope to see some interesting content, or at least some good things happening the lives of my friends. ', 'words': ['(', '1)I', 'use', 'this', 'screen', 'to', 'look', 'at', 'what', 'LINE', 'friends', 'have', 'recently', 'posted', '.', 'It', \"'s\", 'a', 'timeline', 'that', 'consists', 'of', 'posts', 'from', 'my', 'friends', 'and', 'also', 'from', 'myself', '.', 'As', 'for', 'the', 'goals', ',', 'there', \"'s\", 'really', 'only', 'one', ':', 'to', 'see', 'what', 'my', 'friends', 'have', 'been', 'up', 'to', '--', 'you', 'know', ',', 'what', \"'s\", 'new', 'in', 'their', 'life', '.', '\\n', '(', '2)As', 'for', 'how', 'I', 'get', 'to', 'this', 'screen', ',', 'once', 'you', 'open', 'the', 'app', ',', 'you', \"'re\", 'usually', 'on', 'the', 'tab', 'you', 'were', 'last', 'using', ',', 'so', 'you', 'generally', 'have', '3', 'others', 'options', 'to', 'choose', '.', 'Once', 'I', 'opened', 'the', 'LINE', 'app', ',', 'I', 'was', 'already', 'on', 'the', '\"', 'Chats', '\"', 'tab', ',', 'therefore', 'all', 'I', 'had', 'to', 'do', 'was', 'just', 'a', 'slide', 'of', 'my', 'thumb', 'to', 'the', 'right', 'and', 'press', 'on', 'the', '\"', 'Timeline', '\"', 'tab', '.', '\\n', '(', '3)Now', 'once', 'at', 'this', 'screen', ',', 'there', 'are', \"n't\", 'really', 'any', 'steps', 'to', 'take', 'to', 'achieve', 'my', 'goal', '.', 'I', 'simply', 'scroll', 'through', 'the', 'posts', 'and', 'hope', 'to', 'see', 'some', 'interesting', 'content', ',', 'or', 'at', 'least', 'some', 'good', 'things', 'happening', 'the', 'lives', 'of', 'my', 'friends', '.'], 'codes': ['O', 'O', 'O', 'O', 'O', 'O', 'O', 'O', 'B-QUE', 'I-QUE', 'I-QUE', 'I-QUE', 'I-QUE', 'I-QUE', 'O', 'O', 'O', 'O', 'B-SIM', 'O', 'O', 'O', 'B-COM', 'I-COM', 'I-COM', 'I-COM', 'I-COM', 'I-COM', 'I-COM', 'I-COM', 'O', 'O', 'O', 'O', 'O', 'O', 'O', 'O', 'O', 'O', 'O', 'O', 'O', 'O', 'O', 'B-SIM', 'I-SIM', 'O', 'O', 'O', 'O', 'O', 'O', 'O', 'O', 'B-QUE', 'I-QUE', 'I-QUE', 'I-QUE', 'I-QUE', 'I-QUE', 'O', 'O', 'O', 'O', 'O', 'O', 'O', 'O', 'O', 'O', 'O', 'O', 'O', 'O', 'O', 'O', 'O', 'O', 'O', 'O', 'O', 'O', 'O', 'O', 'O', 'O', 'O', 'O', 'O', 'O', 'O', 'O', 'O', 'O', 'O', 'B-SIM', 'O', 'O', 'O', 'O', 'O', 'O', 'O', 'O', 'O', 'O', 'O', 'O', 'O', 'O', 'O', 'O', 'O', 'O', 'O', 'O', 'O', 'O', 'O', 'O', 'O', 'O', 'O', 'O', 'O', 'O', 'O', 'O', 'O', 'O', 'O', 'O', 'O', 'O', 'O', 'O', 'O', 'O', 'O', 'O', 'O', 'O', 'O', 'O', 'O', 'O', 'O', 'O', 'O', 'O', 'O', 'O', 'O', 'O', 'O', 'O', 'O', 'O', 'O', 'O', 'O', 'O', 'O', 'O', 'O', 'O', 'O', 'B-SIM', 'O', 'O', 'O', 'O', 'O', 'O', 'B-SIM', 'O', 'O', 'O', 'O', 'O', 'B-COM', 'I-COM', 'I-COM', 'I-COM', 'I-COM', 'I-COM', 'I-COM', 'I-COM', 'O'], 'raw_labels': [[32, 70, 'Questions'], [105, 147, 'Complex Terms'], [244, 268, 'Questions'], [770, 815, 'Complex Terms'], [79, 87, 'Noun Phrase'], [204, 214, 'Noun Phrase'], [408, 415, 'Noun Phrase'], [705, 710, 'Noun Phrase'], [744, 751, 'Noun Phrase']], 'app_name': 'LINE', 'app_category': 'Social Networking'}\n",
      "\n",
      "{'id': 'MAS-G-0068', 'text': '1. On this screen (on this section of the app) I change various settings so that I can set up video recordings specifically to my liking. Usually I want to achieve getting things set up so that my video recordings are of a high enough quality that they look alright to look at, but also aren\\'t so high that they take up a ton of data when they\\'re saved, and won\\'t take up a lot of processing power to record.\\n\\n2. In order to get to this screen I tap on the app once, after which it opens a small bubble, and a bar above from the drop down menu. I click on the \"Home\" button from the drop down menu, which opens the main app. From there I tap the \"Settings\" button below, shown by the gear symbol.\\n\\n3. Once on this screen, I make adjustments, such as the video\\'s orientation, the location of the save file, the resolution, frame rate, and general size of the file, as well as other settings like whether to enable or disable shaking to stop record, and other things like adjusting a countdown timer before recording. In order to do so, I tap on any of these settings, which then opens up a new menu with several options. From there I select all the options I want, and hit a checkmark button to save all the changes I\\'ve made. I do this for each individual option section until I\\'m pleased with all my changes.', 'words': ['1', '.', 'On', 'this', 'screen', '(', 'on', 'this', 'section', 'of', 'the', 'app', ')', 'I', 'change', 'various', 'settings', 'so', 'that', 'I', 'can', 'set', 'up', 'video', 'recordings', 'specifically', 'to', 'my', 'liking', '.', 'Usually', 'I', 'want', 'to', 'achieve', 'getting', 'things', 'set', 'up', 'so', 'that', 'my', 'video', 'recordings', 'are', 'of', 'a', 'high', 'enough', 'quality', 'that', 'they', 'look', 'alright', 'to', 'look', 'at', ',', 'but', 'also', 'are', \"n't\", 'so', 'high', 'that', 'they', 'take', 'up', 'a', 'ton', 'of', 'data', 'when', 'they', \"'re\", 'saved', ',', 'and', 'wo', \"n't\", 'take', 'up', 'a', 'lot', 'of', 'processing', 'power', 'to', 'record', '.', '\\n\\n', '2', '.', 'In', 'order', 'to', 'get', 'to', 'this', 'screen', 'I', 'tap', 'on', 'the', 'app', 'once', ',', 'after', 'which', 'it', 'opens', 'a', 'small', 'bubble', ',', 'and', 'a', 'bar', 'above', 'from', 'the', 'drop', 'down', 'menu', '.', 'I', 'click', 'on', 'the', '\"', 'Home', '\"', 'button', 'from', 'the', 'drop', 'down', 'menu', ',', 'which', 'opens', 'the', 'main', 'app', '.', 'From', 'there', 'I', 'tap', 'the', '\"', 'Settings', '\"', 'button', 'below', ',', 'shown', 'by', 'the', 'gear', 'symbol', '.', '\\n\\n', '3', '.', 'Once', 'on', 'this', 'screen', ',', 'I', 'make', 'adjustments', ',', 'such', 'as', 'the', 'video', \"'s\", 'orientation', ',', 'the', 'location', 'of', 'the', 'save', 'file', ',', 'the', 'resolution', ',', 'frame', 'rate', ',', 'and', 'general', 'size', 'of', 'the', 'file', ',', 'as', 'well', 'as', 'other', 'settings', 'like', 'whether', 'to', 'enable', 'or', 'disable', 'shaking', 'to', 'stop', 'record', ',', 'and', 'other', 'things', 'like', 'adjusting', 'a', 'countdown', 'timer', 'before', 'recording', '.', 'In', 'order', 'to', 'do', 'so', ',', 'I', 'tap', 'on', 'any', 'of', 'these', 'settings', ',', 'which', 'then', 'opens', 'up', 'a', 'new', 'menu', 'with', 'several', 'options', '.', 'From', 'there', 'I', 'select', 'all', 'the', 'options', 'I', 'want', ',', 'and', 'hit', 'a', 'checkmark', 'button', 'to', 'save', 'all', 'the', 'changes', 'I', \"'ve\", 'made', '.', 'I', 'do', 'this', 'for', 'each', 'individual', 'option', 'section', 'until', 'I', \"'m\", 'pleased', 'with', 'all', 'my', 'changes', '.'], 'codes': ['O', 'O', 'O', 'O', 'O', 'O', 'O', 'O', 'O', 'O', 'O', 'O', 'O', 'O', 'O', 'O', 'O', 'O', 'O', 'O', 'O', 'O', 'O', 'B-SIM', 'I-SIM', 'O', 'O', 'O', 'O', 'O', 'O', 'O', 'O', 'O', 'O', 'O', 'O', 'O', 'O', 'O', 'O', 'O', 'B-SIM', 'I-SIM', 'O', 'O', 'O', 'O', 'O', 'O', 'O', 'O', 'O', 'O', 'O', 'O', 'O', 'O', 'O', 'O', 'O', 'O', 'O', 'O', 'O', 'O', 'O', 'O', 'O', 'O', 'O', 'O', 'O', 'O', 'O', 'O', 'O', 'O', 'O', 'O', 'O', 'O', 'O', 'O', 'O', 'O', 'O', 'O', 'O', 'O', 'O', 'O', 'O', 'O', 'O', 'O', 'O', 'O', 'O', 'O', 'O', 'O', 'O', 'O', 'O', 'O', 'O', 'O', 'O', 'O', 'O', 'O', 'O', 'O', 'O', 'O', 'O', 'O', 'O', 'O', 'O', 'O', 'O', 'O', 'O', 'O', 'O', 'O', 'O', 'O', 'O', 'O', 'O', 'O', 'O', 'O', 'O', 'O', 'O', 'O', 'O', 'O', 'O', 'O', 'O', 'O', 'O', 'O', 'O', 'O', 'O', 'O', 'O', 'O', 'O', 'O', 'O', 'O', 'O', 'O', 'O', 'O', 'O', 'O', 'O', 'O', 'O', 'O', 'O', 'O', 'O', 'O', 'O', 'O', 'O', 'O', 'B-COM', 'I-COM', 'I-COM', 'I-COM', 'O', 'B-COM', 'I-COM', 'I-COM', 'I-COM', 'I-COM', 'I-COM', 'O', 'O', 'B-SIM', 'O', 'B-SIM', 'I-SIM', 'O', 'O', 'B-COM', 'I-COM', 'I-COM', 'I-COM', 'I-COM', 'O', 'O', 'O', 'O', 'O', 'B-SIM', 'O', 'B-QUE', 'I-QUE', 'I-QUE', 'I-QUE', 'I-QUE', 'I-QUE', 'I-QUE', 'I-QUE', 'I-QUE', 'O', 'O', 'O', 'O', 'O', 'O', 'O', 'B-SIM', 'I-SIM', 'O', 'O', 'O', 'O', 'O', 'O', 'O', 'O', 'O', 'O', 'O', 'O', 'O', 'O', 'O', 'B-SIM', 'O', 'O', 'O', 'O', 'O', 'O', 'O', 'O', 'O', 'O', 'O', 'O', 'O', 'O', 'O', 'O', 'O', 'O', 'O', 'O', 'O', 'O', 'O', 'O', 'O', 'O', 'O', 'O', 'O', 'O', 'O', 'O', 'O', 'O', 'O', 'O', 'O', 'O', 'O', 'O', 'O', 'O', 'O', 'O', 'O', 'O', 'O', 'O', 'O', 'O', 'O', 'O', 'O'], 'raw_labels': [[750, 773, 'Complex Terms'], [775, 804, 'Complex Terms'], [838, 862, 'Complex Terms'], [895, 946, 'Questions'], [94, 110, 'Noun Phrase'], [197, 213, 'Noun Phrase'], [810, 820, 'Noun Phrase'], [822, 832, 'Noun Phrase'], [881, 889, 'Noun Phrase'], [982, 997, 'Noun Phrase'], [1057, 1065, 'Noun Phrase']], 'app_name': 'Screen Recorder - XRecorder', 'app_category': 'video players & editors'}\n",
      "\n",
      "{'id': 'MAS-G-0068', 'text': '1. On this screen (on this section of the app) I change various settings so that I can set up video recordings specifically to my liking. Usually I want to achieve getting things set up so that my video recordings are of a high enough quality that they look alright to look at, but also aren\\'t so high that they take up a ton of data when they\\'re saved, and won\\'t take up a lot of processing power to record.\\n\\n2. In order to get to this screen I tap on the app once, after which it opens a small bubble, and a bar above from the drop down menu. I click on the \"Home\" button from the drop down menu, which opens the main app. From there I tap the \"Settings\" button below, shown by the gear symbol.\\n\\n3. Once on this screen, I make adjustments, such as the video\\'s orientation, the location of the save file, the resolution, frame rate, and general size of the file, as well as other settings like whether to enable or disable shaking to stop record, and other things like adjusting a countdown timer before recording. In order to do so, I tap on any of these settings, which then opens up a new menu with several options. From there I select all the options I want, and hit a checkmark button to save all the changes I\\'ve made. I do this for each individual option section until I\\'m pleased with all my changes.', 'words': ['1', '.', 'On', 'this', 'screen', '(', 'on', 'this', 'section', 'of', 'the', 'app', ')', 'I', 'change', 'various', 'settings', 'so', 'that', 'I', 'can', 'set', 'up', 'video', 'recordings', 'specifically', 'to', 'my', 'liking', '.', 'Usually', 'I', 'want', 'to', 'achieve', 'getting', 'things', 'set', 'up', 'so', 'that', 'my', 'video', 'recordings', 'are', 'of', 'a', 'high', 'enough', 'quality', 'that', 'they', 'look', 'alright', 'to', 'look', 'at', ',', 'but', 'also', 'are', \"n't\", 'so', 'high', 'that', 'they', 'take', 'up', 'a', 'ton', 'of', 'data', 'when', 'they', \"'re\", 'saved', ',', 'and', 'wo', \"n't\", 'take', 'up', 'a', 'lot', 'of', 'processing', 'power', 'to', 'record', '.', '\\n\\n', '2', '.', 'In', 'order', 'to', 'get', 'to', 'this', 'screen', 'I', 'tap', 'on', 'the', 'app', 'once', ',', 'after', 'which', 'it', 'opens', 'a', 'small', 'bubble', ',', 'and', 'a', 'bar', 'above', 'from', 'the', 'drop', 'down', 'menu', '.', 'I', 'click', 'on', 'the', '\"', 'Home', '\"', 'button', 'from', 'the', 'drop', 'down', 'menu', ',', 'which', 'opens', 'the', 'main', 'app', '.', 'From', 'there', 'I', 'tap', 'the', '\"', 'Settings', '\"', 'button', 'below', ',', 'shown', 'by', 'the', 'gear', 'symbol', '.', '\\n\\n', '3', '.', 'Once', 'on', 'this', 'screen', ',', 'I', 'make', 'adjustments', ',', 'such', 'as', 'the', 'video', \"'s\", 'orientation', ',', 'the', 'location', 'of', 'the', 'save', 'file', ',', 'the', 'resolution', ',', 'frame', 'rate', ',', 'and', 'general', 'size', 'of', 'the', 'file', ',', 'as', 'well', 'as', 'other', 'settings', 'like', 'whether', 'to', 'enable', 'or', 'disable', 'shaking', 'to', 'stop', 'record', ',', 'and', 'other', 'things', 'like', 'adjusting', 'a', 'countdown', 'timer', 'before', 'recording', '.', 'In', 'order', 'to', 'do', 'so', ',', 'I', 'tap', 'on', 'any', 'of', 'these', 'settings', ',', 'which', 'then', 'opens', 'up', 'a', 'new', 'menu', 'with', 'several', 'options', '.', 'From', 'there', 'I', 'select', 'all', 'the', 'options', 'I', 'want', ',', 'and', 'hit', 'a', 'checkmark', 'button', 'to', 'save', 'all', 'the', 'changes', 'I', \"'ve\", 'made', '.', 'I', 'do', 'this', 'for', 'each', 'individual', 'option', 'section', 'until', 'I', \"'m\", 'pleased', 'with', 'all', 'my', 'changes', '.'], 'codes': ['O', 'O', 'O', 'O', 'O', 'O', 'O', 'O', 'O', 'O', 'O', 'O', 'O', 'O', 'O', 'O', 'O', 'O', 'O', 'O', 'O', 'O', 'O', 'B-SIM', 'I-SIM', 'O', 'O', 'O', 'O', 'O', 'O', 'O', 'O', 'O', 'O', 'O', 'O', 'O', 'O', 'O', 'O', 'O', 'B-SIM', 'I-SIM', 'O', 'O', 'O', 'O', 'O', 'O', 'O', 'O', 'O', 'O', 'O', 'O', 'O', 'O', 'O', 'O', 'O', 'O', 'O', 'O', 'O', 'O', 'O', 'O', 'O', 'O', 'O', 'O', 'O', 'O', 'O', 'O', 'O', 'O', 'O', 'O', 'O', 'O', 'O', 'O', 'O', 'O', 'O', 'O', 'O', 'O', 'O', 'O', 'O', 'O', 'O', 'O', 'O', 'O', 'O', 'O', 'O', 'O', 'O', 'O', 'O', 'O', 'O', 'O', 'O', 'O', 'O', 'O', 'O', 'O', 'O', 'O', 'O', 'O', 'O', 'O', 'O', 'O', 'O', 'O', 'O', 'O', 'O', 'O', 'O', 'O', 'O', 'O', 'O', 'O', 'O', 'O', 'O', 'O', 'O', 'O', 'O', 'O', 'O', 'O', 'O', 'O', 'O', 'O', 'O', 'O', 'O', 'O', 'O', 'O', 'O', 'O', 'O', 'O', 'O', 'O', 'O', 'O', 'O', 'O', 'O', 'O', 'O', 'O', 'O', 'O', 'O', 'O', 'O', 'O', 'O', 'O', 'B-COM', 'I-COM', 'I-COM', 'I-COM', 'O', 'B-COM', 'I-COM', 'I-COM', 'I-COM', 'I-COM', 'I-COM', 'O', 'O', 'B-SIM', 'O', 'B-SIM', 'I-SIM', 'O', 'O', 'B-COM', 'I-COM', 'I-COM', 'I-COM', 'I-COM', 'O', 'O', 'O', 'O', 'O', 'B-SIM', 'O', 'B-QUE', 'I-QUE', 'I-QUE', 'I-QUE', 'I-QUE', 'I-QUE', 'I-QUE', 'I-QUE', 'I-QUE', 'O', 'O', 'O', 'O', 'O', 'O', 'O', 'B-SIM', 'I-SIM', 'O', 'O', 'O', 'O', 'O', 'O', 'O', 'O', 'O', 'O', 'O', 'O', 'O', 'O', 'O', 'B-SIM', 'O', 'O', 'O', 'O', 'O', 'O', 'O', 'O', 'O', 'O', 'O', 'O', 'O', 'O', 'O', 'O', 'O', 'O', 'O', 'O', 'O', 'O', 'O', 'O', 'O', 'O', 'O', 'O', 'O', 'O', 'O', 'O', 'O', 'O', 'O', 'O', 'O', 'O', 'O', 'O', 'O', 'O', 'O', 'O', 'O', 'O', 'O', 'O', 'O', 'O', 'O', 'O', 'O'], 'raw_labels': [[750, 773, 'Complex Terms'], [775, 804, 'Complex Terms'], [838, 862, 'Complex Terms'], [895, 946, 'Questions'], [94, 110, 'Noun Phrase'], [197, 213, 'Noun Phrase'], [810, 820, 'Noun Phrase'], [822, 832, 'Noun Phrase'], [881, 889, 'Noun Phrase'], [982, 997, 'Noun Phrase'], [1057, 1065, 'Noun Phrase']], 'app_name': 'Screen Recorder - XRecorder', 'app_category': 'video players & editors'}\n",
      "\n",
      "{'id': 'MAS-P-0152', 'text': 'I use this screen to go to places I have already been. It is convenient to use Google Maps this way, as I don\\'t have to type in the information again. For instance, if I want to go somewhere that I know I have used Google Maps for before, I can just hit the \"Search here\" bar, and it will bring up a list of previous addresses. Then, it is a simple task of clicking on the place I am going to. Google Maps does the rest, calculating how to get there from my present location. It saves quite a few addresses, as well - if the address I am looking for is not on this screen, I can just scroll up to see more. And if it still doesn\\'t show on the list - meaning it was so long ago there are other addresses filling the list currently - I can just start to type in the address, and Google Maps will bring up places I have been to before. Google Maps uses the locations I have previously typed in to support this screen. The links at the top of the screen are handy, as well. I don\\'t have to type in or scroll for my home or work address; I just have to touch the icons at the top.', 'words': ['I', 'use', 'this', 'screen', 'to', 'go', 'to', 'places', 'I', 'have', 'already', 'been', '.', 'It', 'is', 'convenient', 'to', 'use', 'Google', 'Maps', 'this', 'way', ',', 'as', 'I', 'do', \"n't\", 'have', 'to', 'type', 'in', 'the', 'information', 'again', '.', 'For', 'instance', ',', 'if', 'I', 'want', 'to', 'go', 'somewhere', 'that', 'I', 'know', 'I', 'have', 'used', 'Google', 'Maps', 'for', 'before', ',', 'I', 'can', 'just', 'hit', 'the', '\"', 'Search', 'here', '\"', 'bar', ',', 'and', 'it', 'will', 'bring', 'up', 'a', 'list', 'of', 'previous', 'addresses', '.', 'Then', ',', 'it', 'is', 'a', 'simple', 'task', 'of', 'clicking', 'on', 'the', 'place', 'I', 'am', 'going', 'to', '.', 'Google', 'Maps', 'does', 'the', 'rest', ',', 'calculating', 'how', 'to', 'get', 'there', 'from', 'my', 'present', 'location', '.', 'It', 'saves', 'quite', 'a', 'few', 'addresses', ',', 'as', 'well', '-', 'if', 'the', 'address', 'I', 'am', 'looking', 'for', 'is', 'not', 'on', 'this', 'screen', ',', 'I', 'can', 'just', 'scroll', 'up', 'to', 'see', 'more', '.', 'And', 'if', 'it', 'still', 'does', \"n't\", 'show', 'on', 'the', 'list', '-', 'meaning', 'it', 'was', 'so', 'long', 'ago', 'there', 'are', 'other', 'addresses', 'filling', 'the', 'list', 'currently', '-', 'I', 'can', 'just', 'start', 'to', 'type', 'in', 'the', 'address', ',', 'and', 'Google', 'Maps', 'will', 'bring', 'up', 'places', 'I', 'have', 'been', 'to', 'before', '.', 'Google', 'Maps', 'uses', 'the', 'locations', 'I', 'have', 'previously', 'typed', 'in', 'to', 'support', 'this', 'screen', '.', 'The', 'links', 'at', 'the', 'top', 'of', 'the', 'screen', 'are', 'handy', ',', 'as', 'well', '.', 'I', 'do', \"n't\", 'have', 'to', 'type', 'in', 'or', 'scroll', 'for', 'my', 'home', 'or', 'work', 'address', ';', 'I', 'just', 'have', 'to', 'touch', 'the', 'icons', 'at', 'the', 'top', '.'], 'codes': ['O', 'O', 'O', 'O', 'O', 'O', 'O', 'B-COM', 'I-COM', 'I-COM', 'I-COM', 'I-COM', 'O', 'O', 'O', 'O', 'O', 'O', 'O', 'B-SIM', 'O', 'O', 'O', 'O', 'O', 'O', 'O', 'O', 'O', 'O', 'O', 'O', 'O', 'O', 'O', 'O', 'O', 'O', 'O', 'O', 'O', 'O', 'O', 'O', 'O', 'O', 'O', 'O', 'O', 'O', 'O', 'B-SIM', 'O', 'O', 'O', 'O', 'O', 'O', 'O', 'O', 'O', 'O', 'O', 'O', 'O', 'O', 'O', 'O', 'O', 'O', 'O', 'O', 'O', 'O', 'O', 'B-SIM', 'O', 'O', 'O', 'O', 'O', 'O', 'O', 'O', 'O', 'O', 'O', 'B-COM', 'I-COM', 'I-COM', 'I-COM', 'I-COM', 'I-COM', 'O', 'O', 'B-SIM', 'O', 'O', 'O', 'O', 'O', 'B-QUE', 'I-QUE', 'I-QUE', 'I-QUE', 'I-QUE', 'I-QUE', 'I-QUE', 'I-QUE', 'O', 'O', 'O', 'O', 'O', 'O', 'B-SIM', 'O', 'O', 'O', 'O', 'O', 'O', 'B-SIM', 'O', 'O', 'O', 'O', 'O', 'O', 'O', 'O', 'O', 'O', 'O', 'O', 'O', 'O', 'O', 'O', 'O', 'O', 'O', 'O', 'O', 'O', 'O', 'O', 'O', 'O', 'O', 'O', 'O', 'O', 'O', 'O', 'O', 'O', 'O', 'O', 'O', 'O', 'O', 'B-SIM', 'O', 'O', 'O', 'O', 'O', 'O', 'O', 'O', 'O', 'O', 'O', 'O', 'O', 'B-SIM', 'O', 'O', 'O', 'B-SIM', 'O', 'O', 'O', 'B-COM', 'I-COM', 'I-COM', 'I-COM', 'I-COM', 'I-COM', 'O', 'O', 'B-SIM', 'O', 'O', 'B-SIM', 'O', 'O', 'O', 'O', 'O', 'O', 'O', 'O', 'O', 'O', 'O', 'O', 'O', 'O', 'O', 'O', 'O', 'O', 'O', 'O', 'O', 'O', 'O', 'O', 'O', 'O', 'O', 'O', 'O', 'O', 'O', 'O', 'O', 'O', 'O', 'B-COM', 'I-COM', 'I-COM', 'I-COM', 'O', 'O', 'O', 'O', 'O', 'O', 'O', 'O', 'O', 'O', 'O', 'O'], 'raw_labels': [[27, 53, 'Complex Terms'], [369, 392, 'Complex Terms'], [433, 474, 'Questions'], [803, 831, 'Complex Terms'], [1011, 1031, 'Complex Terms'], [86, 90, 'Noun Phrase'], [222, 226, 'Noun Phrase'], [317, 326, 'Noun Phrase'], [401, 405, 'Noun Phrase'], [497, 506, 'Noun Phrase'], [525, 532, 'Noun Phrase'], [693, 702, 'Noun Phrase'], [764, 771, 'Noun Phrase'], [784, 788, 'Noun Phrase'], [840, 844, 'Noun Phrase'], [854, 863, 'Noun Phrase']], 'app_name': 'Google Maps', 'app_category': 'travel & local'}\n",
      "\n",
      "{'id': 'MAS-P-0245', 'text': \"I track my fitness workouts with this screen. This is one of several mini-workouts I did yesterday. I opened my iPhone to my Home screen on which the Apple Fitness app is displayed, tapped on the Fitness app icon which opened to the Summary screen, looked down to the center of the screen to the Workouts section, and tapped on the most-recent Other workout at the top of that section. That took me to this page where I can monitor various characteristics of my workouts: time of day, time span of workout, total time spent, calories used actively, calories including metabolic rate, heart rate, and where I was when I completed this workout. I can reverse my steps and access other workouts in the same way. The app uses a graphic of three concentric circles to indicate progress in categories of how many calories I've expended moving throughout the day, how much time I've spent working out, and how many hours I made a point to spend at least a minute or two standing. \", 'words': ['I', 'track', 'my', 'fitness', 'workouts', 'with', 'this', 'screen', '.', 'This', 'is', 'one', 'of', 'several', 'mini', '-', 'workouts', 'I', 'did', 'yesterday', '.', 'I', 'opened', 'my', 'iPhone', 'to', 'my', 'Home', 'screen', 'on', 'which', 'the', 'Apple', 'Fitness', 'app', 'is', 'displayed', ',', 'tapped', 'on', 'the', 'Fitness', 'app', 'icon', 'which', 'opened', 'to', 'the', 'Summary', 'screen', ',', 'looked', 'down', 'to', 'the', 'center', 'of', 'the', 'screen', 'to', 'the', 'Workouts', 'section', ',', 'and', 'tapped', 'on', 'the', 'most', '-', 'recent', 'Other', 'workout', 'at', 'the', 'top', 'of', 'that', 'section', '.', 'That', 'took', 'me', 'to', 'this', 'page', 'where', 'I', 'can', 'monitor', 'various', 'characteristics', 'of', 'my', 'workouts', ':', 'time', 'of', 'day', ',', 'time', 'span', 'of', 'workout', ',', 'total', 'time', 'spent', ',', 'calories', 'used', 'actively', ',', 'calories', 'including', 'metabolic', 'rate', ',', 'heart', 'rate', ',', 'and', 'where', 'I', 'was', 'when', 'I', 'completed', 'this', 'workout', '.', 'I', 'can', 'reverse', 'my', 'steps', 'and', 'access', 'other', 'workouts', 'in', 'the', 'same', 'way', '.', 'The', 'app', 'uses', 'a', 'graphic', 'of', 'three', 'concentric', 'circles', 'to', 'indicate', 'progress', 'in', 'categories', 'of', 'how', 'many', 'calories', 'I', \"'ve\", 'expended', 'moving', 'throughout', 'the', 'day', ',', 'how', 'much', 'time', 'I', \"'ve\", 'spent', 'working', 'out', ',', 'and', 'how', 'many', 'hours', 'I', 'made', 'a', 'point', 'to', 'spend', 'at', 'least', 'a', 'minute', 'or', 'two', 'standing', '.'], 'codes': ['O', 'O', 'O', 'B-SIM', 'I-SIM', 'O', 'O', 'O', 'O', 'O', 'O', 'O', 'O', 'O', 'O', 'O', 'B-SIM', 'O', 'O', 'O', 'O', 'O', 'O', 'O', 'O', 'O', 'O', 'O', 'O', 'O', 'O', 'O', 'O', 'O', 'O', 'O', 'O', 'O', 'O', 'O', 'O', 'O', 'O', 'O', 'O', 'O', 'O', 'O', 'O', 'O', 'O', 'O', 'O', 'O', 'O', 'O', 'O', 'O', 'O', 'O', 'O', 'B-SIM', 'O', 'O', 'O', 'O', 'O', 'O', 'O', 'O', 'O', 'O', 'B-SIM', 'O', 'O', 'O', 'O', 'O', 'O', 'O', 'O', 'O', 'O', 'O', 'O', 'O', 'O', 'O', 'O', 'O', 'O', 'O', 'O', 'O', 'B-SIM', 'O', 'B-COM', 'I-COM', 'I-COM', 'O', 'B-COM', 'I-COM', 'I-COM', 'I-COM', 'O', 'B-COM', 'I-COM', 'I-COM', 'O', 'B-COM', 'I-COM', 'I-COM', 'O', 'B-COM', 'I-COM', 'I-COM', 'I-COM', 'O', 'B-SIM', 'I-SIM', 'O', 'O', 'B-QUE', 'I-QUE', 'I-QUE', 'I-QUE', 'I-QUE', 'I-QUE', 'I-QUE', 'I-QUE', 'O', 'O', 'O', 'O', 'O', 'O', 'O', 'O', 'O', 'B-SIM', 'O', 'O', 'O', 'O', 'O', 'O', 'O', 'O', 'O', 'O', 'O', 'O', 'O', 'O', 'O', 'O', 'B-SIM', 'O', 'B-SIM', 'O', 'B-QUE', 'I-QUE', 'I-QUE', 'I-QUE', 'I-QUE', 'I-QUE', 'I-QUE', 'I-QUE', 'I-QUE', 'I-QUE', 'O', 'B-QUE', 'I-QUE', 'I-QUE', 'I-QUE', 'I-QUE', 'I-QUE', 'I-QUE', 'I-QUE', 'O', 'O', 'B-QUE', 'I-QUE', 'I-QUE', 'I-QUE', 'I-QUE', 'I-QUE', 'I-QUE', 'I-QUE', 'I-QUE', 'I-QUE', 'I-QUE', 'I-QUE', 'I-QUE', 'I-QUE', 'I-QUE', 'I-QUE', 'O'], 'raw_labels': [[472, 483, 'Complex Terms'], [485, 505, 'Complex Terms'], [507, 523, 'Complex Terms'], [525, 547, 'Complex Terms'], [549, 582, 'Complex Terms'], [600, 641, 'Questions'], [798, 855, 'Questions'], [857, 893, 'Questions'], [899, 971, 'Questions'], [11, 27, 'Noun Phrase'], [74, 82, 'Noun Phrase'], [296, 304, 'Noun Phrase'], [350, 357, 'Noun Phrase'], [462, 470, 'Noun Phrase'], [584, 594, 'Noun Phrase'], [683, 691, 'Noun Phrase'], [772, 780, 'Noun Phrase'], [784, 794, 'Noun Phrase']], 'app_name': 'Fitness', 'app_category': 'Health & Fitness'}\n",
      "\n",
      "{'id': 'MAS-P-0245', 'text': \"I track my fitness workouts with this screen. This is one of several mini-workouts I did yesterday. I opened my iPhone to my Home screen on which the Apple Fitness app is displayed, tapped on the Fitness app icon which opened to the Summary screen, looked down to the center of the screen to the Workouts section, and tapped on the most-recent Other workout at the top of that section. That took me to this page where I can monitor various characteristics of my workouts: time of day, time span of workout, total time spent, calories used actively, calories including metabolic rate, heart rate, and where I was when I completed this workout. I can reverse my steps and access other workouts in the same way. The app uses a graphic of three concentric circles to indicate progress in categories of how many calories I've expended moving throughout the day, how much time I've spent working out, and how many hours I made a point to spend at least a minute or two standing. \", 'words': ['I', 'track', 'my', 'fitness', 'workouts', 'with', 'this', 'screen', '.', 'This', 'is', 'one', 'of', 'several', 'mini', '-', 'workouts', 'I', 'did', 'yesterday', '.', 'I', 'opened', 'my', 'iPhone', 'to', 'my', 'Home', 'screen', 'on', 'which', 'the', 'Apple', 'Fitness', 'app', 'is', 'displayed', ',', 'tapped', 'on', 'the', 'Fitness', 'app', 'icon', 'which', 'opened', 'to', 'the', 'Summary', 'screen', ',', 'looked', 'down', 'to', 'the', 'center', 'of', 'the', 'screen', 'to', 'the', 'Workouts', 'section', ',', 'and', 'tapped', 'on', 'the', 'most', '-', 'recent', 'Other', 'workout', 'at', 'the', 'top', 'of', 'that', 'section', '.', 'That', 'took', 'me', 'to', 'this', 'page', 'where', 'I', 'can', 'monitor', 'various', 'characteristics', 'of', 'my', 'workouts', ':', 'time', 'of', 'day', ',', 'time', 'span', 'of', 'workout', ',', 'total', 'time', 'spent', ',', 'calories', 'used', 'actively', ',', 'calories', 'including', 'metabolic', 'rate', ',', 'heart', 'rate', ',', 'and', 'where', 'I', 'was', 'when', 'I', 'completed', 'this', 'workout', '.', 'I', 'can', 'reverse', 'my', 'steps', 'and', 'access', 'other', 'workouts', 'in', 'the', 'same', 'way', '.', 'The', 'app', 'uses', 'a', 'graphic', 'of', 'three', 'concentric', 'circles', 'to', 'indicate', 'progress', 'in', 'categories', 'of', 'how', 'many', 'calories', 'I', \"'ve\", 'expended', 'moving', 'throughout', 'the', 'day', ',', 'how', 'much', 'time', 'I', \"'ve\", 'spent', 'working', 'out', ',', 'and', 'how', 'many', 'hours', 'I', 'made', 'a', 'point', 'to', 'spend', 'at', 'least', 'a', 'minute', 'or', 'two', 'standing', '.'], 'codes': ['O', 'O', 'O', 'B-SIM', 'I-SIM', 'O', 'O', 'O', 'O', 'O', 'O', 'O', 'O', 'O', 'O', 'O', 'B-SIM', 'O', 'O', 'O', 'O', 'O', 'O', 'O', 'O', 'O', 'O', 'O', 'O', 'O', 'O', 'O', 'O', 'O', 'O', 'O', 'O', 'O', 'O', 'O', 'O', 'O', 'O', 'O', 'O', 'O', 'O', 'O', 'O', 'O', 'O', 'O', 'O', 'O', 'O', 'O', 'O', 'O', 'O', 'O', 'O', 'B-SIM', 'O', 'O', 'O', 'O', 'O', 'O', 'O', 'O', 'O', 'O', 'B-SIM', 'O', 'O', 'O', 'O', 'O', 'O', 'O', 'O', 'O', 'O', 'O', 'O', 'O', 'O', 'O', 'O', 'O', 'O', 'O', 'O', 'O', 'B-SIM', 'O', 'B-COM', 'I-COM', 'I-COM', 'O', 'B-COM', 'I-COM', 'I-COM', 'I-COM', 'O', 'B-COM', 'I-COM', 'I-COM', 'O', 'B-COM', 'I-COM', 'I-COM', 'O', 'B-COM', 'I-COM', 'I-COM', 'I-COM', 'O', 'B-SIM', 'I-SIM', 'O', 'O', 'B-QUE', 'I-QUE', 'I-QUE', 'I-QUE', 'I-QUE', 'I-QUE', 'I-QUE', 'I-QUE', 'O', 'O', 'O', 'O', 'O', 'O', 'O', 'O', 'O', 'B-SIM', 'O', 'O', 'O', 'O', 'O', 'O', 'O', 'O', 'O', 'O', 'O', 'O', 'O', 'O', 'O', 'O', 'B-SIM', 'O', 'B-SIM', 'O', 'B-QUE', 'I-QUE', 'I-QUE', 'I-QUE', 'I-QUE', 'I-QUE', 'I-QUE', 'I-QUE', 'I-QUE', 'I-QUE', 'O', 'B-QUE', 'I-QUE', 'I-QUE', 'I-QUE', 'I-QUE', 'I-QUE', 'I-QUE', 'I-QUE', 'O', 'O', 'B-QUE', 'I-QUE', 'I-QUE', 'I-QUE', 'I-QUE', 'I-QUE', 'I-QUE', 'I-QUE', 'I-QUE', 'I-QUE', 'I-QUE', 'I-QUE', 'I-QUE', 'I-QUE', 'I-QUE', 'I-QUE', 'O'], 'raw_labels': [[472, 483, 'Complex Terms'], [485, 505, 'Complex Terms'], [507, 523, 'Complex Terms'], [525, 547, 'Complex Terms'], [549, 582, 'Complex Terms'], [600, 641, 'Questions'], [798, 855, 'Questions'], [857, 893, 'Questions'], [899, 971, 'Questions'], [11, 27, 'Noun Phrase'], [74, 82, 'Noun Phrase'], [296, 304, 'Noun Phrase'], [350, 357, 'Noun Phrase'], [462, 470, 'Noun Phrase'], [584, 594, 'Noun Phrase'], [683, 691, 'Noun Phrase'], [772, 780, 'Noun Phrase'], [784, 794, 'Noun Phrase']], 'app_name': 'Fitness', 'app_category': 'Health & Fitness'}\n",
      "\n",
      "{'id': 'MAS-P-0245', 'text': \"I track my fitness workouts with this screen. This is one of several mini-workouts I did yesterday. I opened my iPhone to my Home screen on which the Apple Fitness app is displayed, tapped on the Fitness app icon which opened to the Summary screen, looked down to the center of the screen to the Workouts section, and tapped on the most-recent Other workout at the top of that section. That took me to this page where I can monitor various characteristics of my workouts: time of day, time span of workout, total time spent, calories used actively, calories including metabolic rate, heart rate, and where I was when I completed this workout. I can reverse my steps and access other workouts in the same way. The app uses a graphic of three concentric circles to indicate progress in categories of how many calories I've expended moving throughout the day, how much time I've spent working out, and how many hours I made a point to spend at least a minute or two standing. \", 'words': ['I', 'track', 'my', 'fitness', 'workouts', 'with', 'this', 'screen', '.', 'This', 'is', 'one', 'of', 'several', 'mini', '-', 'workouts', 'I', 'did', 'yesterday', '.', 'I', 'opened', 'my', 'iPhone', 'to', 'my', 'Home', 'screen', 'on', 'which', 'the', 'Apple', 'Fitness', 'app', 'is', 'displayed', ',', 'tapped', 'on', 'the', 'Fitness', 'app', 'icon', 'which', 'opened', 'to', 'the', 'Summary', 'screen', ',', 'looked', 'down', 'to', 'the', 'center', 'of', 'the', 'screen', 'to', 'the', 'Workouts', 'section', ',', 'and', 'tapped', 'on', 'the', 'most', '-', 'recent', 'Other', 'workout', 'at', 'the', 'top', 'of', 'that', 'section', '.', 'That', 'took', 'me', 'to', 'this', 'page', 'where', 'I', 'can', 'monitor', 'various', 'characteristics', 'of', 'my', 'workouts', ':', 'time', 'of', 'day', ',', 'time', 'span', 'of', 'workout', ',', 'total', 'time', 'spent', ',', 'calories', 'used', 'actively', ',', 'calories', 'including', 'metabolic', 'rate', ',', 'heart', 'rate', ',', 'and', 'where', 'I', 'was', 'when', 'I', 'completed', 'this', 'workout', '.', 'I', 'can', 'reverse', 'my', 'steps', 'and', 'access', 'other', 'workouts', 'in', 'the', 'same', 'way', '.', 'The', 'app', 'uses', 'a', 'graphic', 'of', 'three', 'concentric', 'circles', 'to', 'indicate', 'progress', 'in', 'categories', 'of', 'how', 'many', 'calories', 'I', \"'ve\", 'expended', 'moving', 'throughout', 'the', 'day', ',', 'how', 'much', 'time', 'I', \"'ve\", 'spent', 'working', 'out', ',', 'and', 'how', 'many', 'hours', 'I', 'made', 'a', 'point', 'to', 'spend', 'at', 'least', 'a', 'minute', 'or', 'two', 'standing', '.'], 'codes': ['O', 'O', 'O', 'B-SIM', 'I-SIM', 'O', 'O', 'O', 'O', 'O', 'O', 'O', 'O', 'O', 'O', 'O', 'B-SIM', 'O', 'O', 'O', 'O', 'O', 'O', 'O', 'O', 'O', 'O', 'O', 'O', 'O', 'O', 'O', 'O', 'O', 'O', 'O', 'O', 'O', 'O', 'O', 'O', 'O', 'O', 'O', 'O', 'O', 'O', 'O', 'O', 'O', 'O', 'O', 'O', 'O', 'O', 'O', 'O', 'O', 'O', 'O', 'O', 'B-SIM', 'O', 'O', 'O', 'O', 'O', 'O', 'O', 'O', 'O', 'O', 'B-SIM', 'O', 'O', 'O', 'O', 'O', 'O', 'O', 'O', 'O', 'O', 'O', 'O', 'O', 'O', 'O', 'O', 'O', 'O', 'O', 'O', 'O', 'B-SIM', 'O', 'B-COM', 'I-COM', 'I-COM', 'O', 'B-COM', 'I-COM', 'I-COM', 'I-COM', 'O', 'B-COM', 'I-COM', 'I-COM', 'O', 'B-COM', 'I-COM', 'I-COM', 'O', 'B-COM', 'I-COM', 'I-COM', 'I-COM', 'O', 'B-SIM', 'I-SIM', 'O', 'O', 'B-QUE', 'I-QUE', 'I-QUE', 'I-QUE', 'I-QUE', 'I-QUE', 'I-QUE', 'I-QUE', 'O', 'O', 'O', 'O', 'O', 'O', 'O', 'O', 'O', 'B-SIM', 'O', 'O', 'O', 'O', 'O', 'O', 'O', 'O', 'O', 'O', 'O', 'O', 'O', 'O', 'O', 'O', 'B-SIM', 'O', 'B-SIM', 'O', 'B-QUE', 'I-QUE', 'I-QUE', 'I-QUE', 'I-QUE', 'I-QUE', 'I-QUE', 'I-QUE', 'I-QUE', 'I-QUE', 'O', 'B-QUE', 'I-QUE', 'I-QUE', 'I-QUE', 'I-QUE', 'I-QUE', 'I-QUE', 'I-QUE', 'O', 'O', 'B-QUE', 'I-QUE', 'I-QUE', 'I-QUE', 'I-QUE', 'I-QUE', 'I-QUE', 'I-QUE', 'I-QUE', 'I-QUE', 'I-QUE', 'I-QUE', 'I-QUE', 'I-QUE', 'I-QUE', 'I-QUE', 'O'], 'raw_labels': [[472, 483, 'Complex Terms'], [485, 505, 'Complex Terms'], [507, 523, 'Complex Terms'], [525, 547, 'Complex Terms'], [549, 582, 'Complex Terms'], [600, 641, 'Questions'], [798, 855, 'Questions'], [857, 893, 'Questions'], [899, 971, 'Questions'], [11, 27, 'Noun Phrase'], [74, 82, 'Noun Phrase'], [296, 304, 'Noun Phrase'], [350, 357, 'Noun Phrase'], [462, 470, 'Noun Phrase'], [584, 594, 'Noun Phrase'], [683, 691, 'Noun Phrase'], [772, 780, 'Noun Phrase'], [784, 794, 'Noun Phrase']], 'app_name': 'Fitness', 'app_category': 'Health & Fitness'}\n",
      "\n",
      "{'id': 'MAS-P-0245', 'text': \"I track my fitness workouts with this screen. This is one of several mini-workouts I did yesterday. I opened my iPhone to my Home screen on which the Apple Fitness app is displayed, tapped on the Fitness app icon which opened to the Summary screen, looked down to the center of the screen to the Workouts section, and tapped on the most-recent Other workout at the top of that section. That took me to this page where I can monitor various characteristics of my workouts: time of day, time span of workout, total time spent, calories used actively, calories including metabolic rate, heart rate, and where I was when I completed this workout. I can reverse my steps and access other workouts in the same way. The app uses a graphic of three concentric circles to indicate progress in categories of how many calories I've expended moving throughout the day, how much time I've spent working out, and how many hours I made a point to spend at least a minute or two standing. \", 'words': ['I', 'track', 'my', 'fitness', 'workouts', 'with', 'this', 'screen', '.', 'This', 'is', 'one', 'of', 'several', 'mini', '-', 'workouts', 'I', 'did', 'yesterday', '.', 'I', 'opened', 'my', 'iPhone', 'to', 'my', 'Home', 'screen', 'on', 'which', 'the', 'Apple', 'Fitness', 'app', 'is', 'displayed', ',', 'tapped', 'on', 'the', 'Fitness', 'app', 'icon', 'which', 'opened', 'to', 'the', 'Summary', 'screen', ',', 'looked', 'down', 'to', 'the', 'center', 'of', 'the', 'screen', 'to', 'the', 'Workouts', 'section', ',', 'and', 'tapped', 'on', 'the', 'most', '-', 'recent', 'Other', 'workout', 'at', 'the', 'top', 'of', 'that', 'section', '.', 'That', 'took', 'me', 'to', 'this', 'page', 'where', 'I', 'can', 'monitor', 'various', 'characteristics', 'of', 'my', 'workouts', ':', 'time', 'of', 'day', ',', 'time', 'span', 'of', 'workout', ',', 'total', 'time', 'spent', ',', 'calories', 'used', 'actively', ',', 'calories', 'including', 'metabolic', 'rate', ',', 'heart', 'rate', ',', 'and', 'where', 'I', 'was', 'when', 'I', 'completed', 'this', 'workout', '.', 'I', 'can', 'reverse', 'my', 'steps', 'and', 'access', 'other', 'workouts', 'in', 'the', 'same', 'way', '.', 'The', 'app', 'uses', 'a', 'graphic', 'of', 'three', 'concentric', 'circles', 'to', 'indicate', 'progress', 'in', 'categories', 'of', 'how', 'many', 'calories', 'I', \"'ve\", 'expended', 'moving', 'throughout', 'the', 'day', ',', 'how', 'much', 'time', 'I', \"'ve\", 'spent', 'working', 'out', ',', 'and', 'how', 'many', 'hours', 'I', 'made', 'a', 'point', 'to', 'spend', 'at', 'least', 'a', 'minute', 'or', 'two', 'standing', '.'], 'codes': ['O', 'O', 'O', 'B-SIM', 'I-SIM', 'O', 'O', 'O', 'O', 'O', 'O', 'O', 'O', 'O', 'O', 'O', 'B-SIM', 'O', 'O', 'O', 'O', 'O', 'O', 'O', 'O', 'O', 'O', 'O', 'O', 'O', 'O', 'O', 'O', 'O', 'O', 'O', 'O', 'O', 'O', 'O', 'O', 'O', 'O', 'O', 'O', 'O', 'O', 'O', 'O', 'O', 'O', 'O', 'O', 'O', 'O', 'O', 'O', 'O', 'O', 'O', 'O', 'B-SIM', 'O', 'O', 'O', 'O', 'O', 'O', 'O', 'O', 'O', 'O', 'B-SIM', 'O', 'O', 'O', 'O', 'O', 'O', 'O', 'O', 'O', 'O', 'O', 'O', 'O', 'O', 'O', 'O', 'O', 'O', 'O', 'O', 'O', 'B-SIM', 'O', 'B-COM', 'I-COM', 'I-COM', 'O', 'B-COM', 'I-COM', 'I-COM', 'I-COM', 'O', 'B-COM', 'I-COM', 'I-COM', 'O', 'B-COM', 'I-COM', 'I-COM', 'O', 'B-COM', 'I-COM', 'I-COM', 'I-COM', 'O', 'B-SIM', 'I-SIM', 'O', 'O', 'B-QUE', 'I-QUE', 'I-QUE', 'I-QUE', 'I-QUE', 'I-QUE', 'I-QUE', 'I-QUE', 'O', 'O', 'O', 'O', 'O', 'O', 'O', 'O', 'O', 'B-SIM', 'O', 'O', 'O', 'O', 'O', 'O', 'O', 'O', 'O', 'O', 'O', 'O', 'O', 'O', 'O', 'O', 'B-SIM', 'O', 'B-SIM', 'O', 'B-QUE', 'I-QUE', 'I-QUE', 'I-QUE', 'I-QUE', 'I-QUE', 'I-QUE', 'I-QUE', 'I-QUE', 'I-QUE', 'O', 'B-QUE', 'I-QUE', 'I-QUE', 'I-QUE', 'I-QUE', 'I-QUE', 'I-QUE', 'I-QUE', 'O', 'O', 'B-QUE', 'I-QUE', 'I-QUE', 'I-QUE', 'I-QUE', 'I-QUE', 'I-QUE', 'I-QUE', 'I-QUE', 'I-QUE', 'I-QUE', 'I-QUE', 'I-QUE', 'I-QUE', 'I-QUE', 'I-QUE', 'O'], 'raw_labels': [[472, 483, 'Complex Terms'], [485, 505, 'Complex Terms'], [507, 523, 'Complex Terms'], [525, 547, 'Complex Terms'], [549, 582, 'Complex Terms'], [600, 641, 'Questions'], [798, 855, 'Questions'], [857, 893, 'Questions'], [899, 971, 'Questions'], [11, 27, 'Noun Phrase'], [74, 82, 'Noun Phrase'], [296, 304, 'Noun Phrase'], [350, 357, 'Noun Phrase'], [462, 470, 'Noun Phrase'], [584, 594, 'Noun Phrase'], [683, 691, 'Noun Phrase'], [772, 780, 'Noun Phrase'], [784, 794, 'Noun Phrase']], 'app_name': 'Fitness', 'app_category': 'Health & Fitness'}\n",
      "\n"
     ]
    }
   ],
   "source": [
    "import json\n",
    "\n",
    "data3 = json.load(open('scenarios-labeled.json'))\n",
    "\n",
    "for scenario_id, scenario in data3.items():\n",
    "    for i in range(len(scenario['codes'])):\n",
    "        codes = set([c[2:] for c in scenario['codes'][i:min(i + 10, len(scenario['codes']))] if len(c) >= 2])\n",
    "        if len(codes) == 3:\n",
    "            print(scenario)\n",
    "            print()\n",
    "                 \n",
    "        "
   ]
  },
  {
   "cell_type": "code",
   "execution_count": null,
   "metadata": {},
   "outputs": [],
   "source": []
  }
 ],
 "metadata": {
  "kernelspec": {
   "display_name": "base",
   "language": "python",
   "name": "base"
  },
  "language_info": {
   "codemirror_mode": {
    "name": "ipython",
    "version": 3
   },
   "file_extension": ".py",
   "mimetype": "text/x-python",
   "name": "python",
   "nbconvert_exporter": "python",
   "pygments_lexer": "ipython3",
   "version": "3.8.5"
  }
 },
 "nbformat": 4,
 "nbformat_minor": 4
}
