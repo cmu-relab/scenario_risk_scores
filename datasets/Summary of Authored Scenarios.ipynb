{
 "cells": [
  {
   "cell_type": "markdown",
   "metadata": {},
   "source": [
    "# Notebook Overview\n",
    "\n",
    "This notebook summarized statistics about the pre- and post-labeled scenario data, \n",
    "excluding author information."
   ]
  },
  {
   "cell_type": "code",
   "execution_count": 1,
   "metadata": {},
   "outputs": [],
   "source": [
    "import json\n",
    "\n",
    "data1 = json.load(open('scenarios-general.json'))\n",
    "data2 = json.load(open('scenarios-privacy.json'))"
   ]
  },
  {
   "cell_type": "code",
   "execution_count": 2,
   "metadata": {},
   "outputs": [],
   "source": [
    "from collections import Counter\n",
    "import nltk\n",
    "\n",
    "apple_url = 'https://apps.apple.com'\n",
    "googl_url = 'https://play.google.com'\n",
    "\n",
    "def summarize(data):\n",
    "    app_urls = Counter()\n",
    "    stores = Counter()\n",
    "    sent_count = 0\n",
    "    for d in data:\n",
    "        # count app url without parameters (Google only)\n",
    "        url = d['app_url'].split('&')[0]\n",
    "        app_urls[url] += 1\n",
    "        \n",
    "        # count app store by url prefix\n",
    "        if url.startswith(apple_url):\n",
    "            stores[apple_url] += 1\n",
    "        elif url.startswith(googl_url):\n",
    "            stores[googl_url] += 1\n",
    "            \n",
    "        # count sentences\n",
    "        sent = nltk.sent_tokenize(d['text'])\n",
    "        sent_count += len(sent)\n",
    "\n",
    "    print('Scenarios: %i' % len(data))\n",
    "    print('Apple App: %i' % stores[apple_url])\n",
    "    print('Google Play: %i' % stores[googl_url])\n",
    "    print('Unique Apps: %i' % len(app_urls.keys()))\n",
    "    print('Sentences: %i' % sent_count)"
   ]
  },
  {
   "cell_type": "code",
   "execution_count": 3,
   "metadata": {},
   "outputs": [
    {
     "name": "stdout",
     "output_type": "stream",
     "text": [
      "*** General Scenarios ***\n",
      "\n",
      "Scenarios: 100\n",
      "Apple App: 38\n",
      "Google Play: 62\n",
      "Unique Apps: 84\n",
      "Sentences: 810\n"
     ]
    }
   ],
   "source": [
    "print('*** General Scenarios ***\\n')\n",
    "summarize(data1)"
   ]
  },
  {
   "cell_type": "code",
   "execution_count": 4,
   "metadata": {},
   "outputs": [
    {
     "name": "stdout",
     "output_type": "stream",
     "text": [
      "*** Privacy Scenarios ***\n",
      "\n",
      "Scenarios: 200\n",
      "Apple App: 68\n",
      "Google Play: 132\n",
      "Unique Apps: 134\n",
      "Sentences: 1616\n"
     ]
    }
   ],
   "source": [
    "print('*** Privacy Scenarios ***\\n')\n",
    "summarize(data2)"
   ]
  },
  {
   "cell_type": "code",
   "execution_count": 7,
   "metadata": {},
   "outputs": [],
   "source": [
    "import json\n",
    "\n",
    "labeled = json.load(open('scenarios-labeled.json'))"
   ]
  },
  {
   "cell_type": "code",
   "execution_count": 8,
   "metadata": {},
   "outputs": [
    {
     "name": "stdout",
     "output_type": "stream",
     "text": [
      "*** General Scenarios ***\n",
      "\n",
      "SIM: 1115\n",
      "QUE: 94\n",
      "COM: 123\n",
      "\n",
      "*** Privacy Scenarios ***\n",
      "\n",
      "SIM: 2409\n",
      "QUE: 243\n",
      "COM: 179\n",
      "\n",
      "Total: 4163\n",
      "Unique: 1881\n"
     ]
    }
   ],
   "source": [
    "entities = {'general': {}, 'privacy': {}}\n",
    "\n",
    "for scenario_id, data in labeled.items():\n",
    "    entity_map = None\n",
    "    if scenario_id.startswith('MAS-G'):\n",
    "        entity_map = entities['general']\n",
    "    else:\n",
    "        entity_map = entities['privacy']\n",
    "    \n",
    "    # identify all the phrases\n",
    "    start = -1\n",
    "    for i, code in enumerate(data['codes']):\n",
    "        if code.startswith('B-'):\n",
    "            start = i\n",
    "        elif code == 'O' and start >= 0:\n",
    "            label = data['codes'][start][2:]\n",
    "            if not label in entity_map:\n",
    "                entity_map[label] = []\n",
    "            entity_map[label].append(' '.join(data['words'][start:i]))\n",
    "            start = -1\n",
    "    if start >= 0:\n",
    "        label = data['codes'][start][2:]\n",
    "        if not label in entity_map:\n",
    "            entity_map[label] = []\n",
    "        entity_map[label].append(' '.join(data['words'][start:]))\n",
    "\n",
    "unique = []\n",
    "print('*** General Scenarios ***\\n')\n",
    "for k, v in entities['general'].items():\n",
    "    print('%s: %i' % (k, len(v)))\n",
    "    unique.extend(v)\n",
    "    \n",
    "print('\\n*** Privacy Scenarios ***\\n')\n",
    "for k, v in entities['privacy'].items():\n",
    "    print('%s: %i' % (k, len(v)))\n",
    "    unique.extend(v)\n",
    "    \n",
    "print('\\nTotal: %i' % len(unique))\n",
    "print('Unique: %i' % len(set(unique)))"
   ]
  },
  {
   "cell_type": "code",
   "execution_count": null,
   "metadata": {},
   "outputs": [],
   "source": []
  },
  {
   "cell_type": "code",
   "execution_count": null,
   "metadata": {},
   "outputs": [],
   "source": []
  }
 ],
 "metadata": {
  "kernelspec": {
   "display_name": "base",
   "language": "python",
   "name": "base"
  },
  "language_info": {
   "codemirror_mode": {
    "name": "ipython",
    "version": 3
   },
   "file_extension": ".py",
   "mimetype": "text/x-python",
   "name": "python",
   "nbconvert_exporter": "python",
   "pygments_lexer": "ipython3",
   "version": "3.8.5"
  }
 },
 "nbformat": 4,
 "nbformat_minor": 4
}
