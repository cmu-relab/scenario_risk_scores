{
 "cells": [
  {
   "cell_type": "markdown",
   "metadata": {},
   "source": [
    "# Notebook Overview\n",
    "\n",
    "This notebook is used to investigate rules to improve the NER model prediction by removing erroneous predictions in a post-processing step. The notebook assumes that the model directory created using the Hugging Face API is linked in the current directory as ./model."
   ]
  },
  {
   "cell_type": "code",
   "execution_count": 6,
   "metadata": {},
   "outputs": [],
   "source": [
    "#! pip install transformers\n",
    "#! pip install torch"
   ]
  },
  {
   "cell_type": "code",
   "execution_count": 7,
   "metadata": {},
   "outputs": [],
   "source": [
    "import transformers\n",
    "from transformers import AutoTokenizer, AutoModelForTokenClassification, pipeline\n",
    "\n",
    "# setup named entity recognizer using pre-trained model\n",
    "tokenizer = AutoTokenizer.from_pretrained(\"./model\")\n",
    "model = AutoModelForTokenClassification.from_pretrained(\"./model\",ignore_mismatched_sizes=True)\n",
    "nlp = pipeline(\"ner\", model=model, tokenizer=tokenizer, aggregation_strategy=\"first\")"
   ]
  },
  {
   "cell_type": "code",
   "execution_count": 8,
   "metadata": {},
   "outputs": [],
   "source": [
    "import json\n",
    "\n",
    "# read and merge the two scenario datasets\n",
    "scenarios = json.load(open('scenarios-general.json'))\n",
    "scenarios.extend(json.load(open('scenarios-privacy.json')))"
   ]
  },
  {
   "cell_type": "code",
   "execution_count": 9,
   "metadata": {},
   "outputs": [
    {
     "name": "stdout",
     "output_type": "stream",
     "text": [
      "300\n"
     ]
    }
   ],
   "source": [
    "print(len(scenarios))"
   ]
  },
  {
   "cell_type": "code",
   "execution_count": 10,
   "metadata": {},
   "outputs": [],
   "source": [
    "# extract entities from the scenario text (long running process)\n",
    "entities = []\n",
    "for scenario in scenarios:\n",
    "    results = nlp(scenario['text'])\n",
    "    for r in results:\n",
    "        r['text'] = scenario['text']\n",
    "        entities.append(r)"
   ]
  },
  {
   "cell_type": "code",
   "execution_count": 11,
   "metadata": {},
   "outputs": [
    {
     "name": "stdout",
     "output_type": "stream",
     "text": [
      "Found 4723 entities across 300 scenarios.\n"
     ]
    }
   ],
   "source": [
    "print('Found %i entities across %i scenarios.' % (len(entities), len(scenarios)))"
   ]
  },
  {
   "cell_type": "code",
   "execution_count": 12,
   "metadata": {},
   "outputs": [
    {
     "name": "stdout",
     "output_type": "stream",
     "text": [
      "Unable to find word 45/4723 boundaries.\n"
     ]
    }
   ],
   "source": [
    "import nltk\n",
    "\n",
    "# returns the start and end word indices for the phrase in words\n",
    "def word_index(words, phrase, start_char):\n",
    "    # correct certain parse errors\n",
    "    extras = [\"' \", \" - \", \" / \"]\n",
    "    for i in range(len(extras)):\n",
    "        j = phrase.find(extras[i])\n",
    "        if j >= 0:\n",
    "            phrase = phrase[:j] + extras[i].strip() + phrase[j+len(extras[i]):]\n",
    "        \n",
    "    # using the start char, find the first and last word index for phrase\n",
    "    char_index = 0\n",
    "    phrase_len = len(phrase.split())\n",
    "    for i in range(len(words)):\n",
    "        char_index += len(words[i])\n",
    "        if char_index + i >= start_char:\n",
    "            j = i\n",
    "            while i < len(words):\n",
    "                if i + phrase_len > len(words):\n",
    "                    return None\n",
    "                elif ' '.join(words[i:i + phrase_len]) == phrase:\n",
    "                    return (i, i + phrase_len)\n",
    "                i += 1\n",
    "    return None\n",
    "\n",
    "# construct word, tag lists for phrase and words to the left and right of phrase\n",
    "errors = 0\n",
    "parsed = {}\n",
    "for e in entities:\n",
    "    # reuse the tagged scenario texts\n",
    "    if not e['text'] in parsed:\n",
    "        tags = nltk.pos_tag(nltk.word_tokenize(e['text']))\n",
    "        parsed[e['text']] = tags\n",
    "    tags = parsed[e['text']]\n",
    "    \n",
    "    # create separate word list and use to estimate word indices from char indices\n",
    "    words = [w for (w, p) in tags]\n",
    "    index = word_index(words, e['word'], e['start'])\n",
    "    \n",
    "    # save the associated word, tag lists\n",
    "    e['p_words'] = nltk.pos_tag(nltk.word_tokenize(e['text'][e['start']:e['end']]))\n",
    "    if not index:\n",
    "        e['l_words'] = []\n",
    "        e['r_words'] = []\n",
    "        errors += 1\n",
    "    else:\n",
    "        e['r_words'] = tags[index[1]:index[1] + 3]\n",
    "        e['l_words'] = tags[index[0] - 3:index[1]]\n",
    "        \n",
    "# report any phrases that could not be indexed\n",
    "print('Unable to find word %i/%i boundaries.' % (errors, len(entities)))"
   ]
  },
  {
   "cell_type": "code",
   "execution_count": 13,
   "metadata": {},
   "outputs": [
    {
     "name": "stdout",
     "output_type": "stream",
     "text": [
      "Filtered from 4723 to 4499 unique entities\n",
      "Excluded 224 entites\n"
     ]
    }
   ],
   "source": [
    "import nltk\n",
    "\n",
    "# filter out incomplete phrases based on a few simple rules\n",
    "filtered = []\n",
    "excluded = []\n",
    "for e in entities:\n",
    "    pos = e['p_words']\n",
    "    # remove phrases ending in 'the', 'a', 'and', 'or,' or 'your', for example\n",
    "    if pos[-1][1].startswith('DT') or pos[-1][1].startswith('CC') or pos[-1][1].startswith('PRP$'):\n",
    "        excluded.append((1, e['word'], pos))\n",
    "    # remove phrases beginning with POS\n",
    "    elif pos[0][1] == 'POS' or pos[0][0] == 'of' or pos[0][1] == 'CC':\n",
    "        excluded.append((3, e['word'], pos))\n",
    "    # remove phrases less than two words not ending in NN or VBG\n",
    "    elif len(pos) == 1 and not pos[0][1].startswith('NN') and not pos[0][1].startswith('VBG'):\n",
    "        excluded.append((2, e['word'], pos))\n",
    "    elif len(pos) == 2 and not pos[0][1].startswith('NN') and not pos[1][1].startswith('NN') and not pos[1][1].startswith('VBG'):\n",
    "        excluded.append((2, e['word'], pos))\n",
    "    else:\n",
    "        filtered.append(e)\n",
    "\n",
    "# print the excluded phrases and rule used to exclude\n",
    "#for i in range(len(excluded)): print(excluded[i])\n",
    "    \n",
    "print('Filtered from %i to %i unique entities' % (len(entities), len(filtered)))\n",
    "print('Excluded %i entites' % len(excluded))\n",
    "\n",
    "# False positives = 0.38 * 4723 = 1571, true positives = 3152\n",
    "# Enhanced precision = 3152 / 4499 = 0.70"
   ]
  },
  {
   "cell_type": "code",
   "execution_count": 14,
   "metadata": {},
   "outputs": [
    {
     "ename": "KeyError",
     "evalue": "'pos'",
     "output_type": "error",
     "traceback": [
      "\u001b[0;31m---------------------------------------------------------------------------\u001b[0m",
      "\u001b[0;31mKeyError\u001b[0m                                  Traceback (most recent call last)",
      "\u001b[0;32m<ipython-input-14-b0aaf787188f>\u001b[0m in \u001b[0;36m<module>\u001b[0;34m\u001b[0m\n\u001b[1;32m      9\u001b[0m     \u001b[0;32melse\u001b[0m\u001b[0;34m:\u001b[0m\u001b[0;34m\u001b[0m\u001b[0;34m\u001b[0m\u001b[0m\n\u001b[1;32m     10\u001b[0m         \u001b[0munique\u001b[0m\u001b[0;34m.\u001b[0m\u001b[0madd\u001b[0m\u001b[0;34m(\u001b[0m\u001b[0mphrase\u001b[0m\u001b[0;34m)\u001b[0m\u001b[0;34m\u001b[0m\u001b[0;34m\u001b[0m\u001b[0m\n\u001b[0;32m---> 11\u001b[0;31m         \u001b[0mresults\u001b[0m\u001b[0;34m.\u001b[0m\u001b[0mappend\u001b[0m\u001b[0;34m(\u001b[0m\u001b[0;34m[\u001b[0m\u001b[0mphrase\u001b[0m\u001b[0;34m,\u001b[0m \u001b[0me\u001b[0m\u001b[0;34m[\u001b[0m\u001b[0;34m'l_words'\u001b[0m\u001b[0;34m]\u001b[0m\u001b[0;34m,\u001b[0m \u001b[0me\u001b[0m\u001b[0;34m[\u001b[0m\u001b[0;34m'r_words'\u001b[0m\u001b[0;34m]\u001b[0m\u001b[0;34m,\u001b[0m \u001b[0me\u001b[0m\u001b[0;34m[\u001b[0m\u001b[0;34m'pos'\u001b[0m\u001b[0;34m]\u001b[0m\u001b[0;34m]\u001b[0m\u001b[0;34m)\u001b[0m\u001b[0;34m\u001b[0m\u001b[0;34m\u001b[0m\u001b[0m\n\u001b[0m\u001b[1;32m     12\u001b[0m \u001b[0;34m\u001b[0m\u001b[0m\n\u001b[1;32m     13\u001b[0m \u001b[0mprint\u001b[0m\u001b[0;34m(\u001b[0m\u001b[0;34m'Found %i unique entities.'\u001b[0m \u001b[0;34m%\u001b[0m \u001b[0mlen\u001b[0m\u001b[0;34m(\u001b[0m\u001b[0munique\u001b[0m\u001b[0;34m)\u001b[0m\u001b[0;34m)\u001b[0m\u001b[0;34m\u001b[0m\u001b[0;34m\u001b[0m\u001b[0m\n",
      "\u001b[0;31mKeyError\u001b[0m: 'pos'"
     ]
    }
   ],
   "source": [
    "# remove duplicate phrases for easier analysis\n",
    "unique = set()\n",
    "results = []\n",
    "duplicate = 0\n",
    "for e in filtered:\n",
    "    phrase = e['word'].lower()\n",
    "    if phrase in unique:\n",
    "        duplicate += 1\n",
    "    else:\n",
    "        unique.add(phrase)\n",
    "        results.append([phrase, e['l_words'], e['r_words'], e['pos']])\n",
    "\n",
    "print('Found %i unique entities.' % len(unique))"
   ]
  },
  {
   "cell_type": "code",
   "execution_count": null,
   "metadata": {},
   "outputs": [],
   "source": [
    "import csv\n",
    "\n",
    "# sort phrases alphabetically\n",
    "results.sort(key=lambda x:x[0])\n",
    "\n",
    "# write phrases to a file\n",
    "with open('information_types.csv', 'w') as f:\n",
    "    writer = csv.writer(f)\n",
    "    for row in results:\n",
    "        writer.writerow(row)"
   ]
  },
  {
   "cell_type": "code",
   "execution_count": null,
   "metadata": {},
   "outputs": [],
   "source": []
  },
  {
   "cell_type": "code",
   "execution_count": null,
   "metadata": {},
   "outputs": [],
   "source": []
  }
 ],
 "metadata": {
  "kernelspec": {
   "display_name": "base",
   "language": "python",
   "name": "base"
  },
  "language_info": {
   "codemirror_mode": {
    "name": "ipython",
    "version": 3
   },
   "file_extension": ".py",
   "mimetype": "text/x-python",
   "name": "python",
   "nbconvert_exporter": "python",
   "pygments_lexer": "ipython3",
   "version": "3.8.5"
  }
 },
 "nbformat": 4,
 "nbformat_minor": 4
}
