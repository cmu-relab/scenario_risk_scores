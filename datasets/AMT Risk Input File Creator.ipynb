{
 "cells": [
  {
   "cell_type": "code",
   "execution_count": 2,
   "metadata": {},
   "outputs": [],
   "source": [
    "import json\n",
    "\n",
    "scenarios = json.load(open('scenarios-risked.json'))\n",
    "app_urls = json.load(open('app-url-dictionary.json'))"
   ]
  },
  {
   "cell_type": "code",
   "execution_count": 7,
   "metadata": {},
   "outputs": [
    {
     "name": "stdout",
     "output_type": "stream",
     "text": [
      "Wrote 100 rows in file: amt-risk-input.csv\n"
     ]
    }
   ],
   "source": [
    "import csv, random\n",
    "\n",
    "random.seed(0)\n",
    "\n",
    "rows = []\n",
    "for scenario in scenarios:\n",
    "    row = [scenario['app_url'], app_urls[scenario['app_url']]['app_name'], scenario['text']]\n",
    "    loc = []\n",
    "    for i in range(1, len(scenario.keys())):\n",
    "        part2_info_loc = 'part2_info%i_loc' % i\n",
    "        part2_false_pos = 'part2_false_pos%i' % i\n",
    "\n",
    "        if part2_false_pos in scenario:\n",
    "            continue\n",
    "        elif not part2_info_loc in scenario:\n",
    "            continue\n",
    "        loc.append(scenario[part2_info_loc])\n",
    "        \n",
    "    if len(loc) > 15:\n",
    "        loc = random.sample(loc, 15)\n",
    "    row.append(','.join(loc))\n",
    "    rows.append(row)\n",
    "    \n",
    "sampled_rows = random.sample(rows, 100)\n",
    "\n",
    "filename = 'amt-risk-input.csv'\n",
    "with open(filename, 'w') as f:\n",
    "    writer = csv.writer(f)\n",
    "    writer.writerow(['app_url', 'app_name', 'scenario_text', 'infotypes'])\n",
    "    writer.writerows(sampled_rows)\n",
    "\n",
    "print('Wrote %i rows in file: %s' % (len(sampled_rows), filename))"
   ]
  },
  {
   "cell_type": "code",
   "execution_count": 8,
   "metadata": {},
   "outputs": [
    {
     "data": {
      "text/plain": [
       "['https://play.google.com/store/apps/details?id=com.skype.raider',\n",
       " 'Skype',\n",
       " \"I use this screen to talk with my friend on Skype from the phone. I type messages to him and as long as be both have internet it is sent to him. We can also send audio messages or images to each other from this screen as well. Finally, we can perform voice calls and talk to each other on the microphone. I'm not sure if it's possible to do a video call from Skype mobile, I've never tried it. I also use the desktop version of this app and it has far more personal information than the mobile version. It's also got all my chat messages, though I don't consider any of the messages on this screen personal enough to redact, but all of it together would be personal information I would not want sent out to the web or to a third party without my authorization. I should also point out that the photo is not real, but were it real that would also be more personal information of both mine and my friends.\",\n",
       " '34:40,73:81,162:176,180:186,251:262,293:303,343:353,524:537,794:799,854:874,883:887,895:902']"
      ]
     },
     "execution_count": 8,
     "metadata": {},
     "output_type": "execute_result"
    }
   ],
   "source": [
    "rows[0]"
   ]
  },
  {
   "cell_type": "code",
   "execution_count": null,
   "metadata": {},
   "outputs": [],
   "source": []
  },
  {
   "cell_type": "code",
   "execution_count": null,
   "metadata": {},
   "outputs": [],
   "source": []
  },
  {
   "cell_type": "code",
   "execution_count": null,
   "metadata": {},
   "outputs": [],
   "source": []
  }
 ],
 "metadata": {
  "kernelspec": {
   "display_name": "base",
   "language": "python",
   "name": "base"
  },
  "language_info": {
   "codemirror_mode": {
    "name": "ipython",
    "version": 3
   },
   "file_extension": ".py",
   "mimetype": "text/x-python",
   "name": "python",
   "nbconvert_exporter": "python",
   "pygments_lexer": "ipython3",
   "version": "3.8.5"
  }
 },
 "nbformat": 4,
 "nbformat_minor": 4
}
