{
 "cells": [
  {
   "cell_type": "markdown",
   "metadata": {},
   "source": [
    "# Notebook Overview\n",
    "\n",
    "This notebook is used to analyze the privacy risk survey responses."
   ]
  },
  {
   "cell_type": "code",
   "execution_count": 2,
   "metadata": {},
   "outputs": [
    {
     "name": "stdout",
     "output_type": "stream",
     "text": [
      "Read 77 scenarios.\n"
     ]
    }
   ],
   "source": [
    "import json\n",
    "\n",
    "scenarios = json.load(open('scenarios-risked.json'))\n",
    "print('Read %i scenarios.' % len(scenarios))"
   ]
  },
  {
   "cell_type": "code",
   "execution_count": 3,
   "metadata": {},
   "outputs": [
    {
     "name": "stdout",
     "output_type": "stream",
     "text": [
      "Scenarios: 77\n",
      "Apple App: 28\n",
      "Google Play: 49\n",
      "Unique Apps: 67\n",
      "Sentences: 602\n"
     ]
    }
   ],
   "source": [
    "from collections import Counter\n",
    "import nltk\n",
    "\n",
    "apple_url = 'https://apps.apple.com'\n",
    "googl_url = 'https://play.google.com'\n",
    "\n",
    "def summarize(data):\n",
    "    app_urls = Counter()\n",
    "    stores = Counter()\n",
    "    sent_count = 0\n",
    "    for d in data:\n",
    "        # count app url without parameters (Google only)\n",
    "        url = d['app_url'].split('&')[0]\n",
    "        app_urls[url] += 1\n",
    "        \n",
    "        # count app store by url prefix\n",
    "        if url.startswith(apple_url):\n",
    "            stores[apple_url] += 1\n",
    "        elif url.startswith(googl_url):\n",
    "            stores[googl_url] += 1\n",
    "            \n",
    "        # count sentences\n",
    "        sent = nltk.sent_tokenize(d['text'])\n",
    "        sent_count += len(sent)\n",
    "\n",
    "    print('Scenarios: %i' % len(data))\n",
    "    print('Apple App: %i' % stores[apple_url])\n",
    "    print('Google Play: %i' % stores[googl_url])\n",
    "    print('Unique Apps: %i' % len(app_urls.keys()))\n",
    "    print('Sentences: %i' % sent_count)\n",
    "    \n",
    "summarize(scenarios)"
   ]
  },
  {
   "cell_type": "code",
   "execution_count": 4,
   "metadata": {},
   "outputs": [
    {
     "name": "stdout",
     "output_type": "stream",
     "text": [
      "usage_freq:\tCounter({'daily': 46, 'weekly': 26, 'monthly': 5})\n",
      "false_pos:\t86\n",
      "scale_usage:\tCounter({'2': 201, '0': 178, '1': 161, '3': 124, '5': 121, '4': 97})\n",
      "avg_infotype:\t12.571428571428571\n",
      "avg_risk:\t2.1859410430839\n",
      "\n",
      "User-perceived Precision: 0.902\n",
      "\n",
      "scale_usage_w:\t339\n",
      "scale_usage_s:\t325\n",
      "scale_usage_u:\t218\n"
     ]
    }
   ],
   "source": [
    "from collections import Counter\n",
    "\n",
    "data = {'usage_freq': Counter(), 'false_pos': 0, 'scale_usage': Counter()}\n",
    "risks = []\n",
    "infos = [[], [], []]\n",
    "info_count = 0\n",
    "for scenario in scenarios:\n",
    "    data['usage_freq'][scenario['usage_freq']] += 1\n",
    "    \n",
    "    risk = []\n",
    "    for i in range(1, len(scenario.keys())):\n",
    "        key_info = 'part2_info%i' % i\n",
    "        key_risk = 'part2_risk%i' % i\n",
    "        key_fp = 'part2_false_pos%i' % i\n",
    "        \n",
    "        if not key_info in scenario:\n",
    "            info_count += i - 1\n",
    "            break\n",
    "        \n",
    "        if key_risk in scenario:\n",
    "            data['scale_usage'][scenario[key_risk]] += 1\n",
    "            scenario[key_risk] = int(scenario[key_risk])\n",
    "            risks.append(scenario[key_risk])\n",
    "            if scenario[key_risk] < 2:\n",
    "                infos[0].append(scenario[key_info])\n",
    "            elif scenario[key_risk] < 4:\n",
    "                infos[1].append(scenario[key_info])\n",
    "            else:\n",
    "                infos[2].append(scenario[key_info])\n",
    "        elif key_fp in scenario:\n",
    "            data['false_pos'] += 1\n",
    "    if len(risk) > 0:\n",
    "        risks.append(sum(risk) / len(risk))\n",
    "\n",
    "data['avg_infotype'] = info_count / len(scenarios)\n",
    "        \n",
    "if len(risks) > 0:\n",
    "    data['avg_risk'] = sum(risks) / len(risks)\n",
    "    \n",
    "for k, v in data.items():\n",
    "    print('%s:\\t%s' % (k, v))\n",
    "\n",
    "info_count = sum([len(infos[0]), len(infos[1]), len(infos[2])])\n",
    "print('\\nUser-perceived Precision: %0.3f' % ((info_count - data['false_pos']) / info_count))\n",
    "    \n",
    "print('\\nscale_usage_w:\\t%i' % (sum([data['scale_usage'][str(i)] for i in [0, 1]])))\n",
    "print('scale_usage_s:\\t%i' % (sum([data['scale_usage'][str(i)] for i in [2, 3]])))\n",
    "print('scale_usage_u:\\t%i' % (sum([data['scale_usage'][str(i)] for i in [4, 5]])))"
   ]
  },
  {
   "cell_type": "code",
   "execution_count": 5,
   "metadata": {},
   "outputs": [
    {
     "name": "stdout",
     "output_type": "stream",
     "text": [
      "Most Willling types\n",
      "\n",
      "['BMI', 'Basal Metabolic Rate', 'Chipotle', 'Episodes', 'Fast chart', 'Foods', 'Like Songs', 'McDonalds Day', 'Pay in 4', 'Perks', 'Pokemon card collection', 'Pokemon card sets', 'QR code', 'Teams', \"What is your employer's industry\", 'account', 'account', 'account', 'account', 'activities', 'activities', 'activity', 'activity goals', 'activity goals', 'activity level', 'age', 'age', 'agreement', 'app summary', 'application', 'audio', 'band', 'bank account', 'bar codes', 'barcode', 'being', 'birthday', 'body mass index', 'bonuses', 'bonuses', 'book', 'boosters', 'burgers', 'buyers', 'caloric intake', 'calorie', 'calorie burn routine', 'calorie burning numbers', 'calorie count setting', 'calories', 'calories', 'calories', 'carbs', 'card', 'cardio', 'cards', 'cash discount', 'cellular service', 'charges', 'clothes merchandise', 'collection', 'collections', 'customer service', 'data', 'database', 'date', 'date wise', 'debit card', 'description', 'device', 'diet goals', 'diet plan', 'discount', 'discounts', 'distance', 'download quality', 'drink', 'drinks', 'drinks', 'eat', 'effort', 'email', 'emotes', 'energy', 'episodes', 'everything that I', 'exact caloric', 'excersizes', 'exercise', 'exercise', 'exercise', 'exercise preference', 'exercises', 'fast', 'fasting', 'fasts', 'fat', 'fat intake', 'feature', 'feature', 'fitness', 'fitness activities', 'fitness class', 'fitness goal', 'fitness goals', 'fitness level', 'fitness plans', 'fitness routine', 'food', 'food', 'food', 'food', 'food calories', 'food information', 'food item', 'food items', 'food product barcodes', 'foods', 'foods', 'for cocktails', 'franchises', 'free items', 'free stuff to redeem', 'friend', 'friends', 'funds', 'game', 'game', 'games', 'gender', 'gender', 'gift cards', 'giveaway', 'goal', 'goals', 'grocery', 'growth line', 'habits', 'head size', 'health and wellness', 'health and wellness goals', 'hearing experience', 'heart-rate data', 'height', 'height', 'height weight', 'household income', 'household items', 'how active I have been', 'how close I am to target for my protein goals', 'how hard i am working out', 'how long they have been around', \"how many calories I've eaten that day\", 'how many hours total I have fasted', 'how many more calories I can have for the day', 'how many people live in my home', 'how many steps I have done so far', 'how much I need to eat in order to drop the weight', 'how much each of the cards in my collection are worth combined', 'how much sleep i have gotten that night', \"how often people are active in each streamer's chats\", 'how tired i am', 'image', 'information', 'information', 'intake', 'internet service', 'item', 'kickbacks', 'kilograms', 'language', 'languages', 'liquor cabinet', 'list of benefits that come from having', 'loyalty', 'lyrics', 'macronutrient', 'macros', 'meal', 'meal plans', 'meals', 'meals', 'meals', 'member', 'membership', 'micro nutrients', 'money', 'motorcycle', 'music', 'name', 'note book', 'number of favorites', 'nutrition', 'nutritional goals', 'nutritional value', 'on a daily', 'option', 'order', 'order', 'orders', 'overall health and wellness', 'owning', 'packs', 'pay', 'payment options', 'payment plans', 'payment provider', 'payments', 'performance', 'perks', 'personal contacts', 'personal detail', 'pets', 'phone numbers', 'phone storage', 'physical condition', 'physical detail', 'physical health', 'placement of the tower', 'players', 'podcast', 'podcast', 'podcast quality', 'podcasts', 'points', 'points', 'popularity', 'position', 'premium time', 'price', 'prices', 'products', 'profile', 'progress', 'progress', 'progress', 'progress consistency', 'progression line', 'promotion', 'purchases', 'quality', 'rating', 'receipt amount', 'recipes', 'recipes', 'recipes', 'recommendation', 'religion', 'reminders', 'renting/', 'report', 'restaurant', 'retailers', 'reward', 'rewards', 'rewards exchange', 'runs', 'signal band', 'signal quality', 'signal strength', 'site', 'sleep patterns', 'social network', 'something random', 'songs', 'stat', 'stats', 'steps', 'steps', 'steps', 'steps', 'stores', 'stories', 'stream', 'streamer', 'streamer', 'streamers', 'streaming quality', 'subject', 'subreddit', 'subscriptions', 'subscriptions', 'supplies', 'surveys', 'team', 'teams', 'terminal', 'that I eat each and every day', 'the exact percentile each child falls', 'the number of calories your body', 'the progress of my change', 'the progression of', 'the signals', 'things that i am very familiar with', 'things that is on that page', 'topic', 'tower', 'tower being', 'towers', 'tracking habits', 'training', 'twitter handle', 'updates', 'updates', 'usage data', 'value', 'viewing time', 'walks', 'water', 'water intake', 'weight', 'weight', 'weight', 'weight', 'weight', 'weight', 'weight', 'weight info', 'weight information', 'weight loss', 'weight loss', 'what I am eating each and every day', 'what I have eaten during the day', 'what I look for', 'what cards I own', 'what i wants to listen', 'what it is that I am eating', 'what my daily activity is like', 'what type of exercises I done', 'whats new on the page', 'whether or not I am hitting my goals that I set for myself', 'who are members of my church', 'word count', 'words', 'workout', 'workout', 'workout harder', 'workouts', \"you've consumed from food and burned from\"]\n"
     ]
    }
   ],
   "source": [
    "print('Most Willling types\\n')\n",
    "print(sorted(infos[0]))"
   ]
  },
  {
   "cell_type": "code",
   "execution_count": 6,
   "metadata": {},
   "outputs": [
    {
     "name": "stdout",
     "output_type": "stream",
     "text": [
      "Most Unwilling Types\n",
      "\n",
      "['Amazon', 'Amazon Prime account', 'Amazon account', 'Calls', 'Charter services', 'Cyber security', 'GPS', 'GPS', 'Group', 'I have done on a given day', 'Money', 'Services', 'TV provider', 'Username', 'account', 'account', 'account', 'account', 'account', 'account information', 'accounts', 'activity', 'address', 'address', 'address', 'address', 'address', 'ads', 'authentication messages', 'authentication process', 'badges', 'bank', 'bank account', 'bank account', 'bank usage', 'budget', 'calendar', 'calls', 'camera', 'cards', 'cards', 'charges', 'charter', 'charter trip', 'chat', 'chatbot conversations', 'checking account', 'checking account number', 'child', 'community', 'community', 'contact', 'contact list', 'contacts', 'contacts', \"contacts'\", 'content', 'conversation', 'conversations', 'conversations', 'credit card information', 'data', 'data usage', 'date', 'deliveries', 'delivery', 'diaries', 'doctor', 'doctors appointments', 'email address', 'email address', 'email address', 'email addresses', 'emails', 'exact', 'family', 'file location', 'finances', 'financial information', 'friend', 'friend', 'friends', 'friends', 'friends', 'full name', 'game lists', 'games', 'hand sanitizer trash bags', 'heart rate', 'history', 'home', 'how I had previously gotten over those issues in my personal life', 'how I want to reply', 'how long I have been trying to reach my goal', 'how many numbers are in my block list', 'how many rewards points I have', 'how much I have earned through various jobs I have done', 'how much money I have coming in and going out every month', 'information', 'information for each of my other', 'issue they tweet', 'location', 'location', 'location', 'location', 'location information', 'locations', 'loss', 'map', 'medical instructions', 'medications', 'members', 'members', 'membership', 'message', 'message thread', 'message threads', 'messages', 'mobile phone data', 'money', 'money', 'moods', 'name', 'name', 'name', 'name', 'names', 'names', 'notifications', 'number', 'number of spam/robocalls that were blocked on my phone', 'numbers', 'online accounts', 'orders', 'over a certain period', 'passcode', 'password', 'password', 'password information', 'payment', 'payment info', 'payment information', 'payment methods', 'payment options', 'people', 'people', 'people', 'people I am already interested in', 'personal information', 'personal problems', 'phone', 'phone number', 'phone number', 'phone numbers', 'photo', 'photo', 'photo', 'picture', 'pictures', 'playlists', 'price', 'privacy settings', 'profile information', 'profile information', 'profile name', 'progress', 'progress', 'promo code', 'purchases', 'purchases', 'recap', 'scheduling', 'server', 'servers', 'services', 'settings', 'shopper', 'spending', 'spending', 'step count', 'stops', 'subscription', 'team members', 'team name', 'text message', 'that are of importance to me', 'the calls that have been blocked', 'thread', 'threads', 'time', 'totals', 'transactions', 'transactions', 'trauma', 'trophies', 'usage', 'usage data', 'username', 'username', 'usernames', 'values', 'verification code', 'video ads', 'voice calls', 'watch', 'we are currently a member', 'weight', 'what a particular person has tweeted', 'what games I have rented', 'what items I usually buy', 'where I am for the day', 'where to deliver', 'whereabouts', 'which ads to show non-subscribers', 'which ones I have on my lists', 'who it must be', 'who to deliver to', 'wireless']\n"
     ]
    }
   ],
   "source": [
    "print('Most Unwilling Types\\n')\n",
    "print(sorted(infos[2]))"
   ]
  },
  {
   "cell_type": "code",
   "execution_count": 22,
   "metadata": {},
   "outputs": [
    {
     "name": "stdout",
     "output_type": "stream",
     "text": [
      "Scale utilization for 77 survey submissions:\n",
      "\n",
      "1: 17\n",
      "2: 19\n",
      "3: 20\n",
      "4: 13\n",
      "5: 6\n",
      "6: 2\n",
      "\n",
      "Scale utilization (W)illing, (U)nwilling and (M)ixed\n",
      "\n",
      "U: [8, 4, 2, 0, 0, 0]\n",
      "W: [9, 11, 5, 0, 0, 0]\n",
      "M: [0, 4, 13, 13, 6, 2]\n",
      "\n",
      "Single-label responses frequencies for 17 authors:\n",
      "\n",
      "Counter({5: 8})\n",
      "Counter({4: 10})\n",
      "Counter({2: 14})\n",
      "Counter({0: 5})\n",
      "Counter({0: 14})\n",
      "Counter({3: 4})\n",
      "Counter({5: 13})\n",
      "Counter({4: 9})\n",
      "Counter({3: 9})\n",
      "Counter({0: 7})\n",
      "Counter({0: 17})\n",
      "Counter({1: 8})\n",
      "Counter({0: 8})\n",
      "Counter({0: 13})\n",
      "Counter({3: 13})\n",
      "Counter({5: 15})\n",
      "Counter({2: 12})\n"
     ]
    }
   ],
   "source": [
    "from collections import Counter\n",
    "\n",
    "# create a nominal distribution from item responses\n",
    "scale_usage = {}\n",
    "for scenario in scenarios:\n",
    "    counter = Counter()\n",
    "    for i in range(1, len(scenario.keys())):\n",
    "        key_info = 'part2_info%i' % i\n",
    "        key_risk = 'part2_risk%i' % i\n",
    "        \n",
    "        if key_risk in scenario:\n",
    "            counter[int(scenario[key_risk])] += 1\n",
    "        \n",
    "    scale_usage[scenario['scenario_id']] = counter\n",
    "\n",
    "# count the number of distributions that only use on response item\n",
    "meta_counter = {1:[], 2:[], 3:[], 4:[], 5:[], 6:[]}\n",
    "scale_counter = Counter({'U':Counter(), 'W':Counter(), 'M':Counter()})\n",
    "for counter in scale_usage.values():\n",
    "    meta_counter[len(counter.keys())].append(counter)\n",
    "    \n",
    "    skew = sum([1 for c in counter.keys() if c < 3])\n",
    "    # if all ratings are < 3\n",
    "    if skew == len(counter):\n",
    "        scale_counter['W'][len(counter.keys())] += 1\n",
    "    # elif all ratings are >= 3\n",
    "    elif skew == 0:\n",
    "        scale_counter['U'][len(counter.keys())] += 1\n",
    "    # else all ratings are mixed, above and below 3\n",
    "    else:\n",
    "        scale_counter['M'][len(counter.keys())] += 1\n",
    "    \n",
    "print('Scale utilization for %i survey submissions:\\n' % len(scenarios))\n",
    "for count in sorted(meta_counter.keys()):\n",
    "    print('%s: %s' % (count, len(meta_counter[count])))\n",
    "\n",
    "print('\\nScale utilization (W)illing, (U)nwilling and (M)ixed\\n')\n",
    "for label, count in scale_counter.items():\n",
    "    usage = [0, 0, 0, 0, 0, 0]\n",
    "    for c, f in count.items():\n",
    "        usage[int(c) - 1] = f\n",
    "    print('%s: %s' % (label, usage))\n",
    "    \n",
    "print('\\nSingle-label responses frequencies for %i authors:\\n' % len(meta_counter[1]))\n",
    "for counter in meta_counter[1]:\n",
    "    print(counter)"
   ]
  },
  {
   "cell_type": "code",
   "execution_count": 11,
   "metadata": {},
   "outputs": [
    {
     "name": "stdout",
     "output_type": "stream",
     "text": [
      "\n",
      "MAS-R-4: To open this screen, I have to log in to the app first. Then I have to click on the icon of the person waving on the bottom navigation bar. I use the friends screen to see which of my friends are online. When they are online, there is a green light next to their name. When they are idle, there is a half moon next to their name. When they are completely offline, there is a grey button next to their names. Then I can reach out to them using a direct message or chat with them on a server that we are both a member of. I can click on their name and see which mutual servers we are currently a member of. I can also use this screen to add new friends by searching for their usernames or *** phone number ***. I can also use this screen to remove friends. The app knows my list of friends and uses that information to populate this screen.\n",
      "Rating: Unwilling\n",
      "Scale usage: 4: 5, 5: 3\n",
      "\n",
      "MAS-R-5: I can talk to the streamer and the other people watching the stream with this chat. I can use emotes that Twitch provide you, or I can use emotes specific to the streamer if I decide to subscribe to the streamer. On desktop, I can download an extension that provides even more emotes that I can use. Chatters cannot see those emotes unless they also have the extension installed. If I ever get banned from the chat, my *** phone number *** will be permanently banned, and I'd have to create a new account in order to chat again. Twitch tracks how often people are active in each streamer's chats. They use such data to determine which ads to show non-subscribers. If you subscribe to a streamer, you also don't have to deal with video ads that play over the stream. The ads sometimes have links that you can click on which redirects you to another site.\n",
      "Rating: Somewhat Willing\n",
      "Scale usage: 0: 5, 2: 1, 3: 1, 4: 7\n",
      "\n",
      "MAS-R-34: I use this screen to navigate to different parts of the app to look up other members.  I go around in here to find people that I need to get in contact with.   There are many people who I will need to look up an address or *** phone number *** for and I can find that information here.  I use this page very regularly.  I like to use this page to find out who are members of my church also.  Sometimes I will need to find out if a new person moved into my area and this app can help me do this.   It will show who is new in the are and where I can find them.  It also gives information on how long they have been around and where they are living.  I use this feature a lot.  \n",
      "Rating: Somewhat Unwilling\n",
      "Scale usage: 1: 2, 2: 6, 3: 3\n",
      "\n",
      "MAS-R-44: This is basicly one of the few screens the app even has, i wanted a very basic app to use as a note book of sorts where i can manage my budget and write down important information. This screen is what i use to cycle through different color notes depending on what i am writing down to remember. important is things like medical instructions, reminders to pick up medications, peoples *** phone numbers *** or doctors appointments or just general things to remember that are of priority to me. Bills is where i manage my monthly finances and you can see that in the background. Amazon stuff is where i put monthly supplies i i need to buy from Amazon things like hand sanitizer trash bags. It doesn't always have to be from Amazon i could buy them from other areas but i just do most my shopping from Amazon so i it's named that for the moment. It's basicly my grocery and needed item list. I can sort them buy priority for instance sort by date will mean they are sorted by last input so if something is important and i just added it important in red will at the top like it is now. There is also different brackets like Notes, Colander and its current setting ALL i don't use these since they seem to all do the same thing and i just leave it on ALL. The color can be changed and change the color to things that are the most important. I wanted a simple system and i choose one.\n",
      "Rating: Very Unwilling\n",
      "Scale usage: 0: 2, 1: 2, 2: 5, 5: 5\n",
      "\n",
      "MAS-R-47: I use this screen to manage and view the contact information and bank account linked to this specific Zelle profile. To get to this screen, I open the app and chose \"Profile\" and then \"Zelle\". Here I can unlink my email address, link a new one, and link, unlink and register my phone number. It's useful not only to edit this information but also to view it in order to ensure that I'm using or supplying someone else with the correct information in order to receive a payment. Sometimes I've had to do this when sending payments to myself from another bank account, as I have had several bank accounts that at times have shared or used similar contact information. I don't think both a email and *** phone number *** are required to use Zelle but I assume that it can be helpful. If you click the \"i\" icon in the top right corner of the container labeled \"Additional contact info\" you will see a brief description of this feature. \n",
      "Rating: Somewhat Willing\n",
      "Scale usage: 1: 1, 2: 9\n",
      "\n",
      "MAS-R-48: This screen allows you to change your Username, which can be done at any time and works in tandem with servers you may be on. (Certain servers may ask that you change your username to match the theme, or for identification purposes within that community you have joined.) It allows you to change your password, or to input a phone number should you need to recover your account due to account theft or anything else that may occur that compromises your account's safety. This page also allows you to enable security measures to protect your account from unwanted access. You can also use this page to manage blocked users who you no longer want to be able to contact you, you may also disable your account here. You interact with this screen by selecting which option you need and following the prompts after to confirm or cancel changes. You can also disable your account, should the need arise, or delete it. The information that is used to support this screen is usually access to your email address, *** phone number *** or authentication device program that is on your phone that confirms that you are who you say you are. This screen is primarily for managing your safety as well as limiting or allowing people to contact you. Anything on this screen is interactable so I would typically click on Username, and it would allow me to change my username in a pop up that arises or a different screen. It may ask for confirmation to get there.\n",
      "Rating: Very Unwilling\n",
      "Scale usage: 4: 1, 5: 7\n",
      "\n",
      "MAS-R-64: The WhatsApp contact screen page allows me to keep in touch with my contacts. The goal of this page is to easily add and manage my contacts. To achieve this goal, I can search for contacts and add them to my contact list. I can also delete contacts, block contacts, or mute conversations. The app uses my contacts' names, *** phone numbers ***, and profile pictures to support this screen. This information is used to identify and display my contacts on the page and to make it easier for me to communicate with them.\n",
      "Rating: Very Willing\n",
      "Scale usage: 0: 1, 2: 1, 4: 2, 5: 4\n"
     ]
    }
   ],
   "source": [
    "# identify scenarios where the same information type is rated at \n",
    "# different risk levels by different users to illustrate context\n",
    "\n",
    "find_examples = ['phone numbers', 'phone number']\n",
    "rating_label = ['Very Willing', 'Willing', 'Somewhat Willing', 'Somewhat Unwilling', 'Unwilling', 'Very Unwilling']\n",
    "\n",
    "for scenario in scenarios:\n",
    "    for i in range(1, len(scenario.keys())):\n",
    "        key_info = 'part2_info%i' % i\n",
    "        key_risk = 'part2_risk%i' % i\n",
    "        \n",
    "        if not key_info in scenario:\n",
    "            break\n",
    "        \n",
    "        if scenario[key_info] in find_examples:\n",
    "            start, end = [int(s) for s in scenario[key_info + '_loc'].split(':')]\n",
    "            text = scenario['text'][:start] + '*** ' + scenario['text'][start:end] + ' ***' + scenario['text'][end:]\n",
    "            print('\\n%s: %s' % (scenario['scenario_id'], text))\n",
    "            print('Rating: %s' % (rating_label[int(scenario[key_risk])]))\n",
    "            \n",
    "            counter = scale_usage[scenario['scenario_id']]\n",
    "            usage = ', '.join(['%s: %s' % (k, counter[k]) for k in sorted(counter.keys())])\n",
    "            print('Scale usage: %s' % usage)\n"
   ]
  },
  {
   "cell_type": "code",
   "execution_count": null,
   "metadata": {},
   "outputs": [],
   "source": []
  }
 ],
 "metadata": {
  "kernelspec": {
   "display_name": "base",
   "language": "python",
   "name": "base"
  },
  "language_info": {
   "codemirror_mode": {
    "name": "ipython",
    "version": 3
   },
   "file_extension": ".py",
   "mimetype": "text/x-python",
   "name": "python",
   "nbconvert_exporter": "python",
   "pygments_lexer": "ipython3",
   "version": "3.8.5"
  }
 },
 "nbformat": 4,
 "nbformat_minor": 4
}
