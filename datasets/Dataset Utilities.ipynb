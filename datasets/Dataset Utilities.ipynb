{
 "cells": [
  {
   "cell_type": "code",
   "execution_count": 56,
   "metadata": {},
   "outputs": [],
   "source": [
    "# extract scenarios and save to JSONL file\n",
    "import json\n",
    "\n",
    "data = []\n",
    "for i, scenario in enumerate(json.load(open('scenarios-labeled.json', 'r'))):\n",
    "    data.append({\n",
    "        'id': i + 1, \n",
    "        'text': scenario['text'], \n",
    "        'label':[] if not 'labels' in scenario else scenario['labels']\n",
    "    })\n",
    "                             \n",
    "with open('scenarios-labeled-input.jsonl', 'w') as f:\n",
    "    for d in data:\n",
    "        f.write(json.dumps(d) + '\\n')"
   ]
  },
  {
   "cell_type": "code",
   "execution_count": 71,
   "metadata": {},
   "outputs": [],
   "source": [
    "# integrate JSONL annotations into scenarios file\n",
    "import json\n",
    "\n",
    "data = [json.loads(s) for s in open('scenarios-risked.jsonl', 'r').readlines()]\n",
    "scenarios = json.load(open('scenarios-risked.json', 'r'))\n",
    "\n",
    "updated = []\n",
    "exclude = [45, 65, 110, 112, 121]\n",
    "for d, s in zip(data, scenarios):\n",
    "    if int(d['id']) in exclude:\n",
    "        continue\n",
    "    \n",
    "    if d['text'] != s['text']:\n",
    "        print('Mismatch at record %i and Scenario ID %s' % (d['id'], s['scenario_id']))\n",
    "    if 'label' in d:\n",
    "        s['labels'] = d['label']\n",
    "    else:\n",
    "        s['labels'] = []\n",
    "    updated.append(s)\n",
    "        \n",
    "json.dump(updated, open('scenarios-risked1.json', 'w'))\n"
   ]
  },
  {
   "cell_type": "code",
   "execution_count": null,
   "metadata": {},
   "outputs": [],
   "source": []
  },
  {
   "cell_type": "code",
   "execution_count": 74,
   "metadata": {},
   "outputs": [
    {
     "data": {
      "text/plain": [
       "{'id': 2,\n",
       " 'text': 'This is the screen that lets me track what games I have rented, and which ones I have on my lists. This screen needs payment and an address in order to function. My goal is to organize my game lists in such a way that I get the games I want at the right time, and that they do not send me less desirable games. To do this I have to order the games in the order I want them, but I also need to take into account the Availity of the games as I do this. The app uses both their in-store counts on what they have, as well as my name and address to know where to send the games. Other than that it also has my payment info as I need to be able to pay for the services that the company provides to me. Lastly, I also have the option to buy the games, so I need to pay for that as well. ',\n",
       " 'label': [[38, 62, 'QUE'],\n",
       "  [68, 97, 'QUE'],\n",
       "  [117, 124, 'SIM'],\n",
       "  [132, 139, 'SIM'],\n",
       "  [193, 198, 'SIM'],\n",
       "  [228, 233, 'SIM'],\n",
       "  [304, 309, 'SIM'],\n",
       "  [342, 347, 'SIM'],\n",
       "  [431, 436, 'SIM'],\n",
       "  [484, 490, 'SIM'],\n",
       "  [524, 528, 'SIM'],\n",
       "  [533, 540, 'SIM'],\n",
       "  [549, 572, 'QUE'],\n",
       "  [613, 617, 'SIM'],\n",
       "  [738, 743, 'SIM']],\n",
       " 'Comments': []}"
      ]
     },
     "execution_count": 74,
     "metadata": {},
     "output_type": "execute_result"
    }
   ],
   "source": [
    "data[175]"
   ]
  },
  {
   "cell_type": "code",
   "execution_count": 54,
   "metadata": {},
   "outputs": [
    {
     "name": "stdout",
     "output_type": "stream",
     "text": [
      "4 = 4567 chars\n",
      "5410\n"
     ]
    }
   ],
   "source": [
    "last_count = 0\n",
    "count = 0\n",
    "for i, d in enumerate(data):\n",
    "    count += len(d['text'])\n",
    "    if count > 5000:\n",
    "        print('%i = %i chars' % (i-1, last_count))\n",
    "        break\n",
    "    last_count = count\n",
    "print(count)"
   ]
  },
  {
   "cell_type": "code",
   "execution_count": 46,
   "metadata": {},
   "outputs": [
    {
     "name": "stdout",
     "output_type": "stream",
     "text": [
      "Edits:  [{'end': 25, 'error_type': 'R:VERB:SVA', 'general_error_type': 'Grammar', 'id': 'bf7bbe22-e822-5fdb-ae72-ee04a74754a2', 'replacement': 'has', 'sentence': 'This app manages and have streaks for variable habits which are very good for us to maintaining regular activities as well they discipline us in order to the data we have provided to them in the app.', 'sentence_start': 102, 'start': 21}, {'end': 95, 'error_type': 'R:VERB:FORM', 'general_error_type': 'Grammar', 'id': '1c2ba86d-338b-52ab-baba-151dab5e9f47', 'replacement': 'maintain', 'sentence': 'This app manages and have streaks for variable habits which are very good for us to maintaining regular activities as well they discipline us in order to the data we have provided to them in the app.', 'sentence_start': 102, 'start': 84}, {'end': 56, 'error_type': 'M:DET:ART', 'general_error_type': 'Grammar', 'id': '3fb1d7ce-c3b3-58ee-8f03-8f966b46f332', 'replacement': 'the', 'sentence': 'They have mentioned and promised that, they will keep my data and information which I have provided will be safe and secure.', 'sentence_start': 302, 'start': 54}, {'end': 83, 'error_type': 'U:DET', 'general_error_type': 'Grammar', 'id': 'bbb6cf77-06da-5829-9cc4-ad67b87b10c6', 'replacement': '', 'sentence': 'They have mentioned and promised that, they will keep my data and information which I have provided will be safe and secure.', 'sentence_start': 302, 'start': 78}, {'end': 9, 'error_type': 'R:WO', 'general_error_type': 'Fluency/Style', 'id': '7cc05a35-4167-5406-b0ec-a9d5251c7ae7', 'replacement': 'They also', 'sentence': 'Also they mentioned that they will monitor my account on behalf of my wellness and discipline with consistency.', 'sentence_start': 427, 'start': 0}, {'end': 72, 'error_type': 'M:PREP', 'general_error_type': 'Grammar', 'id': 'dd3c0e04-74f6-5402-a89e-cbec38bfb9ab', 'replacement': 'that I', 'sentence': 'First, I achieved the goal named \"Regular exercise\" which suggests me to do a 10 minute workout.', 'sentence_start': 539, 'start': 67}, {'end': 179, 'error_type': 'R:WO', 'general_error_type': 'Fluency/Style', 'id': '7c7cb659-3fb0-5237-b878-103a3a8805eb', 'replacement': 'more accomplished', 'sentence': \"After I followed the app's recommendation, I have uploaded my data and the tracker app immediately appreciated me and given a reward which made me happy and felt accomplished more!\", 'sentence_start': 636, 'start': 162}]\n"
     ]
    }
   ],
   "source": [
    "# Test grammary checking facility\n",
    "import requests, uuid\n",
    "\n",
    "key = 'FXR0LFQ6V3QI6E38XSYITD088PZZNG2V'\n",
    "\n",
    "url = 'https://api.sapling.ai/api/v1/edits'\n",
    "post_data = {\n",
    "    'key': key,\n",
    "    'text': data[175]['text'],\n",
    "    'session_id': uuid.uuid4().hex.upper(),\n",
    "}\n",
    "\n",
    "try:\n",
    "    resp = requests.post(url, json=post_data)\n",
    "    resp_json = resp.json()\n",
    "    if 200 <= resp.status_code < 300:\n",
    "      edits = resp_json['edits']\n",
    "      print('Edits: ', edits)\n",
    "    else:\n",
    "      print('Error: ', resp_json)\n",
    "except Exception as e:\n",
    "    print('Error: ', e)"
   ]
  },
  {
   "cell_type": "code",
   "execution_count": 97,
   "metadata": {},
   "outputs": [
    {
     "name": "stdout",
     "output_type": "stream",
     "text": [
      "account information\n",
      "information\n",
      "full name\n",
      "contact info\n",
      "phone number\n",
      "email id\n",
      "identity\n",
      "account ownership\n",
      "control settings\n",
      "password\n",
      "security settings\n",
      "factor authentication\n",
      "logins\n",
      "alerts\n",
      "payment preferences\n",
      "important privacy issues\n",
      "preferences\n",
      "news feed\n",
      "reaction preferences\n",
      "emojis\n",
      "stickers\n",
      "notification preferences\n",
      "shortcuts preferences\n",
      "language\n",
      "region\n",
      "media preferences\n",
      "autoplay\n",
      "data saver\n",
      "video quality\n",
      "themes\n",
      "dark mode\n",
      "light mode\n",
      "visibility settings\n",
      "who can see my posts, stories, and profile\n",
      "\n",
      "Found 35/37 or 0.946\n"
     ]
    }
   ],
   "source": [
    "# extract information types from tagged words\n",
    "import spacy\n",
    "\n",
    "nlp = spacy.load(\"en_core_web_sm\")\n",
    "\n",
    "def find_start_char(doc, head_token):\n",
    "    prefix_tags = ['NOUN', 'ADJ', 'ADP' 'NUM']\n",
    "    exclusions = ['more']\n",
    "    \n",
    "    for i in reversed(range(0, head_token.i)):\n",
    "        if not doc[i].pos_ in prefix_tags or doc[i].text in exclusions:\n",
    "            return doc[i + 1].idx\n",
    "    return head_token.idx\n",
    "\n",
    "def find_end_char(doc, head_token):\n",
    "    prefix_tags = ['NOUN']\n",
    "    \n",
    "    for i in range(head_token.i + 1, len(doc)):\n",
    "        if not doc[i].pos_ in prefix_tags:\n",
    "            return doc[i - 1].idx + len(doc[i - 1].text)\n",
    "    return head_token.idx + len(head_token.text)\n",
    "\n",
    "def get_token(doc, start_char, end_char):\n",
    "    for token in doc:\n",
    "        if token.idx >= start_char and token.idx < end_char:\n",
    "            return token\n",
    "    return None\n",
    "\n",
    "def extract_types(scenario):\n",
    "    extracted = {}\n",
    "    doc = nlp(scenario['text'])\n",
    "    missed = 0\n",
    "    \n",
    "    for label in scenario['label']:\n",
    "        phrase = None\n",
    "        match = []\n",
    "        if label[2] == 'QUE':\n",
    "            phrase = scenario['text'][label[0]:label[1]].lower()\n",
    "            match = [label[0], label[1]]\n",
    "            \n",
    "        elif label[2] == 'SIM':\n",
    "            token = get_token(doc, label[0], label[1])\n",
    "            start = find_start_char(doc, token)\n",
    "            end = find_end_char(doc, token)\n",
    "            phrase = scenario['text'][start:end].lower()\n",
    "            match = [start, end]\n",
    "\n",
    "        if not phrase:\n",
    "            missed += 1\n",
    "            continue\n",
    "        if not phrase in extracted:\n",
    "            extracted[phrase] = []\n",
    "        extracted[phrase].append([start, end])\n",
    "\n",
    "    for phrase, match in extracted.items():\n",
    "        print(phrase)\n",
    "\n",
    "    print('\\nFound %i/%i or %0.3f' % (\n",
    "        len(scenario['label']) - missed,\n",
    "        len(scenario['label']),\n",
    "        (len(scenario['label']) - missed) / len(scenario['label'])\n",
    "    ))\n",
    "        \n",
    "extract_types(data[2])"
   ]
  },
  {
   "cell_type": "code",
   "execution_count": null,
   "metadata": {},
   "outputs": [],
   "source": []
  }
 ],
 "metadata": {
  "kernelspec": {
   "display_name": "base",
   "language": "python",
   "name": "base"
  },
  "language_info": {
   "codemirror_mode": {
    "name": "ipython",
    "version": 3
   },
   "file_extension": ".py",
   "mimetype": "text/x-python",
   "name": "python",
   "nbconvert_exporter": "python",
   "pygments_lexer": "ipython3",
   "version": "3.8.5"
  }
 },
 "nbformat": 4,
 "nbformat_minor": 4
}
