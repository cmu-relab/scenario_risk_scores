{
 "cells": [
  {
   "cell_type": "code",
   "execution_count": 108,
   "metadata": {},
   "outputs": [],
   "source": [
    "import pandas as pd"
   ]
  },
  {
   "cell_type": "code",
   "execution_count": 109,
   "metadata": {},
   "outputs": [],
   "source": [
    "import sklearn"
   ]
  },
  {
   "cell_type": "code",
   "execution_count": 110,
   "metadata": {},
   "outputs": [],
   "source": [
    "import sklearn_crfsuite"
   ]
  },
  {
   "cell_type": "code",
   "execution_count": 111,
   "metadata": {},
   "outputs": [],
   "source": [
    "from sklearn.model_selection import train_test_split\n",
    "from sklearn_crfsuite import CRF\n",
    "from sklearn_crfsuite.metrics import flat_f1_score\n",
    "from sklearn_crfsuite.metrics import flat_classification_report"
   ]
  },
  {
   "cell_type": "code",
   "execution_count": 112,
   "metadata": {},
   "outputs": [],
   "source": [
    "df1 = pd.read_json('scenarios-labeled.json', encoding = \"ISO-8859-1\")"
   ]
  },
  {
   "cell_type": "code",
   "execution_count": 113,
   "metadata": {},
   "outputs": [
    {
     "data": {
      "text/html": [
       "<div>\n",
       "<style scoped>\n",
       "    .dataframe tbody tr th:only-of-type {\n",
       "        vertical-align: middle;\n",
       "    }\n",
       "\n",
       "    .dataframe tbody tr th {\n",
       "        vertical-align: top;\n",
       "    }\n",
       "\n",
       "    .dataframe thead th {\n",
       "        text-align: right;\n",
       "    }\n",
       "</style>\n",
       "<table border=\"1\" class=\"dataframe\">\n",
       "  <thead>\n",
       "    <tr style=\"text-align: right;\">\n",
       "      <th></th>\n",
       "      <th>Sentence</th>\n",
       "      <th>Token</th>\n",
       "      <th>POS</th>\n",
       "      <th>Tag</th>\n",
       "    </tr>\n",
       "  </thead>\n",
       "  <tbody>\n",
       "  </tbody>\n",
       "</table>\n",
       "</div>"
      ],
      "text/plain": [
       "Empty DataFrame\n",
       "Columns: [Sentence, Token, POS, Tag]\n",
       "Index: []"
      ]
     },
     "execution_count": 113,
     "metadata": {},
     "output_type": "execute_result"
    }
   ],
   "source": [
    "df = pd.read_csv('scenarios-labeled.csv', encoding = \"ISO-8859-1\")\n",
    "df.head(10)"
   ]
  },
  {
   "cell_type": "code",
   "execution_count": 114,
   "metadata": {},
   "outputs": [],
   "source": [
    "import json\n",
    "file = open(\"scenarios-labeled.json\", 'r')\n",
    "data = json.load(file)\n",
    "x = list(data.values())[0]['words']\n",
    "#x[0]"
   ]
  },
  {
   "cell_type": "code",
   "execution_count": 115,
   "metadata": {},
   "outputs": [
    {
     "name": "stdout",
     "output_type": "stream",
     "text": [
      "Requirement already satisfied: nltk in /usr/local/lib/python3.10/site-packages (3.8.1)\n",
      "Requirement already satisfied: joblib in /usr/local/lib/python3.10/site-packages (from nltk) (1.2.0)\n",
      "Requirement already satisfied: tqdm in /usr/local/lib/python3.10/site-packages (from nltk) (4.64.1)\n",
      "Requirement already satisfied: regex>=2021.8.3 in /usr/local/lib/python3.10/site-packages (from nltk) (2022.10.31)\n",
      "Requirement already satisfied: click in /usr/local/lib/python3.10/site-packages (from nltk) (8.1.3)\n",
      "\n",
      "\u001b[1m[\u001b[0m\u001b[34;49mnotice\u001b[0m\u001b[1;39;49m]\u001b[0m\u001b[39;49m A new release of pip available: \u001b[0m\u001b[31;49m22.3.1\u001b[0m\u001b[39;49m -> \u001b[0m\u001b[32;49m23.0.1\u001b[0m\n",
      "\u001b[1m[\u001b[0m\u001b[34;49mnotice\u001b[0m\u001b[1;39;49m]\u001b[0m\u001b[39;49m To update, run: \u001b[0m\u001b[32;49mpython3.10 -m pip install --upgrade pip\u001b[0m\n"
     ]
    },
    {
     "name": "stderr",
     "output_type": "stream",
     "text": [
      "[nltk_data] Downloading package universal_tagset to\n",
      "[nltk_data]     /Users/vaishnavi/nltk_data...\n",
      "[nltk_data]   Package universal_tagset is already up-to-date!\n",
      "[nltk_data] Downloading package averaged_perceptron_tagger to\n",
      "[nltk_data]     /Users/vaishnavi/nltk_data...\n",
      "[nltk_data]   Package averaged_perceptron_tagger is already up-to-\n",
      "[nltk_data]       date!\n"
     ]
    }
   ],
   "source": [
    "import sys\n",
    "!{sys.executable} -m pip install nltk\n",
    "import nltk\n",
    "nltk.download('universal_tagset')\n",
    "nltk.download('averaged_perceptron_tagger')\n",
    "\n",
    "index = 0\n",
    "for x in list(data.values()):\n",
    "    word_list = x['words']\n",
    "    y = nltk.pos_tag(word_list, tagset='universal')\n",
    "    for word in word_list:\n",
    "        df.at[index, 'Token'] = word\n",
    "        i = 0\n",
    "        df.at[index, 'POS'] = y[i][1]\n",
    "        i += 1\n",
    "        index += 1"
   ]
  },
  {
   "cell_type": "code",
   "execution_count": 116,
   "metadata": {},
   "outputs": [
    {
     "data": {
      "text/plain": [
       "0          From\n",
       "1          this\n",
       "2        screen\n",
       "3             ,\n",
       "4             I\n",
       "          ...  \n",
       "56026    social\n",
       "56027      life\n",
       "56028       out\n",
       "56029     there\n",
       "56030         .\n",
       "Name: Token, Length: 56031, dtype: object"
      ]
     },
     "execution_count": 116,
     "metadata": {},
     "output_type": "execute_result"
    }
   ],
   "source": [
    "df.Token"
   ]
  },
  {
   "cell_type": "code",
   "execution_count": 117,
   "metadata": {},
   "outputs": [
    {
     "data": {
      "text/plain": [
       "0        ADP\n",
       "1        ADP\n",
       "2        ADP\n",
       "3        ADP\n",
       "4        ADP\n",
       "        ... \n",
       "56026    ADJ\n",
       "56027    ADJ\n",
       "56028    ADJ\n",
       "56029    ADJ\n",
       "56030    ADJ\n",
       "Name: POS, Length: 56031, dtype: object"
      ]
     },
     "execution_count": 117,
     "metadata": {},
     "output_type": "execute_result"
    }
   ],
   "source": [
    "df.POS"
   ]
  },
  {
   "cell_type": "code",
   "execution_count": 118,
   "metadata": {},
   "outputs": [
    {
     "data": {
      "text/plain": [
       "0        O\n",
       "1        O\n",
       "2        O\n",
       "3        O\n",
       "4        O\n",
       "        ..\n",
       "56026    O\n",
       "56027    O\n",
       "56028    O\n",
       "56029    O\n",
       "56030    O\n",
       "Name: Tag, Length: 56031, dtype: object"
      ]
     },
     "execution_count": 118,
     "metadata": {},
     "output_type": "execute_result"
    }
   ],
   "source": [
    "index = 0\n",
    "for x in list(data.values()):\n",
    "    codes_list = x['codes']\n",
    "    for code in codes_list:\n",
    "        df.at[index, 'Tag'] = code\n",
    "        index += 1\n",
    "\n",
    "df.Tag"
   ]
  },
  {
   "cell_type": "code",
   "execution_count": 119,
   "metadata": {},
   "outputs": [
    {
     "data": {
      "text/plain": [
       "0           1\n",
       "1           1\n",
       "2           1\n",
       "3           1\n",
       "4           1\n",
       "         ... \n",
       "56026    2420\n",
       "56027    2420\n",
       "56028    2420\n",
       "56029    2420\n",
       "56030    2420\n",
       "Name: Sentence, Length: 56031, dtype: object"
      ]
     },
     "execution_count": 119,
     "metadata": {},
     "output_type": "execute_result"
    }
   ],
   "source": [
    "sentence_number = 1\n",
    "flag = 0\n",
    "for i in range(0, 56031):\n",
    "    if(df.at[i, 'Token'] == \".\" or df.at[i, 'Token'] == \"?\" or df.at[i, 'Token'] == \"!\"):\n",
    "        flag = 1\n",
    "        df.at[i, 'Sentence'] = sentence_number\n",
    "    if(flag == 1):\n",
    "        sentence_number += 1\n",
    "        flag = 0\n",
    "    else:\n",
    "        df.at[i, 'Sentence'] = sentence_number\n",
    "\n",
    "df.Sentence"
   ]
  },
  {
   "cell_type": "code",
   "execution_count": 120,
   "metadata": {},
   "outputs": [
    {
     "data": {
      "text/html": [
       "<div>\n",
       "<style scoped>\n",
       "    .dataframe tbody tr th:only-of-type {\n",
       "        vertical-align: middle;\n",
       "    }\n",
       "\n",
       "    .dataframe tbody tr th {\n",
       "        vertical-align: top;\n",
       "    }\n",
       "\n",
       "    .dataframe thead th {\n",
       "        text-align: right;\n",
       "    }\n",
       "</style>\n",
       "<table border=\"1\" class=\"dataframe\">\n",
       "  <thead>\n",
       "    <tr style=\"text-align: right;\">\n",
       "      <th></th>\n",
       "      <th>Sentence</th>\n",
       "      <th>Token</th>\n",
       "      <th>POS</th>\n",
       "      <th>Tag</th>\n",
       "    </tr>\n",
       "  </thead>\n",
       "  <tbody>\n",
       "    <tr>\n",
       "      <th>0</th>\n",
       "      <td>1</td>\n",
       "      <td>From</td>\n",
       "      <td>ADP</td>\n",
       "      <td>O</td>\n",
       "    </tr>\n",
       "    <tr>\n",
       "      <th>1</th>\n",
       "      <td>1</td>\n",
       "      <td>this</td>\n",
       "      <td>ADP</td>\n",
       "      <td>O</td>\n",
       "    </tr>\n",
       "    <tr>\n",
       "      <th>2</th>\n",
       "      <td>1</td>\n",
       "      <td>screen</td>\n",
       "      <td>ADP</td>\n",
       "      <td>O</td>\n",
       "    </tr>\n",
       "    <tr>\n",
       "      <th>3</th>\n",
       "      <td>1</td>\n",
       "      <td>,</td>\n",
       "      <td>ADP</td>\n",
       "      <td>O</td>\n",
       "    </tr>\n",
       "    <tr>\n",
       "      <th>4</th>\n",
       "      <td>1</td>\n",
       "      <td>I</td>\n",
       "      <td>ADP</td>\n",
       "      <td>O</td>\n",
       "    </tr>\n",
       "    <tr>\n",
       "      <th>5</th>\n",
       "      <td>1</td>\n",
       "      <td>like</td>\n",
       "      <td>ADP</td>\n",
       "      <td>O</td>\n",
       "    </tr>\n",
       "    <tr>\n",
       "      <th>6</th>\n",
       "      <td>1</td>\n",
       "      <td>to</td>\n",
       "      <td>ADP</td>\n",
       "      <td>O</td>\n",
       "    </tr>\n",
       "    <tr>\n",
       "      <th>7</th>\n",
       "      <td>1</td>\n",
       "      <td>search</td>\n",
       "      <td>ADP</td>\n",
       "      <td>O</td>\n",
       "    </tr>\n",
       "    <tr>\n",
       "      <th>8</th>\n",
       "      <td>1</td>\n",
       "      <td>for</td>\n",
       "      <td>ADP</td>\n",
       "      <td>O</td>\n",
       "    </tr>\n",
       "    <tr>\n",
       "      <th>9</th>\n",
       "      <td>1</td>\n",
       "      <td>anything</td>\n",
       "      <td>ADP</td>\n",
       "      <td>O</td>\n",
       "    </tr>\n",
       "  </tbody>\n",
       "</table>\n",
       "</div>"
      ],
      "text/plain": [
       "  Sentence     Token  POS Tag\n",
       "0        1      From  ADP   O\n",
       "1        1      this  ADP   O\n",
       "2        1    screen  ADP   O\n",
       "3        1         ,  ADP   O\n",
       "4        1         I  ADP   O\n",
       "5        1      like  ADP   O\n",
       "6        1        to  ADP   O\n",
       "7        1    search  ADP   O\n",
       "8        1       for  ADP   O\n",
       "9        1  anything  ADP   O"
      ]
     },
     "execution_count": 120,
     "metadata": {},
     "output_type": "execute_result"
    }
   ],
   "source": [
    "df.head(10)"
   ]
  },
  {
   "cell_type": "code",
   "execution_count": 121,
   "metadata": {},
   "outputs": [
    {
     "data": {
      "text/html": [
       "<div>\n",
       "<style scoped>\n",
       "    .dataframe tbody tr th:only-of-type {\n",
       "        vertical-align: middle;\n",
       "    }\n",
       "\n",
       "    .dataframe tbody tr th {\n",
       "        vertical-align: top;\n",
       "    }\n",
       "\n",
       "    .dataframe thead th {\n",
       "        text-align: right;\n",
       "    }\n",
       "</style>\n",
       "<table border=\"1\" class=\"dataframe\">\n",
       "  <thead>\n",
       "    <tr style=\"text-align: right;\">\n",
       "      <th></th>\n",
       "      <th>MAS-G-0001</th>\n",
       "      <th>MAS-G-0002</th>\n",
       "      <th>MAS-G-0003</th>\n",
       "      <th>MAS-G-0004</th>\n",
       "      <th>MAS-G-0005</th>\n",
       "      <th>MAS-G-0006</th>\n",
       "      <th>MAS-G-0007</th>\n",
       "      <th>MAS-G-0008</th>\n",
       "      <th>MAS-G-0009</th>\n",
       "      <th>MAS-G-0010</th>\n",
       "      <th>...</th>\n",
       "      <th>MAS-P-0291</th>\n",
       "      <th>MAS-P-0292</th>\n",
       "      <th>MAS-P-0293</th>\n",
       "      <th>MAS-P-0294</th>\n",
       "      <th>MAS-P-0295</th>\n",
       "      <th>MAS-P-0296</th>\n",
       "      <th>MAS-P-0297</th>\n",
       "      <th>MAS-P-0298</th>\n",
       "      <th>MAS-P-0299</th>\n",
       "      <th>MAS-P-0300</th>\n",
       "    </tr>\n",
       "  </thead>\n",
       "  <tbody>\n",
       "    <tr>\n",
       "      <th>id</th>\n",
       "      <td>MAS-G-0001</td>\n",
       "      <td>MAS-G-0002</td>\n",
       "      <td>MAS-G-0003</td>\n",
       "      <td>MAS-G-0004</td>\n",
       "      <td>MAS-G-0005</td>\n",
       "      <td>MAS-G-0006</td>\n",
       "      <td>MAS-G-0007</td>\n",
       "      <td>MAS-G-0008</td>\n",
       "      <td>MAS-G-0009</td>\n",
       "      <td>MAS-G-0010</td>\n",
       "      <td>...</td>\n",
       "      <td>MAS-P-0291</td>\n",
       "      <td>MAS-P-0292</td>\n",
       "      <td>MAS-P-0293</td>\n",
       "      <td>MAS-P-0294</td>\n",
       "      <td>MAS-P-0295</td>\n",
       "      <td>MAS-P-0296</td>\n",
       "      <td>MAS-P-0297</td>\n",
       "      <td>MAS-P-0298</td>\n",
       "      <td>MAS-P-0299</td>\n",
       "      <td>MAS-P-0300</td>\n",
       "    </tr>\n",
       "    <tr>\n",
       "      <th>clean_text</th>\n",
       "      <td>From this screen, I like to search for anythin...</td>\n",
       "      <td>I always keep a track of which games are going...</td>\n",
       "      <td>On this screen I want to put together a shoppi...</td>\n",
       "      <td>I use this screen by reading the posts to see ...</td>\n",
       "      <td>This is the general screen on wild rift that I...</td>\n",
       "      <td>I use this screen to add items to an errands l...</td>\n",
       "      <td>This screen allows me to get the currency conv...</td>\n",
       "      <td>This page/screen helps me choose which videos ...</td>\n",
       "      <td>The goal that I wish to achieve on the Popular...</td>\n",
       "      <td>To find out what is going on with the world, I...</td>\n",
       "      <td>...</td>\n",
       "      <td>I would use this screen to remove my personal ...</td>\n",
       "      <td>I use this page as my ledger when I am seeing ...</td>\n",
       "      <td>This is the profile section of Instagram where...</td>\n",
       "      <td>Sunday Evenings I usually look at my daily ste...</td>\n",
       "      <td>I use this screen to edit the permissions i gi...</td>\n",
       "      <td>The screen shot that is pictured above is the ...</td>\n",
       "      <td>I use this screen to edit my screen name and g...</td>\n",
       "      <td>I can either change my phone number or delete ...</td>\n",
       "      <td>The goal of using this screen is to order some...</td>\n",
       "      <td>Most often, I use this screen whenever I am th...</td>\n",
       "    </tr>\n",
       "    <tr>\n",
       "      <th>words</th>\n",
       "      <td>[From, this, screen, ,, I, like, to, search, f...</td>\n",
       "      <td>[I, always, keep, a, track, of, which, games, ...</td>\n",
       "      <td>[On, this, screen, I, want, to, put, together,...</td>\n",
       "      <td>[I, use, this, screen, by, reading, the, posts...</td>\n",
       "      <td>[This, is, the, general, screen, on, wild, rif...</td>\n",
       "      <td>[I, use, this, screen, to, add, items, to, an,...</td>\n",
       "      <td>[This, screen, allows, me, to, get, the, curre...</td>\n",
       "      <td>[This, page, /, screen, helps, me, choose, whi...</td>\n",
       "      <td>[The, goal, that, I, wish, to, achieve, on, th...</td>\n",
       "      <td>[To, find, out, what, is, going, on, with, the...</td>\n",
       "      <td>...</td>\n",
       "      <td>[I, would, use, this, screen, to, remove, my, ...</td>\n",
       "      <td>[I, use, this, page, as, my, ledger, when, I, ...</td>\n",
       "      <td>[This, is, the, profile, section, of, Instagra...</td>\n",
       "      <td>[Sunday, Evenings, I, usually, look, at, my, d...</td>\n",
       "      <td>[I, use, this, screen, to, edit, the, permissi...</td>\n",
       "      <td>[The, screen, shot, that, is, pictured, above,...</td>\n",
       "      <td>[I, use, this, screen, to, edit, my, screen, n...</td>\n",
       "      <td>[I, can, either, change, my, phone, number, or...</td>\n",
       "      <td>[The, goal, of, using, this, screen, is, to, o...</td>\n",
       "      <td>[Most, often, ,, I, use, this, screen, wheneve...</td>\n",
       "    </tr>\n",
       "    <tr>\n",
       "      <th>codes</th>\n",
       "      <td>[O, O, O, O, O, O, O, O, O, O, O, B-Noun Phras...</td>\n",
       "      <td>[O, O, O, O, O, O, B-Questions, I-Questions, I...</td>\n",
       "      <td>[O, O, O, O, O, O, O, O, O, B-Noun Phrase, I-N...</td>\n",
       "      <td>[O, O, O, O, O, O, O, B-Noun Phrase, O, O, O, ...</td>\n",
       "      <td>[O, O, O, O, O, O, O, O, O, O, O, O, O, O, O, ...</td>\n",
       "      <td>[O, O, O, O, O, O, B-Noun Phrase, O, O, B-Noun...</td>\n",
       "      <td>[O, O, O, O, O, O, O, B-Noun Phrase, I-Noun Ph...</td>\n",
       "      <td>[O, O, O, O, O, O, O, O, B-Noun Phrase, O, O, ...</td>\n",
       "      <td>[O, O, O, O, O, O, O, O, O, O, B-Noun Phrase, ...</td>\n",
       "      <td>[O, O, O, B-Questions, I-Questions, I-Question...</td>\n",
       "      <td>...</td>\n",
       "      <td>[O, O, O, O, O, O, O, O, B-Noun Phrase, I-Noun...</td>\n",
       "      <td>[O, O, O, O, O, O, O, O, O, O, O, O, O, B-Noun...</td>\n",
       "      <td>[O, O, O, B-Noun Phrase, O, O, O, O, O, O, O, ...</td>\n",
       "      <td>[O, O, O, O, O, O, O, O, B-Noun Phrase, I-Noun...</td>\n",
       "      <td>[O, O, O, O, O, O, O, B-Noun Phrase, O, O, O, ...</td>\n",
       "      <td>[O, O, O, O, O, O, O, O, O, B-Noun Phrase, O, ...</td>\n",
       "      <td>[O, O, O, O, O, O, O, B-Noun Phrase, I-Noun Ph...</td>\n",
       "      <td>[O, O, O, O, O, B-Noun Phrase, I-Noun Phrase, ...</td>\n",
       "      <td>[O, O, O, O, O, O, O, O, O, O, O, O, O, O, O, ...</td>\n",
       "      <td>[O, O, O, O, O, O, O, O, O, O, O, O, O, O, B-N...</td>\n",
       "    </tr>\n",
       "  </tbody>\n",
       "</table>\n",
       "<p>4 rows × 300 columns</p>\n",
       "</div>"
      ],
      "text/plain": [
       "                                                   MAS-G-0001  \\\n",
       "id                                                 MAS-G-0001   \n",
       "clean_text  From this screen, I like to search for anythin...   \n",
       "words       [From, this, screen, ,, I, like, to, search, f...   \n",
       "codes       [O, O, O, O, O, O, O, O, O, O, O, B-Noun Phras...   \n",
       "\n",
       "                                                   MAS-G-0002  \\\n",
       "id                                                 MAS-G-0002   \n",
       "clean_text  I always keep a track of which games are going...   \n",
       "words       [I, always, keep, a, track, of, which, games, ...   \n",
       "codes       [O, O, O, O, O, O, B-Questions, I-Questions, I...   \n",
       "\n",
       "                                                   MAS-G-0003  \\\n",
       "id                                                 MAS-G-0003   \n",
       "clean_text  On this screen I want to put together a shoppi...   \n",
       "words       [On, this, screen, I, want, to, put, together,...   \n",
       "codes       [O, O, O, O, O, O, O, O, O, B-Noun Phrase, I-N...   \n",
       "\n",
       "                                                   MAS-G-0004  \\\n",
       "id                                                 MAS-G-0004   \n",
       "clean_text  I use this screen by reading the posts to see ...   \n",
       "words       [I, use, this, screen, by, reading, the, posts...   \n",
       "codes       [O, O, O, O, O, O, O, B-Noun Phrase, O, O, O, ...   \n",
       "\n",
       "                                                   MAS-G-0005  \\\n",
       "id                                                 MAS-G-0005   \n",
       "clean_text  This is the general screen on wild rift that I...   \n",
       "words       [This, is, the, general, screen, on, wild, rif...   \n",
       "codes       [O, O, O, O, O, O, O, O, O, O, O, O, O, O, O, ...   \n",
       "\n",
       "                                                   MAS-G-0006  \\\n",
       "id                                                 MAS-G-0006   \n",
       "clean_text  I use this screen to add items to an errands l...   \n",
       "words       [I, use, this, screen, to, add, items, to, an,...   \n",
       "codes       [O, O, O, O, O, O, B-Noun Phrase, O, O, B-Noun...   \n",
       "\n",
       "                                                   MAS-G-0007  \\\n",
       "id                                                 MAS-G-0007   \n",
       "clean_text  This screen allows me to get the currency conv...   \n",
       "words       [This, screen, allows, me, to, get, the, curre...   \n",
       "codes       [O, O, O, O, O, O, O, B-Noun Phrase, I-Noun Ph...   \n",
       "\n",
       "                                                   MAS-G-0008  \\\n",
       "id                                                 MAS-G-0008   \n",
       "clean_text  This page/screen helps me choose which videos ...   \n",
       "words       [This, page, /, screen, helps, me, choose, whi...   \n",
       "codes       [O, O, O, O, O, O, O, O, B-Noun Phrase, O, O, ...   \n",
       "\n",
       "                                                   MAS-G-0009  \\\n",
       "id                                                 MAS-G-0009   \n",
       "clean_text  The goal that I wish to achieve on the Popular...   \n",
       "words       [The, goal, that, I, wish, to, achieve, on, th...   \n",
       "codes       [O, O, O, O, O, O, O, O, O, O, B-Noun Phrase, ...   \n",
       "\n",
       "                                                   MAS-G-0010  ...  \\\n",
       "id                                                 MAS-G-0010  ...   \n",
       "clean_text  To find out what is going on with the world, I...  ...   \n",
       "words       [To, find, out, what, is, going, on, with, the...  ...   \n",
       "codes       [O, O, O, B-Questions, I-Questions, I-Question...  ...   \n",
       "\n",
       "                                                   MAS-P-0291  \\\n",
       "id                                                 MAS-P-0291   \n",
       "clean_text  I would use this screen to remove my personal ...   \n",
       "words       [I, would, use, this, screen, to, remove, my, ...   \n",
       "codes       [O, O, O, O, O, O, O, O, B-Noun Phrase, I-Noun...   \n",
       "\n",
       "                                                   MAS-P-0292  \\\n",
       "id                                                 MAS-P-0292   \n",
       "clean_text  I use this page as my ledger when I am seeing ...   \n",
       "words       [I, use, this, page, as, my, ledger, when, I, ...   \n",
       "codes       [O, O, O, O, O, O, O, O, O, O, O, O, O, B-Noun...   \n",
       "\n",
       "                                                   MAS-P-0293  \\\n",
       "id                                                 MAS-P-0293   \n",
       "clean_text  This is the profile section of Instagram where...   \n",
       "words       [This, is, the, profile, section, of, Instagra...   \n",
       "codes       [O, O, O, B-Noun Phrase, O, O, O, O, O, O, O, ...   \n",
       "\n",
       "                                                   MAS-P-0294  \\\n",
       "id                                                 MAS-P-0294   \n",
       "clean_text  Sunday Evenings I usually look at my daily ste...   \n",
       "words       [Sunday, Evenings, I, usually, look, at, my, d...   \n",
       "codes       [O, O, O, O, O, O, O, O, B-Noun Phrase, I-Noun...   \n",
       "\n",
       "                                                   MAS-P-0295  \\\n",
       "id                                                 MAS-P-0295   \n",
       "clean_text  I use this screen to edit the permissions i gi...   \n",
       "words       [I, use, this, screen, to, edit, the, permissi...   \n",
       "codes       [O, O, O, O, O, O, O, B-Noun Phrase, O, O, O, ...   \n",
       "\n",
       "                                                   MAS-P-0296  \\\n",
       "id                                                 MAS-P-0296   \n",
       "clean_text  The screen shot that is pictured above is the ...   \n",
       "words       [The, screen, shot, that, is, pictured, above,...   \n",
       "codes       [O, O, O, O, O, O, O, O, O, B-Noun Phrase, O, ...   \n",
       "\n",
       "                                                   MAS-P-0297  \\\n",
       "id                                                 MAS-P-0297   \n",
       "clean_text  I use this screen to edit my screen name and g...   \n",
       "words       [I, use, this, screen, to, edit, my, screen, n...   \n",
       "codes       [O, O, O, O, O, O, O, B-Noun Phrase, I-Noun Ph...   \n",
       "\n",
       "                                                   MAS-P-0298  \\\n",
       "id                                                 MAS-P-0298   \n",
       "clean_text  I can either change my phone number or delete ...   \n",
       "words       [I, can, either, change, my, phone, number, or...   \n",
       "codes       [O, O, O, O, O, B-Noun Phrase, I-Noun Phrase, ...   \n",
       "\n",
       "                                                   MAS-P-0299  \\\n",
       "id                                                 MAS-P-0299   \n",
       "clean_text  The goal of using this screen is to order some...   \n",
       "words       [The, goal, of, using, this, screen, is, to, o...   \n",
       "codes       [O, O, O, O, O, O, O, O, O, O, O, O, O, O, O, ...   \n",
       "\n",
       "                                                   MAS-P-0300  \n",
       "id                                                 MAS-P-0300  \n",
       "clean_text  Most often, I use this screen whenever I am th...  \n",
       "words       [Most, often, ,, I, use, this, screen, wheneve...  \n",
       "codes       [O, O, O, O, O, O, O, O, O, O, O, O, O, O, B-N...  \n",
       "\n",
       "[4 rows x 300 columns]"
      ]
     },
     "execution_count": 121,
     "metadata": {},
     "output_type": "execute_result"
    }
   ],
   "source": [
    "df1.head(10)"
   ]
  },
  {
   "cell_type": "code",
   "execution_count": 122,
   "metadata": {},
   "outputs": [
    {
     "name": "stdout",
     "output_type": "stream",
     "text": [
      "      Sentence   Token  POS Tag\n",
      "0            1    From  ADP   O\n",
      "1            1    this  ADP   O\n",
      "2            1  screen  ADP   O\n",
      "3            1       ,  ADP   O\n",
      "4            1       I  ADP   O\n",
      "...        ...     ...  ...  ..\n",
      "56026     2420  social  ADJ   O\n",
      "56027     2420    life  ADJ   O\n",
      "56028     2420     out  ADJ   O\n",
      "56029     2420   there  ADJ   O\n",
      "56030     2420       .  ADJ   O\n",
      "\n",
      "[56031 rows x 4 columns]\n"
     ]
    }
   ],
   "source": [
    "print(df)"
   ]
  },
  {
   "cell_type": "code",
   "execution_count": 123,
   "metadata": {},
   "outputs": [
    {
     "data": {
      "text/html": [
       "<div>\n",
       "<style scoped>\n",
       "    .dataframe tbody tr th:only-of-type {\n",
       "        vertical-align: middle;\n",
       "    }\n",
       "\n",
       "    .dataframe tbody tr th {\n",
       "        vertical-align: top;\n",
       "    }\n",
       "\n",
       "    .dataframe thead th {\n",
       "        text-align: right;\n",
       "    }\n",
       "</style>\n",
       "<table border=\"1\" class=\"dataframe\">\n",
       "  <thead>\n",
       "    <tr style=\"text-align: right;\">\n",
       "      <th></th>\n",
       "      <th>Sentence</th>\n",
       "      <th>Token</th>\n",
       "      <th>POS</th>\n",
       "      <th>Tag</th>\n",
       "    </tr>\n",
       "  </thead>\n",
       "  <tbody>\n",
       "    <tr>\n",
       "      <th>count</th>\n",
       "      <td>56031</td>\n",
       "      <td>56031</td>\n",
       "      <td>56031</td>\n",
       "      <td>56031</td>\n",
       "    </tr>\n",
       "    <tr>\n",
       "      <th>unique</th>\n",
       "      <td>2420</td>\n",
       "      <td>4112</td>\n",
       "      <td>10</td>\n",
       "      <td>8</td>\n",
       "    </tr>\n",
       "    <tr>\n",
       "      <th>top</th>\n",
       "      <td>814</td>\n",
       "      <td>I</td>\n",
       "      <td>PRON</td>\n",
       "      <td>O</td>\n",
       "    </tr>\n",
       "    <tr>\n",
       "      <th>freq</th>\n",
       "      <td>206</td>\n",
       "      <td>2646</td>\n",
       "      <td>24152</td>\n",
       "      <td>47097</td>\n",
       "    </tr>\n",
       "  </tbody>\n",
       "</table>\n",
       "</div>"
      ],
      "text/plain": [
       "        Sentence  Token    POS    Tag\n",
       "count      56031  56031  56031  56031\n",
       "unique      2420   4112     10      8\n",
       "top          814      I   PRON      O\n",
       "freq         206   2646  24152  47097"
      ]
     },
     "execution_count": 123,
     "metadata": {},
     "output_type": "execute_result"
    }
   ],
   "source": [
    "df.describe()"
   ]
  },
  {
   "cell_type": "code",
   "execution_count": 124,
   "metadata": {},
   "outputs": [
    {
     "data": {
      "text/plain": [
       "array(['O', 'B-Noun Phrase', 'I-Noun Phrase', 'B-Questions',\n",
       "       'I-Questions', 'B-Complex Terms', 'I-Complex Terms', '-'],\n",
       "      dtype=object)"
      ]
     },
     "execution_count": 124,
     "metadata": {},
     "output_type": "execute_result"
    }
   ],
   "source": [
    "#Displaying the unique Tags\n",
    "df['Tag'].unique()"
   ]
  },
  {
   "cell_type": "code",
   "execution_count": 125,
   "metadata": {},
   "outputs": [
    {
     "data": {
      "text/plain": [
       "Sentence    0\n",
       "Token       0\n",
       "POS         0\n",
       "Tag         0\n",
       "dtype: int64"
      ]
     },
     "execution_count": 125,
     "metadata": {},
     "output_type": "execute_result"
    }
   ],
   "source": [
    "#Checking null values, if any.\n",
    "df.isnull().sum()"
   ]
  },
  {
   "cell_type": "code",
   "execution_count": 126,
   "metadata": {},
   "outputs": [],
   "source": [
    "df = df.fillna(method = 'ffill')"
   ]
  },
  {
   "cell_type": "code",
   "execution_count": 127,
   "metadata": {},
   "outputs": [],
   "source": [
    "# This is a class te get sentence. The each sentence will be list of tuples with its tag and pos.\n",
    "class sentence(object):\n",
    "    def __init__(self, df):\n",
    "        self.n_sent = 1\n",
    "        self.df = df\n",
    "        self.empty = False\n",
    "        agg = lambda s : [(w, p, t) for w, p, t in zip(s['Token'].values.tolist(),\n",
    "                                                       s['POS'].values.tolist(),\n",
    "                                                       s['Tag'].values.tolist())]\n",
    "        self.grouped = self.df.groupby(\"Sentence\").apply(agg)\n",
    "        self.sentences = [s for s in self.grouped]\n",
    "        \n",
    "    def get_text(self):\n",
    "        try:\n",
    "            s = self.grouped['Sentence: {}'.format(self.n_sent)]\n",
    "            self.n_sent +=1\n",
    "            return s\n",
    "        except:\n",
    "            return None"
   ]
  },
  {
   "cell_type": "code",
   "execution_count": 128,
   "metadata": {},
   "outputs": [
    {
     "data": {
      "text/plain": [
       "'From this screen , I like to search for anything from recipes , to home decor , to people , etc .'"
      ]
     },
     "execution_count": 128,
     "metadata": {},
     "output_type": "execute_result"
    }
   ],
   "source": [
    "#Displaying one full sentence\n",
    "getter = sentence(df)\n",
    "sentences = [\" \".join([s[0] for s in sent]) for sent in getter.sentences]\n",
    "sentences[0]"
   ]
  },
  {
   "cell_type": "code",
   "execution_count": 129,
   "metadata": {},
   "outputs": [
    {
     "name": "stdout",
     "output_type": "stream",
     "text": [
      "None\n"
     ]
    }
   ],
   "source": [
    "#sentence with its pos and tag.\n",
    "sent = getter.get_text()\n",
    "print(sent)"
   ]
  },
  {
   "cell_type": "code",
   "execution_count": 130,
   "metadata": {},
   "outputs": [],
   "source": [
    "sentences = getter.sentences"
   ]
  },
  {
   "cell_type": "code",
   "execution_count": 131,
   "metadata": {},
   "outputs": [],
   "source": [
    "def word2features(sent, i):\n",
    "    word = sent[i][0]\n",
    "    postag = sent[i][1]\n",
    "\n",
    "    features = {\n",
    "        'bias': 1.0,\n",
    "        'word.lower()': word.lower(),\n",
    "        'word[-3:]': word[-3:],\n",
    "        'word[-2:]': word[-2:],\n",
    "        'word.isupper()': word.isupper(),\n",
    "        'word.istitle()': word.istitle(),\n",
    "        'word.isdigit()': word.isdigit(),\n",
    "        'postag': postag,\n",
    "        'postag[:2]': postag[:2],\n",
    "    }\n",
    "    if i > 0:\n",
    "        word1 = sent[i-1][0]\n",
    "        postag1 = sent[i-1][1]\n",
    "        features.update({\n",
    "            '-1:word.lower()': word1.lower(),\n",
    "            '-1:word.istitle()': word1.istitle(),\n",
    "            '-1:word.isupper()': word1.isupper(),\n",
    "            '-1:postag': postag1,\n",
    "            '-1:postag[:2]': postag1[:2],\n",
    "        })\n",
    "    else:\n",
    "        features['BOS'] = True\n",
    "\n",
    "    if i < len(sent)-1:\n",
    "        word1 = sent[i+1][0]\n",
    "        postag1 = sent[i+1][1]\n",
    "        features.update({\n",
    "            '+1:word.lower()': word1.lower(),\n",
    "            '+1:word.istitle()': word1.istitle(),\n",
    "            '+1:word.isupper()': word1.isupper(),\n",
    "            '+1:postag': postag1,\n",
    "            '+1:postag[:2]': postag1[:2],\n",
    "        })\n",
    "    else:\n",
    "        features['EOS'] = True\n",
    "\n",
    "    return features\n",
    "\n",
    "\n",
    "def sent2features(sent):\n",
    "    return [word2features(sent, i) for i in range(len(sent))]\n",
    "\n",
    "def sent2labels(sent):\n",
    "    return [label for token, postag, label in sent]\n",
    "\n",
    "def sent2tokens(sent):\n",
    "    return [token for token, postag, label in sent]"
   ]
  },
  {
   "cell_type": "code",
   "execution_count": 132,
   "metadata": {},
   "outputs": [],
   "source": [
    "X = [sent2features(s) for s in sentences]\n",
    "y = [sent2labels(s) for s in sentences]"
   ]
  },
  {
   "cell_type": "code",
   "execution_count": 133,
   "metadata": {},
   "outputs": [],
   "source": [
    "X_train, X_test, y_train, y_test = train_test_split(X, y, test_size = 0.2)"
   ]
  },
  {
   "cell_type": "code",
   "execution_count": 134,
   "metadata": {},
   "outputs": [],
   "source": [
    "crf = CRF(algorithm = 'lbfgs',\n",
    "         c1 = 0.1,\n",
    "         c2 = 0.1,\n",
    "         max_iterations = 100,\n",
    "         all_possible_transitions = False)"
   ]
  },
  {
   "cell_type": "code",
   "execution_count": 135,
   "metadata": {},
   "outputs": [],
   "source": [
    "try:\n",
    "    crf.fit(X_train, y_train)\n",
    "except AttributeError:\n",
    "    pass"
   ]
  },
  {
   "cell_type": "code",
   "execution_count": 136,
   "metadata": {},
   "outputs": [],
   "source": [
    "y_pred = crf.predict(X_test)"
   ]
  },
  {
   "cell_type": "code",
   "execution_count": 137,
   "metadata": {},
   "outputs": [
    {
     "name": "stdout",
     "output_type": "stream",
     "text": [
      "0.8962955798933244\n"
     ]
    }
   ],
   "source": [
    "f1_score = flat_f1_score(y_test, y_pred, average = 'weighted')\n",
    "print(f1_score)"
   ]
  },
  {
   "cell_type": "code",
   "execution_count": 138,
   "metadata": {},
   "outputs": [
    {
     "name": "stdout",
     "output_type": "stream",
     "text": [
      "0.9048751486325802\n"
     ]
    }
   ],
   "source": [
    "from sklearn_crfsuite.metrics import flat_recall_score\n",
    "recall_score = flat_recall_score(y_test, y_pred, average = 'weighted')\n",
    "print(recall_score)"
   ]
  },
  {
   "cell_type": "code",
   "execution_count": 139,
   "metadata": {},
   "outputs": [
    {
     "name": "stdout",
     "output_type": "stream",
     "text": [
      "0.8932764662989274\n"
     ]
    },
    {
     "name": "stderr",
     "output_type": "stream",
     "text": [
      "/usr/local/lib/python3.10/site-packages/sklearn/metrics/_classification.py:1344: UndefinedMetricWarning: Precision is ill-defined and being set to 0.0 in labels with no predicted samples. Use `zero_division` parameter to control this behavior.\n",
      "  _warn_prf(average, modifier, msg_start, len(result))\n"
     ]
    }
   ],
   "source": [
    "from sklearn_crfsuite.metrics import flat_precision_score\n",
    "precision_score = flat_precision_score(y_test, y_pred, average = 'weighted')\n",
    "print(precision_score)"
   ]
  }
 ],
 "metadata": {
  "kernelspec": {
   "display_name": "Python 3",
   "language": "python",
   "name": "python3"
  },
  "language_info": {
   "codemirror_mode": {
    "name": "ipython",
    "version": 3
   },
   "file_extension": ".py",
   "mimetype": "text/x-python",
   "name": "python",
   "nbconvert_exporter": "python",
   "pygments_lexer": "ipython3",
   "version": "3.10.8"
  },
  "vscode": {
   "interpreter": {
    "hash": "aee8b7b246df8f9039afb4144a1f6fd8d2ca17a180786b69acc140d282b71a49"
   }
  }
 },
 "nbformat": 4,
 "nbformat_minor": 4
}
