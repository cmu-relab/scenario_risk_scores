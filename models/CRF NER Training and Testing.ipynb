{
 "cells": [
  {
   "cell_type": "code",
   "execution_count": 1,
   "metadata": {},
   "outputs": [],
   "source": [
    "# https://sklearn-crfsuite.readthedocs.io/en/latest/tutorial.html#let-s-use-conll-2002-data-to-build-a-ner-system\n",
    "# functions to create NER features\n",
    "\n",
    "def word2features(sent, i):\n",
    "    word = sent[i][0]\n",
    "    postag = sent[i][1]\n",
    "\n",
    "    features = {\n",
    "        'bias': 1.0,\n",
    "        'word.lower()': word.lower(),\n",
    "        'word[-3:]': word[-3:],\n",
    "        'word[-2:]': word[-2:],\n",
    "        'word.isupper()': word.isupper(),\n",
    "        'word.istitle()': word.istitle(),\n",
    "        'word.isdigit()': word.isdigit(),\n",
    "        'postag': postag,\n",
    "        'postag[:2]': postag[:2],\n",
    "    }\n",
    "    if i > 0:\n",
    "        word1 = sent[i-1][0]\n",
    "        postag1 = sent[i-1][1]\n",
    "        features.update({\n",
    "            '-1:word.lower()': word1.lower(),\n",
    "            '-1:word.istitle()': word1.istitle(),\n",
    "            '-1:word.isupper()': word1.isupper(),\n",
    "            '-1:postag': postag1,\n",
    "            '-1:postag[:2]': postag1[:2],\n",
    "        })\n",
    "    else:\n",
    "        features['BOS'] = True\n",
    "\n",
    "    if i < len(sent)-1:\n",
    "        word1 = sent[i+1][0]\n",
    "        postag1 = sent[i+1][1]\n",
    "        features.update({\n",
    "            '+1:word.lower()': word1.lower(),\n",
    "            '+1:word.istitle()': word1.istitle(),\n",
    "            '+1:word.isupper()': word1.isupper(),\n",
    "            '+1:postag': postag1,\n",
    "            '+1:postag[:2]': postag1[:2],\n",
    "        })\n",
    "    else:\n",
    "        features['EOS'] = True\n",
    "\n",
    "    return features\n",
    "\n",
    "\n",
    "def sent2features(sent):\n",
    "    return [word2features(sent, i) for i in range(len(sent))]\n",
    "\n",
    "def sent2labels(sent):\n",
    "    return [label for token, postag, label in sent]\n",
    "\n",
    "def sent2tokens(sent):\n",
    "    return [token for token, postag, label in sent]"
   ]
  },
  {
   "cell_type": "code",
   "execution_count": 2,
   "metadata": {},
   "outputs": [],
   "source": [
    "import json\n",
    "\n",
    "if False:\n",
    "    # convert the sentence-word triples into features\n",
    "    dataset = json.load(open('sentences-training-9.json'))\n",
    "\n",
    "    X_train = [sent2features(s['tokens']) for s in dataset['train']]\n",
    "    y_train = [sent2labels(s['tokens']) for s in dataset['train']]\n",
    "    X_test = [sent2features(s['tokens']) for s in dataset['test']]\n",
    "    y_test = [sent2labels(s['tokens']) for s in dataset['test']]\n",
    "else:\n",
    "    # convert the sentence-word triples into features\n",
    "    dataset = json.load(open('scenarios-training-N.json'))\n",
    "\n",
    "    X_train = [sent2features(s) for scenario in dataset['train'] for s in scenario['tokens']]\n",
    "    y_train = [sent2labels(s) for scenario in dataset['train'] for s in scenario['tokens']]\n",
    "    X_test = [sent2features(s) for scenario in dataset['test'] for s in scenario['tokens']]\n",
    "    y_test = [sent2labels(s) for scenario in dataset['test'] for s in scenario['tokens']]"
   ]
  },
  {
   "cell_type": "code",
   "execution_count": 3,
   "metadata": {},
   "outputs": [],
   "source": [
    "from sklearn.model_selection import train_test_split\n",
    "from sklearn_crfsuite import CRF\n",
    "\n",
    "# split the data into train and test sets\n",
    "#X_train, X_test, y_train, y_test = train_test_split(X, y, test_size = 0.2)\n",
    "\n",
    "# create and fit the model\n",
    "crf = CRF(algorithm = 'lbfgs',\n",
    "         c1 = 0.335955589737437,\n",
    "         c2 = 0.05948353066282411,\n",
    "         max_iterations = 100,\n",
    "         all_possible_transitions = False)\n",
    "\n",
    "crf.fit(X_train, y_train)\n",
    "\n",
    "labels = list(crf.classes_)\n",
    "labels.remove('O')"
   ]
  },
  {
   "cell_type": "code",
   "execution_count": 4,
   "metadata": {
    "scrolled": true
   },
   "outputs": [
    {
     "name": "stdout",
     "output_type": "stream",
     "text": [
      "              precision    recall  f1-score   support\n",
      "\n",
      "       B-COM       0.50      0.07      0.12        46\n",
      "       B-QUE       0.77      0.62      0.69        77\n",
      "       B-SIM       0.62      0.61      0.62       674\n",
      "       I-COM       0.34      0.05      0.09       196\n",
      "       I-QUE       0.66      0.57      0.61       499\n",
      "       I-SIM       0.37      0.31      0.33       117\n",
      "           O       0.92      0.96      0.94      7526\n",
      "\n",
      "    accuracy                           0.88      9135\n",
      "   macro avg       0.60      0.45      0.48      9135\n",
      "weighted avg       0.86      0.88      0.86      9135\n",
      "\n"
     ]
    }
   ],
   "source": [
    "from sklearn.metrics import classification_report\n",
    "import numpy as np\n",
    "\n",
    "# evaluate the model on the text data\n",
    "y_pred = crf.predict(X_test)\n",
    "\n",
    "# prepare and print the evaluation report\n",
    "y_test_flat = np.array([x for y in y_test for x in y ])\n",
    "y_pred_flat = np.array([x for y in y_pred for x in y ])\n",
    "\n",
    "print(classification_report(y_test_flat, y_pred_flat))"
   ]
  },
  {
   "cell_type": "code",
   "execution_count": 5,
   "metadata": {},
   "outputs": [
    {
     "name": "stdout",
     "output_type": "stream",
     "text": [
      "              precision    recall  f1-score   support\n",
      "\n",
      "         COM       0.33      0.04      0.08        46\n",
      "         QUE       0.55      0.44      0.49        78\n",
      "         SIM       0.61      0.61      0.61       674\n",
      "\n",
      "   micro avg       0.61      0.56      0.58       798\n",
      "   macro avg       0.50      0.36      0.39       798\n",
      "weighted avg       0.59      0.56      0.57       798\n",
      "\n"
     ]
    }
   ],
   "source": [
    "from seqeval.metrics import classification_report\n",
    "\n",
    "print(classification_report(y_test, y_pred))"
   ]
  },
  {
   "cell_type": "code",
   "execution_count": 6,
   "metadata": {},
   "outputs": [],
   "source": [
    "import pickle\n",
    "\n",
    "# write model to file\n",
    "with open('crf.model', 'wb') as f:\n",
    "    pickle.dump(crf, f, protocol=pickle.HIGHEST_PROTOCOL)"
   ]
  },
  {
   "cell_type": "code",
   "execution_count": null,
   "metadata": {},
   "outputs": [],
   "source": []
  },
  {
   "cell_type": "code",
   "execution_count": null,
   "metadata": {},
   "outputs": [],
   "source": []
  }
 ],
 "metadata": {
  "kernelspec": {
   "display_name": "base",
   "language": "python",
   "name": "base"
  },
  "language_info": {
   "codemirror_mode": {
    "name": "ipython",
    "version": 3
   },
   "file_extension": ".py",
   "mimetype": "text/x-python",
   "name": "python",
   "nbconvert_exporter": "python",
   "pygments_lexer": "ipython3",
   "version": "3.8.5"
  },
  "vscode": {
   "interpreter": {
    "hash": "aee8b7b246df8f9039afb4144a1f6fd8d2ca17a180786b69acc140d282b71a49"
   }
  }
 },
 "nbformat": 4,
 "nbformat_minor": 4
}
